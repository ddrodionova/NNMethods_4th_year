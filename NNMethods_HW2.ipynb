{
  "nbformat": 4,
  "nbformat_minor": 0,
  "metadata": {
    "colab": {
      "name": "NNMethods_HW2.ipynb",
      "provenance": []
    },
    "kernelspec": {
      "name": "python3",
      "display_name": "Python 3"
    },
    "language_info": {
      "name": "python"
    }
  },
  "cells": [
    {
      "cell_type": "markdown",
      "metadata": {
        "id": "a4khTHOMO5We"
      },
      "source": [
        "# Neural Networks in NLP HW 2"
      ]
    },
    {
      "cell_type": "markdown",
      "metadata": {
        "id": "ffzzHwTaO-8g"
      },
      "source": [
        "## Дарья Родионова БКЛ182"
      ]
    },
    {
      "cell_type": "markdown",
      "metadata": {
        "id": "lQMjlt-Bl_HJ"
      },
      "source": [
        "Импортируем нужные модули."
      ]
    },
    {
      "cell_type": "code",
      "metadata": {
        "id": "8XrlQb1ZPiMr"
      },
      "source": [
        "import pandas as pd\n",
        "import numpy as np\n",
        "from string import punctuation\n",
        "from collections import Counter\n",
        "import re\n",
        "import matplotlib.pyplot as plt\n",
        "\n",
        "from sklearn.model_selection import train_test_split\n",
        "from sklearn.utils import shuffle\n",
        "import torch\n",
        "import torch.nn as nn\n",
        "import torch.nn.functional as F\n",
        "from torchmetrics.functional import f1\n",
        "from torch.utils.data import Dataset, DataLoader, RandomSampler, SequentialSampler\n",
        "from torch.nn.utils.rnn import pad_sequence\n",
        "import torch.optim as optim\n",
        "from gensim.models import FastText\n",
        "import ipdb\n",
        "import spacy\n",
        "import tqdm"
      ],
      "execution_count": 1,
      "outputs": []
    },
    {
      "cell_type": "markdown",
      "metadata": {
        "id": "ydVf9LkNmOQ3"
      },
      "source": [
        "Скачиваем твиты."
      ]
    },
    {
      "cell_type": "code",
      "metadata": {
        "id": "pmABC2f5Qvfp"
      },
      "source": [
        "pos_tweets = pd.read_csv('positive.csv', encoding='utf-8', sep=';', header=None,  names=[0,1,2,'text','tone',5,6,7,8,9,10,11])\n",
        "neg_tweets = pd.read_csv('negative.csv', encoding='utf-8', sep=';', header=None, names=[0,1,2,'text','tone',5,6,7,8,9,10,11])\n",
        "all_tweets_data = pos_tweets.append(neg_tweets)"
      ],
      "execution_count": 2,
      "outputs": []
    },
    {
      "cell_type": "code",
      "metadata": {
        "id": "MZCSFR73RaxN"
      },
      "source": [
        "all_tweets_data = pos_tweets.append(neg_tweets)\n",
        "all_tweets_data.tone.replace({-1: 0}, inplace=True)\n",
        "all_tweets_data = shuffle(all_tweets_data[['text','tone']])[:100000]"
      ],
      "execution_count": 3,
      "outputs": []
    },
    {
      "cell_type": "markdown",
      "metadata": {
        "id": "bhU3A8KNmfCX"
      },
      "source": [
        "### Preprocessing"
      ]
    },
    {
      "cell_type": "markdown",
      "metadata": {
        "id": "6MXd4aLDnOrd"
      },
      "source": [
        "Почистим данные перед обучением модели. "
      ]
    },
    {
      "cell_type": "code",
      "metadata": {
        "id": "HntSWu7oRy8a"
      },
      "source": [
        "def preprocess(text): \n",
        "    text = text.lower().replace(\"ё\", \"е\")\n",
        "    text = re.sub('((www\\.[^\\s]+)|(https?://[^\\s]+))', 'URL', text)\n",
        "    text = re.sub('@[^\\s]+', 'USER', text)\n",
        "    text = re.sub('[^a-zA-Zа-яА-Я1-9]+', ' ', text)\n",
        "    text = re.sub(' +', ' ', text)\n",
        "    return text.split()"
      ],
      "execution_count": 4,
      "outputs": []
    },
    {
      "cell_type": "code",
      "metadata": {
        "id": "Zg0U_xI7R8dk"
      },
      "source": [
        "all_tweets_data['clean_data'] = all_tweets_data.text.apply(lambda x: ' '.join(preprocess(x)))"
      ],
      "execution_count": 5,
      "outputs": []
    },
    {
      "cell_type": "code",
      "metadata": {
        "id": "vuAqO61rSBhm"
      },
      "source": [
        "train_sentences, val_sentences = train_test_split(all_tweets_data, test_size=0.2)"
      ],
      "execution_count": 6,
      "outputs": []
    },
    {
      "cell_type": "code",
      "metadata": {
        "colab": {
          "base_uri": "https://localhost:8080/"
        },
        "id": "11ElA8qnS6zA",
        "outputId": "8aa824c8-1dbf-4b0d-bdff-aff97dc89218"
      },
      "source": [
        "train_sentences[train_sentences.tone == 1].shape[0]/train_sentences.shape[0]"
      ],
      "execution_count": 7,
      "outputs": [
        {
          "output_type": "execute_result",
          "data": {
            "text/plain": [
              "0.5064875"
            ]
          },
          "metadata": {},
          "execution_count": 7
        }
      ]
    },
    {
      "cell_type": "code",
      "metadata": {
        "colab": {
          "base_uri": "https://localhost:8080/",
          "height": 359
        },
        "id": "-yP0egaHTI5u",
        "outputId": "0c86a691-a8eb-41b7-8e18-074c72e67b32"
      },
      "source": [
        "train_sentences[:10]"
      ],
      "execution_count": 8,
      "outputs": [
        {
          "output_type": "execute_result",
          "data": {
            "text/html": [
              "<div>\n",
              "<style scoped>\n",
              "    .dataframe tbody tr th:only-of-type {\n",
              "        vertical-align: middle;\n",
              "    }\n",
              "\n",
              "    .dataframe tbody tr th {\n",
              "        vertical-align: top;\n",
              "    }\n",
              "\n",
              "    .dataframe thead th {\n",
              "        text-align: right;\n",
              "    }\n",
              "</style>\n",
              "<table border=\"1\" class=\"dataframe\">\n",
              "  <thead>\n",
              "    <tr style=\"text-align: right;\">\n",
              "      <th></th>\n",
              "      <th>text</th>\n",
              "      <th>tone</th>\n",
              "      <th>clean_data</th>\n",
              "    </tr>\n",
              "  </thead>\n",
              "  <tbody>\n",
              "    <tr>\n",
              "      <th>64505</th>\n",
              "      <td>@nik_korot http://t.co/DwZeFNvvqi А на этой фо...</td>\n",
              "      <td>1</td>\n",
              "      <td>USER URL а на этой фотографии кого нибудь узнаешь</td>\n",
              "    </tr>\n",
              "    <tr>\n",
              "      <th>90737</th>\n",
              "      <td>Вот и Питерский наш уезжает ((( http://t.co/vK...</td>\n",
              "      <td>0</td>\n",
              "      <td>вот и питерский наш уезжает URL</td>\n",
              "    </tr>\n",
              "    <tr>\n",
              "      <th>58809</th>\n",
              "      <td>Горсть домашки это злооо\\nсобенно перед праздн...</td>\n",
              "      <td>0</td>\n",
              "      <td>горсть домашки это злооо собенно перед праздни...</td>\n",
              "    </tr>\n",
              "    <tr>\n",
              "      <th>108332</th>\n",
              "      <td>@Crazy_snail_ ВААТ?? Тот чувак, который с голы...</td>\n",
              "      <td>1</td>\n",
              "      <td>USER ваат тот чувак который с голым торсом это...</td>\n",
              "    </tr>\n",
              "    <tr>\n",
              "      <th>47045</th>\n",
              "      <td>RT @xegakyrysyv: Я закрыла дверь в свое сердце...</td>\n",
              "      <td>1</td>\n",
              "      <td>rt USER я закрыла дверь в свое сердце и написа...</td>\n",
              "    </tr>\n",
              "    <tr>\n",
              "      <th>24176</th>\n",
              "      <td>Грустно... :( по крайней мере три дня мне еще ...</td>\n",
              "      <td>0</td>\n",
              "      <td>грустно по крайней мере три дня мне еще будет ...</td>\n",
              "    </tr>\n",
              "    <tr>\n",
              "      <th>1215</th>\n",
              "      <td>RT @jopixilafyle: я уже замучался аплоадить 1....</td>\n",
              "      <td>0</td>\n",
              "      <td>rt USER я уже замучался аплоадить 1 5гб контен...</td>\n",
              "    </tr>\n",
              "    <tr>\n",
              "      <th>54671</th>\n",
              "      <td>\"Эээ? Это что получается, что я не настоящий?)...</td>\n",
              "      <td>1</td>\n",
              "      <td>эээ это что получается что я не настоящий прий...</td>\n",
              "    </tr>\n",
              "    <tr>\n",
              "      <th>58369</th>\n",
              "      <td>RT @Podslyshano: Чтобы залечить свои душевные ...</td>\n",
              "      <td>0</td>\n",
              "      <td>rt USER чтобы залечить свои душевные раны ищу ...</td>\n",
              "    </tr>\n",
              "    <tr>\n",
              "      <th>23337</th>\n",
              "      <td>@MigalAnn :С както печально:( а что рисовать л...</td>\n",
              "      <td>0</td>\n",
              "      <td>USER с както печально а что рисовать любишь</td>\n",
              "    </tr>\n",
              "  </tbody>\n",
              "</table>\n",
              "</div>"
            ],
            "text/plain": [
              "                                                     text  ...                                         clean_data\n",
              "64505   @nik_korot http://t.co/DwZeFNvvqi А на этой фо...  ...  USER URL а на этой фотографии кого нибудь узнаешь\n",
              "90737   Вот и Питерский наш уезжает ((( http://t.co/vK...  ...                    вот и питерский наш уезжает URL\n",
              "58809   Горсть домашки это злооо\\nсобенно перед праздн...  ...  горсть домашки это злооо собенно перед праздни...\n",
              "108332  @Crazy_snail_ ВААТ?? Тот чувак, который с голы...  ...  USER ваат тот чувак который с голым торсом это...\n",
              "47045   RT @xegakyrysyv: Я закрыла дверь в свое сердце...  ...  rt USER я закрыла дверь в свое сердце и написа...\n",
              "24176   Грустно... :( по крайней мере три дня мне еще ...  ...  грустно по крайней мере три дня мне еще будет ...\n",
              "1215    RT @jopixilafyle: я уже замучался аплоадить 1....  ...  rt USER я уже замучался аплоадить 1 5гб контен...\n",
              "54671   \"Эээ? Это что получается, что я не настоящий?)...  ...  эээ это что получается что я не настоящий прий...\n",
              "58369   RT @Podslyshano: Чтобы залечить свои душевные ...  ...  rt USER чтобы залечить свои душевные раны ищу ...\n",
              "23337   @MigalAnn :С както печально:( а что рисовать л...  ...        USER с както печально а что рисовать любишь\n",
              "\n",
              "[10 rows x 3 columns]"
            ]
          },
          "metadata": {},
          "execution_count": 8
        }
      ]
    },
    {
      "cell_type": "markdown",
      "metadata": {
        "id": "OodhIcq_nj-g"
      },
      "source": [
        "### CNN"
      ]
    },
    {
      "cell_type": "markdown",
      "metadata": {
        "id": "pjdETlY39ffq"
      },
      "source": [
        "### Dataloader"
      ]
    },
    {
      "cell_type": "code",
      "metadata": {
        "colab": {
          "base_uri": "https://localhost:8080/"
        },
        "id": "pN5kcF57TPVW",
        "outputId": "2fefab92-1e37-4c22-f9e1-0791d964f2ba"
      },
      "source": [
        "vocab = Counter()\n",
        "\n",
        "for text in all_tweets_data['clean_data']:\n",
        "    vocab.update(text.split())\n",
        "print('Всего уникальных токенов:', len(vocab))"
      ],
      "execution_count": 9,
      "outputs": [
        {
          "output_type": "stream",
          "name": "stdout",
          "text": [
            "Всего уникальных токенов: 111273\n"
          ]
        }
      ]
    },
    {
      "cell_type": "code",
      "metadata": {
        "colab": {
          "base_uri": "https://localhost:8080/"
        },
        "id": "mV4fTHIDTmb-",
        "outputId": "976ab0fe-cb97-41a9-ea86-7a82eefc4f52"
      },
      "source": [
        "vocab.most_common(10)"
      ],
      "execution_count": 10,
      "outputs": [
        {
          "output_type": "execute_result",
          "data": {
            "text/plain": [
              "[('USER', 65538),\n",
              " ('не', 33243),\n",
              " ('я', 29065),\n",
              " ('и', 26840),\n",
              " ('в', 25677),\n",
              " ('на', 16807),\n",
              " ('rt', 16675),\n",
              " ('что', 16075),\n",
              " ('а', 15883),\n",
              " ('URL', 14588)]"
            ]
          },
          "metadata": {},
          "execution_count": 10
        }
      ]
    },
    {
      "cell_type": "code",
      "metadata": {
        "colab": {
          "base_uri": "https://localhost:8080/"
        },
        "id": "0Vx99TZeTt-g",
        "outputId": "2883db5c-8bf0-4406-bc40-ab64dd65d33f"
      },
      "source": [
        "filtered_vocab = set()\n",
        "\n",
        "for word in vocab:\n",
        "    if vocab[word] > 1:\n",
        "        filtered_vocab.add(word)\n",
        "print('Уникальных символов, втретившихся больше 1 раза:', len(filtered_vocab))"
      ],
      "execution_count": 11,
      "outputs": [
        {
          "output_type": "stream",
          "name": "stdout",
          "text": [
            "Уникальных символов, втретившихся больше 1 раза: 44646\n"
          ]
        }
      ]
    },
    {
      "cell_type": "markdown",
      "metadata": {
        "id": "JQELqyL1oI3z"
      },
      "source": [
        "Создаем предобученные эмбеддинги."
      ]
    },
    {
      "cell_type": "code",
      "metadata": {
        "id": "zydFdqA9T4H7"
      },
      "source": [
        "word2id = {'PAD':0}\n",
        "\n",
        "for word in vocab:\n",
        "    word2id[word] = len(word2id)\n",
        "\n",
        "id2word = {i:word for word, i in word2id.items()}"
      ],
      "execution_count": 12,
      "outputs": []
    },
    {
      "cell_type": "code",
      "metadata": {
        "colab": {
          "base_uri": "https://localhost:8080/"
        },
        "id": "Zuxhh9EwUI6N",
        "outputId": "14909eb0-2e80-487c-d292-a70471089289"
      },
      "source": [
        "DEVICE = torch.device('cuda') if torch.cuda.is_available() else torch.device('cpu')\n",
        "DEVICE"
      ],
      "execution_count": 13,
      "outputs": [
        {
          "output_type": "execute_result",
          "data": {
            "text/plain": [
              "device(type='cpu')"
            ]
          },
          "metadata": {},
          "execution_count": 13
        }
      ]
    },
    {
      "cell_type": "markdown",
      "metadata": {
        "id": "7flixJIsn3oL"
      },
      "source": [
        "### Dataset"
      ]
    },
    {
      "cell_type": "code",
      "metadata": {
        "id": "8K62KQ-pULfe"
      },
      "source": [
        "class TweetsDataset(Dataset):\n",
        "\n",
        "    def __init__(self, dataset, word2id, DEVICE):\n",
        "        self.dataset = dataset['text'].values\n",
        "        self.word2id = word2id\n",
        "        self.length = dataset.shape[0]\n",
        "        self.target = torch.Tensor(dataset['tone'].values)\n",
        "        self.device = DEVICE\n",
        "\n",
        "    def __len__(self):\n",
        "        return self.length\n",
        "\n",
        "    def __getitem__(self, index): \n",
        "        tokens = self.dataset[index].split()\n",
        "        ids = torch.LongTensor([self.word2id[token] for token in tokens if token in self.word2id])\n",
        "        y = [self.target[index]]\n",
        "        return ids, y\n",
        "\n",
        "    def collate_fn(self, batch):\n",
        "      ids, y = list(zip(*batch))\n",
        "      padded_ids = pad_sequence(ids, batch_first=True).to(self.device)\n",
        "      y = torch.Tensor(y).to(self.device)\n",
        "      return padded_ids, y"
      ],
      "execution_count": 14,
      "outputs": []
    },
    {
      "cell_type": "code",
      "metadata": {
        "id": "4xv5yOnsURC-"
      },
      "source": [
        "train_dataset = TweetsDataset(train_sentences, word2id, DEVICE)\n",
        "train_sampler = RandomSampler(train_dataset)\n",
        "train_iterator = DataLoader(train_dataset, collate_fn = train_dataset.collate_fn, sampler=train_sampler, batch_size=1024)"
      ],
      "execution_count": 15,
      "outputs": []
    },
    {
      "cell_type": "code",
      "metadata": {
        "id": "tF7wTfIiUu6F"
      },
      "source": [
        "val_dataset = TweetsDataset(val_sentences, word2id, DEVICE)\n",
        "val_sampler = SequentialSampler(val_dataset)\n",
        "val_iterator = DataLoader(val_dataset, collate_fn = val_dataset.collate_fn, sampler=val_sampler, batch_size=1024)"
      ],
      "execution_count": 16,
      "outputs": []
    },
    {
      "cell_type": "code",
      "metadata": {
        "id": "krzrwvHCU9Kp"
      },
      "source": [
        "from gensim.models import FastText\n",
        "\n",
        "model = FastText(all_tweets_data['clean_data'].tolist(), size=100, window=5, min_count=1)"
      ],
      "execution_count": 17,
      "outputs": []
    },
    {
      "cell_type": "code",
      "metadata": {
        "id": "jKHk3T4sU9OU"
      },
      "source": [
        "weights = np.zeros((len(word2id), 100))\n",
        "count = 0\n",
        "for word, i in word2id.items():\n",
        "    if word == 'PAD':\n",
        "        continue   \n",
        "    try:\n",
        "        weights[i] = model.wv[word]    \n",
        "    except KeyError:\n",
        "      count += 1\n",
        "      weights[i] = np.random.normal(0,0.1,100)"
      ],
      "execution_count": 18,
      "outputs": []
    },
    {
      "cell_type": "code",
      "metadata": {
        "id": "j8E7SULRWNAi"
      },
      "source": [
        "class CNN(nn.Module):\n",
        "\n",
        "    def __init__(self, vocab_size, embedding_dim):\n",
        "        super().__init__()\n",
        "        self.embedding = nn.Embedding(vocab_size, embedding_dim)\n",
        "        self.embedding.from_pretrained(torch.tensor(weights), freeze=True)\n",
        "        self.bigrams = nn.Conv1d(in_channels=embedding_dim, out_channels=100, kernel_size=2, padding='same')\n",
        "        self.trigrams = nn.Conv1d(in_channels=embedding_dim, out_channels=80, kernel_size=3, padding='same')\n",
        "        self.bigrams_over_cat = nn.Conv1d(in_channels=180, out_channels=180, kernel_size=2, padding='same')\n",
        "        self.pooling = nn.MaxPool1d(kernel_size=2, stride=2)\n",
        "        self.relu = nn.ReLU()\n",
        "        self.hidden = nn.Linear(in_features=180, out_features=1)\n",
        "        self.out = nn.Sigmoid()\n",
        "\n",
        "    def forward(self, word):\n",
        "        embedded = self.embedding(word)\n",
        "        embedded = embedded.transpose(1,2)\n",
        "        feature_map_bigrams = self.relu(self.bigrams(embedded))\n",
        "        feature_map_trigrams = self.relu(self.trigrams(embedded))\n",
        "\n",
        "        concat = torch.cat((feature_map_bigrams, feature_map_trigrams), 1)\n",
        "        bigrams = self.pooling(self.relu(self.bigrams_over_cat(concat)))\n",
        "        pooling = bigrams.max(2)[0] \n",
        "\n",
        "        logits = self.hidden(pooling) \n",
        "        logits = self.out(logits)      \n",
        "        return logits"
      ],
      "execution_count": 19,
      "outputs": []
    },
    {
      "cell_type": "code",
      "metadata": {
        "id": "ttp6dqNEbHRr"
      },
      "source": [
        "def train(model, iterator, optimizer, criterion):\n",
        "    \n",
        "    epoch_loss = 0\n",
        "    \n",
        "    model.train()\n",
        "\n",
        "    for i, (texts, ys) in enumerate(iterator):\n",
        "        optimizer.zero_grad()\n",
        "        preds = model(texts)\n",
        "        loss = criterion(preds, ys)  \n",
        "\n",
        "        loss.backward()\n",
        "        optimizer.step()\n",
        "\n",
        "        epoch_loss += loss.item()\n",
        "        if not (i + 1) % int(len(iterator)/5):\n",
        "            print(f'Train loss: {epoch_loss/i}')      \n",
        "    return  epoch_loss / len(iterator)"
      ],
      "execution_count": 20,
      "outputs": []
    },
    {
      "cell_type": "code",
      "metadata": {
        "id": "MyYZ24n7bNb2"
      },
      "source": [
        "def evaluate(model, iterator, criterion):\n",
        "    \n",
        "    epoch_loss = 0\n",
        "    epoch_metric = 0\n",
        "    model.eval() \n",
        "\n",
        "    with torch.no_grad():\n",
        "        for i, (texts, ys) in enumerate(iterator):   \n",
        "            preds = model(texts)\n",
        "\n",
        "            loss = criterion(preds, ys)\n",
        "            \n",
        "            epoch_loss += loss.item()\n",
        "            batch_metric = f1(preds.round().long(), ys.long(), ignore_index=0)\n",
        "            epoch_metric += batch_metric\n",
        "\n",
        "            if not (i + 1) % int(len(iterator)/5):\n",
        "              print(f'Val loss: {epoch_loss/i}, Val metric: {epoch_metric/i}')\n",
        "        \n",
        "    return epoch_metric / len(iterator), epoch_loss / len(iterator)"
      ],
      "execution_count": 21,
      "outputs": []
    },
    {
      "cell_type": "code",
      "metadata": {
        "id": "xu7FfP6bcFqQ"
      },
      "source": [
        "model = CNN(len(word2id), 2)\n",
        "optimizer = optim.Adam(model.parameters(), lr=0.001)\n",
        "criterion = nn.BCELoss()\n",
        "\n",
        "model = model.to(DEVICE)\n",
        "criterion = criterion.to(DEVICE)"
      ],
      "execution_count": 22,
      "outputs": []
    },
    {
      "cell_type": "code",
      "metadata": {
        "colab": {
          "base_uri": "https://localhost:8080/"
        },
        "id": "VT540fgBcu87",
        "outputId": "c45d6401-d21e-410c-a41c-e2807a18c9be"
      },
      "source": [
        "losses = []\n",
        "val_losses = []\n",
        "f1s = []\n",
        "val_f1s = []\n",
        "\n",
        "for i in range(10):\n",
        "    print(f'\\nEpoch {i}')\n",
        "    print('Training...')\n",
        "    epoch_loss = train(model, train_iterator, optimizer, criterion)\n",
        "    losses.append(epoch_loss)\n",
        "    print('\\nEvaluating on train...')\n",
        "    f1_on_train,_ = evaluate(model, train_iterator, criterion)\n",
        "    f1s.append(f1_on_train)\n",
        "    print('\\nEvaluating on test...')\n",
        "    f1_on_test, epoch_loss_on_test = evaluate(model, val_iterator, criterion)\n",
        "    val_losses.append(epoch_loss_on_test)\n",
        "    val_f1s.append(f1_on_test)"
      ],
      "execution_count": 23,
      "outputs": [
        {
          "output_type": "stream",
          "name": "stdout",
          "text": [
            "\n",
            "Epoch 0\n",
            "Training...\n"
          ]
        },
        {
          "output_type": "stream",
          "name": "stderr",
          "text": [
            "/usr/local/lib/python3.7/dist-packages/torch/nn/modules/conv.py:298: UserWarning: Using padding='same' with even kernel lengths and odd dilation may require a zero-padded copy of the input be created (Triggered internally at  ../aten/src/ATen/native/Convolution.cpp:647.)\n",
            "  self.padding, self.dilation, self.groups)\n"
          ]
        },
        {
          "output_type": "stream",
          "name": "stdout",
          "text": [
            "Train loss: 0.7449675670691899\n",
            "Train loss: 0.7173425534675861\n",
            "Train loss: 0.7087747088887475\n",
            "Train loss: 0.7041335994914427\n",
            "Train loss: 0.701034744043608\n",
            "\n",
            "Evaluating on train...\n",
            "Val loss: 0.7367093009608132, Val metric: 0.563019871711731\n",
            "Val loss: 0.710804898163368, Val metric: 0.544930636882782\n",
            "Val loss: 0.7024604434316809, Val metric: 0.5423845648765564\n",
            "Val loss: 0.6985302759429156, Val metric: 0.5385636687278748\n",
            "Val loss: 0.6961986366155986, Val metric: 0.5369848608970642\n",
            "\n",
            "Evaluating on test...\n",
            "Val loss: 0.9189053177833557, Val metric: 0.6926988959312439\n",
            "Val loss: 0.7854937144688198, Val metric: 0.6083716154098511\n",
            "Val loss: 0.7507128444584933, Val metric: 0.5732309818267822\n",
            "Val loss: 0.7341633955637614, Val metric: 0.5561426877975464\n",
            "Val loss: 0.7248410519800688, Val metric: 0.5473593473434448\n",
            "\n",
            "Epoch 1\n",
            "Training...\n",
            "Train loss: 0.7376892226082938\n",
            "Train loss: 0.7106049328014769\n",
            "Train loss: 0.7020224752751264\n",
            "Train loss: 0.6977647906642849\n",
            "Train loss: 0.6952273797344517\n",
            "\n",
            "Evaluating on train...\n",
            "Val loss: 0.7317041286400386, Val metric: 0.47685080766677856\n",
            "Val loss: 0.7081273773620869, Val metric: 0.45242685079574585\n",
            "Val loss: 0.7005502161654559, Val metric: 0.4455692172050476\n",
            "Val loss: 0.6966316790904029, Val metric: 0.4451548457145691\n",
            "Val loss: 0.6945133982477961, Val metric: 0.44430094957351685\n",
            "\n",
            "Evaluating on test...\n",
            "Val loss: 0.9211960832277933, Val metric: 0.5770590901374817\n",
            "Val loss: 0.7867722340992519, Val metric: 0.493481308221817\n",
            "Val loss: 0.7513143149289218, Val metric: 0.4638463854789734\n",
            "Val loss: 0.7343276898066203, Val metric: 0.4517200291156769\n",
            "Val loss: 0.7247291866101717, Val metric: 0.4424075484275818\n",
            "\n",
            "Epoch 2\n",
            "Training...\n",
            "Train loss: 0.7302426738398415\n",
            "Train loss: 0.7061130733325564\n",
            "Train loss: 0.6982976997440512\n",
            "Train loss: 0.6942956912315498\n",
            "Train loss: 0.6913854278422691\n",
            "\n",
            "Evaluating on train...\n",
            "Val loss: 0.7239046309675489, Val metric: 0.6261318922042847\n",
            "Val loss: 0.6998675732777037, Val metric: 0.6031040549278259\n",
            "Val loss: 0.6922304318709807, Val metric: 0.597503125667572\n",
            "Val loss: 0.6882169953847336, Val metric: 0.5939565896987915\n",
            "Val loss: 0.6859865905465307, Val metric: 0.5914433002471924\n",
            "\n",
            "Evaluating on test...\n",
            "Val loss: 0.9101996024449667, Val metric: 0.7474686503410339\n",
            "Val loss: 0.7785437447684151, Val metric: 0.6498401761054993\n",
            "Val loss: 0.7443189458413557, Val metric: 0.6165373921394348\n",
            "Val loss: 0.7278278350830079, Val metric: 0.6039363145828247\n",
            "Val loss: 0.7183102212454143, Val metric: 0.5951570272445679\n",
            "\n",
            "Epoch 3\n",
            "Training...\n",
            "Train loss: 0.7278196811676025\n",
            "Train loss: 0.7005079224191862\n",
            "Train loss: 0.691140050237829\n",
            "Train loss: 0.6871304522126408\n",
            "Train loss: 0.6847940264521418\n",
            "\n",
            "Evaluating on train...\n",
            "Val loss: 0.7198538184165955, Val metric: 0.6729488372802734\n",
            "Val loss: 0.6937809175458448, Val metric: 0.6559935808181763\n",
            "Val loss: 0.6855777420780875, Val metric: 0.6510854363441467\n",
            "Val loss: 0.6816384155871504, Val metric: 0.646800696849823\n",
            "Val loss: 0.679847403152569, Val metric: 0.6431905627250671\n",
            "\n",
            "Evaluating on test...\n",
            "Val loss: 0.9030636548995972, Val metric: 0.8291378021240234\n",
            "Val loss: 0.773813613823482, Val metric: 0.7192071676254272\n",
            "Val loss: 0.7405154379931363, Val metric: 0.6785278916358948\n",
            "Val loss: 0.7242186586062114, Val metric: 0.6616305708885193\n",
            "Val loss: 0.7149390295932168, Val metric: 0.6522100567817688\n",
            "\n",
            "Epoch 4\n",
            "Training...\n",
            "Train loss: 0.7188163016523633\n",
            "Train loss: 0.6935134735600702\n",
            "Train loss: 0.6853327886624769\n",
            "Train loss: 0.6804830553167958\n",
            "Train loss: 0.6783029888127301\n",
            "\n",
            "Evaluating on train...\n",
            "Val loss: 0.7170723804405758, Val metric: 0.7150061726570129\n",
            "Val loss: 0.6921435923411928, Val metric: 0.691239595413208\n",
            "Val loss: 0.6837823079390959, Val metric: 0.6840575337409973\n",
            "Val loss: 0.6800487546597497, Val metric: 0.6795678734779358\n",
            "Val loss: 0.6776300652607067, Val metric: 0.6775731444358826\n",
            "\n",
            "Evaluating on test...\n",
            "Val loss: 0.9004737734794617, Val metric: 0.8836680054664612\n",
            "Val loss: 0.7747762373515538, Val metric: 0.7542115449905396\n",
            "Val loss: 0.7423953955823724, Val metric: 0.7132845520973206\n",
            "Val loss: 0.7267477552096049, Val metric: 0.6960884928703308\n",
            "Val loss: 0.717359040912829, Val metric: 0.6864708065986633\n",
            "\n",
            "Epoch 5\n",
            "Training...\n",
            "Train loss: 0.7142911170210157\n",
            "Train loss: 0.6879696640475043\n",
            "Train loss: 0.6791396357796409\n",
            "Train loss: 0.6752260488978887\n",
            "Train loss: 0.6721208377464397\n",
            "\n",
            "Evaluating on train...\n",
            "Val loss: 0.7020850947925023, Val metric: 0.6955405473709106\n",
            "Val loss: 0.6771303168658552, Val metric: 0.6731820702552795\n",
            "Val loss: 0.668922786008228, Val metric: 0.6675301194190979\n",
            "Val loss: 0.6656809146121397, Val metric: 0.6646822094917297\n",
            "Val loss: 0.6633182764053345, Val metric: 0.6623020172119141\n",
            "\n",
            "Evaluating on test...\n",
            "Val loss: 0.8931194941202799, Val metric: 0.8456838130950928\n",
            "Val loss: 0.7669572915349688, Val metric: 0.72283935546875\n",
            "Val loss: 0.7343006404963407, Val metric: 0.6817675232887268\n",
            "Val loss: 0.7184972683588664, Val metric: 0.6657217144966125\n",
            "Val loss: 0.7087860797580919, Val metric: 0.6579765677452087\n",
            "\n",
            "Epoch 6\n",
            "Training...\n",
            "Train loss: 0.7011518563543048\n",
            "Train loss: 0.6799718799262211\n",
            "Train loss: 0.6708637990734794\n",
            "Train loss: 0.6662224238201723\n",
            "Train loss: 0.6636219588485924\n",
            "\n",
            "Evaluating on train...\n",
            "Val loss: 0.6944147731576648, Val metric: 0.7150411009788513\n",
            "Val loss: 0.6691914550189314, Val metric: 0.6909164190292358\n",
            "Val loss: 0.6621459465135228, Val metric: 0.6832781434059143\n",
            "Val loss: 0.658097482333749, Val metric: 0.6793299913406372\n",
            "Val loss: 0.6552115284107827, Val metric: 0.6774266958236694\n",
            "\n",
            "Evaluating on test...\n",
            "Val loss: 0.8872054815292358, Val metric: 0.8585896492004395\n",
            "Val loss: 0.7642721363476345, Val metric: 0.7332943677902222\n",
            "Val loss: 0.73190054026517, Val metric: 0.6929298043251038\n",
            "Val loss: 0.7165994763374328, Val metric: 0.6748515963554382\n",
            "Val loss: 0.7066918423301295, Val metric: 0.6675533652305603\n",
            "\n",
            "Epoch 7\n",
            "Training...\n",
            "Train loss: 0.694736795766013\n",
            "Train loss: 0.668931455447756\n",
            "Train loss: 0.6606534597548571\n",
            "Train loss: 0.6560188420748306\n",
            "Train loss: 0.653664739550771\n",
            "\n",
            "Evaluating on train...\n",
            "Val loss: 0.6803683297974723, Val metric: 0.6999823451042175\n",
            "Val loss: 0.6580915841562994, Val metric: 0.6721911430358887\n",
            "Val loss: 0.6508712605996565, Val metric: 0.6625199913978577\n",
            "Val loss: 0.646961795071424, Val metric: 0.6599555611610413\n",
            "Val loss: 0.6444061036045486, Val metric: 0.6575518846511841\n",
            "\n",
            "Evaluating on test...\n",
            "Val loss: 0.8856555024782816, Val metric: 0.813285768032074\n",
            "Val loss: 0.7612305879592896, Val metric: 0.6934829354286194\n",
            "Val loss: 0.7284055027094755, Val metric: 0.6573819518089294\n",
            "Val loss: 0.7127739429473877, Val metric: 0.6412111520767212\n",
            "Val loss: 0.7024732765398527, Val metric: 0.6346268653869629\n",
            "\n",
            "Epoch 8\n",
            "Training...\n",
            "Train loss: 0.6785274233136859\n",
            "Train loss: 0.6540902380285591\n",
            "Train loss: 0.6470327106389132\n",
            "Train loss: 0.6451123639688654\n",
            "Train loss: 0.643641901177329\n",
            "\n",
            "Evaluating on train...\n",
            "Val loss: 0.6749857025487083, Val metric: 0.7237256169319153\n",
            "Val loss: 0.6469241380691528, Val metric: 0.7063634991645813\n",
            "Val loss: 0.6397565034302798, Val metric: 0.6976651549339294\n",
            "Val loss: 0.6366553993548377, Val metric: 0.6942323446273804\n",
            "Val loss: 0.6348479229050714, Val metric: 0.6912725567817688\n",
            "\n",
            "Evaluating on test...\n",
            "Val loss: 0.879420260588328, Val metric: 0.8582704663276672\n",
            "Val loss: 0.7590946469988141, Val metric: 0.7301526069641113\n",
            "Val loss: 0.7271236289631237, Val metric: 0.6924874782562256\n",
            "Val loss: 0.7117633819580078, Val metric: 0.6752162575721741\n",
            "Val loss: 0.7014751622551366, Val metric: 0.6688581705093384\n",
            "\n",
            "Epoch 9\n",
            "Training...\n",
            "Train loss: 0.6744014493056706\n",
            "Train loss: 0.649536800795588\n",
            "Train loss: 0.639219498092478\n",
            "Train loss: 0.6359509451914642\n",
            "Train loss: 0.6336660336803746\n",
            "\n",
            "Evaluating on train...\n",
            "Val loss: 0.6586558946541378, Val metric: 0.7047296762466431\n",
            "Val loss: 0.6372669524159925, Val metric: 0.6783664226531982\n",
            "Val loss: 0.6289079853079536, Val metric: 0.6727792024612427\n",
            "Val loss: 0.6254362746820612, Val metric: 0.6704508066177368\n",
            "Val loss: 0.623670938852671, Val metric: 0.6690146923065186\n",
            "\n",
            "Evaluating on test...\n",
            "Val loss: 0.8854021032651266, Val metric: 0.8119254112243652\n",
            "Val loss: 0.7620755008288792, Val metric: 0.6872982978820801\n",
            "Val loss: 0.7283155051144686, Val metric: 0.651162326335907\n",
            "Val loss: 0.7126017371813457, Val metric: 0.6335931420326233\n",
            "Val loss: 0.7017575345541301, Val metric: 0.6276906728744507\n"
          ]
        }
      ]
    },
    {
      "cell_type": "code",
      "metadata": {
        "colab": {
          "base_uri": "https://localhost:8080/",
          "height": 295
        },
        "id": "SF9XhXz3im3N",
        "outputId": "bf07bc10-5bd5-4565-f68d-405372bfa356"
      },
      "source": [
        "plt.plot(losses)\n",
        "plt.plot(val_losses)\n",
        "plt.title('BCE loss value')\n",
        "plt.ylabel('BCE losses')\n",
        "plt.xlabel('epochs')\n",
        "plt.legend(['train', 'val'], loc='upper right')\n",
        "plt.show()"
      ],
      "execution_count": 24,
      "outputs": [
        {
          "output_type": "display_data",
          "data": {
            "image/png": "[encoded data removed]",
            "text/plain": [
              "<Figure size 432x288 with 1 Axes>"
            ]
          },
          "metadata": {
            "needs_background": "light"
          }
        }
      ]
    },
    {
      "cell_type": "code",
      "metadata": {
        "colab": {
          "base_uri": "https://localhost:8080/",
          "height": 295
        },
        "id": "iyEqju8_jYg6",
        "outputId": "196c4ea1-8ef4-49eb-e551-c8c34c34fcc6"
      },
      "source": [
        "plt.plot(f1s)\n",
        "plt.plot(val_f1s)\n",
        "plt.title('f1 value')\n",
        "plt.ylabel('f1 value')\n",
        "plt.xlabel('epochs')\n",
        "plt.legend(['train', 'val'], loc='upper right')\n",
        "plt.show()"
      ],
      "execution_count": 25,
      "outputs": [
        {
          "output_type": "display_data",
          "data": {
            "image/png": "[encoded data removed]",
            "text/plain": [
              "<Figure size 432x288 with 1 Axes>"
            ]
          },
          "metadata": {
            "needs_background": "light"
          }
        }
      ]
    },
    {
      "cell_type": "code",
      "metadata": {
        "id": "yqHesVyFkak6"
      },
      "source": [
        "def predict(model, iterator):\n",
        "    model.eval()\n",
        "    fp = []\n",
        "    fn = []\n",
        "    tp = [] \n",
        "    tn = []\n",
        "    with torch.no_grad():\n",
        "        for i, (texts, ys) in enumerate(iterator):   \n",
        "            preds = model(texts)\n",
        "            for pred, gold, text in zip(preds, ys, texts):\n",
        "              text = ' '.join([id2word[int(word)] for word in text if word !=0])\n",
        "              if round(pred.item()) > gold:\n",
        "                fp.append(text)\n",
        "              elif round(pred.item()) < gold:\n",
        "                fn.append(text)\n",
        "              elif round(pred.item()) == gold == 1:\n",
        "                tp.append(text)\n",
        "              elif round(pred.item()) == gold == 0:\n",
        "                tn.append(text)\n",
        "    return fp, fn, tp, tn"
      ],
      "execution_count": 26,
      "outputs": []
    },
    {
      "cell_type": "code",
      "metadata": {
        "id": "rPMZifWVoYMn"
      },
      "source": [
        "fp, fn, tp, tn = predict(model, val_iterator)"
      ],
      "execution_count": 27,
      "outputs": []
    },
    {
      "cell_type": "code",
      "metadata": {
        "colab": {
          "base_uri": "https://localhost:8080/"
        },
        "id": "AKBxQa5hoZtS",
        "outputId": "79871b22-7aef-4c9b-a555-2a6e2274573c"
      },
      "source": [
        "recall = len(tp)/(len(tp) + len(fn))\n",
        "precision = len(tp)/(len(tp) + len(fp))\n",
        "f_score = 2 * precision * recall / (precision + recall)\n",
        "f_score"
      ],
      "execution_count": 28,
      "outputs": [
        {
          "output_type": "execute_result",
          "data": {
            "text/plain": [
              "0.5963552154651631"
            ]
          },
          "metadata": {},
          "execution_count": 28
        }
      ]
    },
    {
      "cell_type": "markdown",
      "metadata": {
        "id": "4kCgDDEeo0as"
      },
      "source": [
        "Результат вполне сомнительный. "
      ]
    },
    {
      "cell_type": "markdown",
      "metadata": {
        "id": "I1F9DiAvqd8U"
      },
      "source": [
        "### Updated CNN"
      ]
    },
    {
      "cell_type": "markdown",
      "metadata": {
        "id": "vQnEtPXvqQNQ"
      },
      "source": [
        "Попробуем улучшить модель, добавив droput и weight decay. Также изменим embedding_dim на 5. "
      ]
    },
    {
      "cell_type": "code",
      "metadata": {
        "id": "xowOgfJ5kahB"
      },
      "source": [
        "class UpdatedCNN(nn.Module):\n",
        "    def __init__(self, vocab_size, embedding_dim):\n",
        "        super().__init__()\n",
        "        self.embedding = nn.Embedding(vocab_size, embedding_dim)\n",
        "        self.embedding.from_pretrained(torch.tensor(weights), freeze=True)\n",
        "        self.bigrams = nn.Conv1d(in_channels=embedding_dim, out_channels=100, kernel_size=2, padding='same')\n",
        "        self.trigrams = nn.Conv1d(in_channels=embedding_dim, out_channels=80, kernel_size=3, padding='same')\n",
        "        self.bigrams_over_cat = nn.Conv1d(in_channels=180, out_channels=180, kernel_size=2, padding='same')\n",
        "        self.pooling = nn.MaxPool1d(kernel_size=2, stride=2)\n",
        "        self.relu = nn.ReLU()\n",
        "        self.dropout = nn.Dropout(p=0.5)\n",
        "        self.hidden = nn.Linear(in_features=180, out_features=1)\n",
        "        self.out = nn.Sigmoid()\n",
        "\n",
        "    def forward(self, word):\n",
        "        embedded = self.embedding(word)\n",
        "        embedded = embedded.transpose(1,2)\n",
        "        feature_map_bigrams = self.dropout(self.relu(self.bigrams(embedded)))\n",
        "        feature_map_trigrams = self.dropout(self.relu(self.trigrams(embedded)))\n",
        "\n",
        "        concat = torch.cat((feature_map_bigrams, feature_map_trigrams), 1)\n",
        "        bigrams = self.dropout(self.pooling(self.relu(self.bigrams_over_cat(concat))))\n",
        "        pooling = bigrams.max(2)[0] \n",
        "\n",
        "        logits = self.dropout(self.hidden(pooling))\n",
        "        logits = self.out(logits)      \n",
        "        return logits"
      ],
      "execution_count": 34,
      "outputs": []
    },
    {
      "cell_type": "code",
      "metadata": {
        "id": "3MktLs8XlsCG"
      },
      "source": [
        "model = UpdatedCNN(len(word2id), 5)\n",
        "optimizer = optim.Adam(model.parameters(), lr=0.001, weight_decay=1e-4)\n",
        "criterion = nn.BCELoss()\n",
        "\n",
        "model = model.to(DEVICE)\n",
        "criterion = criterion.to(DEVICE)"
      ],
      "execution_count": 35,
      "outputs": []
    },
    {
      "cell_type": "code",
      "metadata": {
        "id": "uuZ42hhMl11F",
        "colab": {
          "base_uri": "https://localhost:8080/"
        },
        "outputId": "9f5689c0-438a-47a7-b2dd-f30026a083f8"
      },
      "source": [
        "losses = []\n",
        "val_losses = []\n",
        "f1s = []\n",
        "val_f1s = []\n",
        "\n",
        "for i in range(10):\n",
        "    print(f'\\nEpoch {i}')\n",
        "    print('Training...')\n",
        "    epoch_loss = train(model, train_iterator, optimizer, criterion)\n",
        "    losses.append(epoch_loss)\n",
        "    print('\\nEvaluating on train...')\n",
        "    f1_on_train,_ = evaluate(model, train_iterator, criterion)\n",
        "    f1s.append(f1_on_train)\n",
        "    print('\\nEvaluating on test...')\n",
        "    f1_on_test, epoch_loss_on_test = evaluate(model, val_iterator, criterion)\n",
        "    val_losses.append(epoch_loss_on_test)\n",
        "    val_f1s.append(f1_on_test)"
      ],
      "execution_count": 36,
      "outputs": [
        {
          "output_type": "stream",
          "name": "stdout",
          "text": [
            "\n",
            "Epoch 0\n",
            "Training...\n",
            "Train loss: 0.8758234339100974\n",
            "Train loss: 0.7944967130134846\n",
            "Train loss: 0.7633373818614266\n",
            "Train loss: 0.747141620870364\n",
            "Train loss: 0.7377789785733094\n",
            "\n",
            "Evaluating on train...\n",
            "Val loss: 0.740132966211864, Val metric: 0.278911292552948\n",
            "Val loss: 0.7141625346808598, Val metric: 0.2608906924724579\n",
            "Val loss: 0.7058753913099115, Val metric: 0.25882357358932495\n",
            "Val loss: 0.7022123892428511, Val metric: 0.25579386949539185\n",
            "Val loss: 0.6998308027112806, Val metric: 0.25634342432022095\n",
            "\n",
            "Evaluating on test...\n",
            "Val loss: 0.9243595600128174, Val metric: 0.3201352059841156\n",
            "Val loss: 0.7910914421081543, Val metric: 0.2888168692588806\n",
            "Val loss: 0.7544517842206088, Val metric: 0.27383747696876526\n",
            "Val loss: 0.7377933263778687, Val metric: 0.2597495913505554\n",
            "Val loss: 0.7277418814207378, Val metric: 0.2566530704498291\n",
            "\n",
            "Epoch 1\n",
            "Training...\n",
            "Train loss: 0.7506511637142727\n",
            "Train loss: 0.7235738861149755\n",
            "Train loss: 0.7148156450553373\n",
            "Train loss: 0.7104386313486908\n",
            "Train loss: 0.707504783127759\n",
            "\n",
            "Evaluating on train...\n",
            "Val loss: 0.7344482583659036, Val metric: 0.5822343826293945\n",
            "Val loss: 0.7101436298469017, Val metric: 0.5601521134376526\n",
            "Val loss: 0.7022448019547896, Val metric: 0.5536648035049438\n",
            "Val loss: 0.6983171842866025, Val metric: 0.5509030818939209\n",
            "Val loss: 0.6959862072725553, Val metric: 0.5478751063346863\n",
            "\n",
            "Evaluating on test...\n",
            "Val loss: 0.9182212948799133, Val metric: 0.7118315100669861\n",
            "Val loss: 0.786794832774571, Val metric: 0.6107087731361389\n",
            "Val loss: 0.7506489266048778, Val metric: 0.5828524231910706\n",
            "Val loss: 0.7340225259462992, Val metric: 0.5670842528343201\n",
            "Val loss: 0.7240266737185026, Val metric: 0.5573424696922302\n",
            "\n",
            "Epoch 2\n",
            "Training...\n",
            "Train loss: 0.7452598937920162\n",
            "Train loss: 0.719849471388192\n",
            "Train loss: 0.7110323621468111\n",
            "Train loss: 0.7065734044980194\n",
            "Train loss: 0.7047481649630779\n",
            "\n",
            "Evaluating on train...\n",
            "Val loss: 0.7344774774142674, Val metric: 0.6125398278236389\n",
            "Val loss: 0.7090729125614824, Val metric: 0.5935118198394775\n",
            "Val loss: 0.7010707773945548, Val metric: 0.587440550327301\n",
            "Val loss: 0.6969875319529388, Val metric: 0.5839300155639648\n",
            "Val loss: 0.6947643619936865, Val metric: 0.5791327953338623\n",
            "\n",
            "Evaluating on test...\n",
            "Val loss: 0.9167322516441345, Val metric: 0.7445380091667175\n",
            "Val loss: 0.7854634097644261, Val metric: 0.6434085965156555\n",
            "Val loss: 0.7496695735237815, Val metric: 0.6145162582397461\n",
            "Val loss: 0.7329654296239217, Val metric: 0.5992329716682434\n",
            "Val loss: 0.7229496617066232, Val metric: 0.5924062728881836\n",
            "\n",
            "Epoch 3\n",
            "Training...\n",
            "Train loss: 0.7424292308943612\n",
            "Train loss: 0.7164250345065676\n",
            "Train loss: 0.7082967934283343\n",
            "Train loss: 0.7044867337760279\n",
            "Train loss: 0.7016498148441315\n",
            "\n",
            "Evaluating on train...\n",
            "Val loss: 0.7332255840301514, Val metric: 0.58186274766922\n",
            "Val loss: 0.7082063165204279, Val metric: 0.5670889616012573\n",
            "Val loss: 0.6998352110385895, Val metric: 0.5617973208427429\n",
            "Val loss: 0.6960241188437252, Val metric: 0.5574550032615662\n",
            "Val loss: 0.6935124493934013, Val metric: 0.556555449962616\n",
            "\n",
            "Evaluating on test...\n",
            "Val loss: 0.9154190222422282, Val metric: 0.7337947487831116\n",
            "Val loss: 0.784263585294996, Val metric: 0.6327680945396423\n",
            "Val loss: 0.7486797842112455, Val metric: 0.5999050736427307\n",
            "Val loss: 0.7320644696553548, Val metric: 0.5818716287612915\n",
            "Val loss: 0.7219922009267306, Val metric: 0.5702511072158813\n",
            "\n",
            "Epoch 4\n",
            "Training...\n",
            "Train loss: 0.7403344682284764\n",
            "Train loss: 0.7155574909571943\n",
            "Train loss: 0.706997580148957\n",
            "Train loss: 0.7028075709181317\n",
            "Train loss: 0.7006267631376112\n",
            "\n",
            "Evaluating on train...\n",
            "Val loss: 0.7332071832248143, Val metric: 0.6924737691879272\n",
            "Val loss: 0.708231416241876, Val metric: 0.6674203276634216\n",
            "Val loss: 0.7002479772676121, Val metric: 0.6589989066123962\n",
            "Val loss: 0.6961794657222296, Val metric: 0.6558594107627869\n",
            "Val loss: 0.6938139562671249, Val metric: 0.654818058013916\n",
            "\n",
            "Evaluating on test...\n",
            "Val loss: 0.913582464059194, Val metric: 0.8659917712211609\n",
            "Val loss: 0.7836571506091526, Val metric: 0.7368550896644592\n",
            "Val loss: 0.7484422922134399, Val metric: 0.699275016784668\n",
            "Val loss: 0.7318589568138123, Val metric: 0.6829982995986938\n",
            "Val loss: 0.721937424258182, Val metric: 0.6731972098350525\n",
            "\n",
            "Epoch 5\n",
            "Training...\n",
            "Train loss: 0.7404903428895133\n",
            "Train loss: 0.7137473328360195\n",
            "Train loss: 0.7058415318077261\n",
            "Train loss: 0.7013822349451356\n",
            "Train loss: 0.6986381516263291\n",
            "\n",
            "Evaluating on train...\n",
            "Val loss: 0.7321997157164982, Val metric: 0.6434946060180664\n",
            "Val loss: 0.7069238136554586, Val metric: 0.6197027564048767\n",
            "Val loss: 0.6986323486674916, Val metric: 0.6172927618026733\n",
            "Val loss: 0.6946544808856512, Val metric: 0.612217903137207\n",
            "Val loss: 0.6922609564420339, Val metric: 0.6093831658363342\n",
            "\n",
            "Evaluating on test...\n",
            "Val loss: 0.9129782319068909, Val metric: 0.794684112071991\n",
            "Val loss: 0.7826395205089024, Val metric: 0.6827614903450012\n",
            "Val loss: 0.7470891096375205, Val metric: 0.6496708393096924\n",
            "Val loss: 0.7305061101913453, Val metric: 0.6332123279571533\n",
            "Val loss: 0.7205112482372084, Val metric: 0.6238972544670105\n",
            "\n",
            "Epoch 6\n",
            "Training...\n",
            "Train loss: 0.7375276727335793\n",
            "Train loss: 0.7132011035393024\n",
            "Train loss: 0.7049089006402276\n",
            "Train loss: 0.7007970628091844\n",
            "Train loss: 0.6985865452805081\n",
            "\n",
            "Evaluating on train...\n",
            "Val loss: 0.7312471653733935, Val metric: 0.6786943078041077\n",
            "Val loss: 0.7066166010396234, Val metric: 0.6516574621200562\n",
            "Val loss: 0.698376938700676, Val metric: 0.6434481739997864\n",
            "Val loss: 0.694590705936238, Val metric: 0.6401984691619873\n",
            "Val loss: 0.6921018821162146, Val metric: 0.6401965022087097\n",
            "\n",
            "Evaluating on test...\n",
            "Val loss: 0.9122036695480347, Val metric: 0.8435566425323486\n",
            "Val loss: 0.7823696477072579, Val metric: 0.7229238748550415\n",
            "Val loss: 0.7470054680650885, Val metric: 0.6873304843902588\n",
            "Val loss: 0.7305080652236938, Val metric: 0.668968915939331\n",
            "Val loss: 0.7205619153223539, Val metric: 0.6575105786323547\n",
            "\n",
            "Epoch 7\n",
            "Training...\n",
            "Train loss: 0.7367975115776062\n",
            "Train loss: 0.7120922187279011\n",
            "Train loss: 0.7037151957100088\n",
            "Train loss: 0.6995304287490198\n",
            "Train loss: 0.69702890273687\n",
            "\n",
            "Evaluating on train...\n",
            "Val loss: 0.7297177144459316, Val metric: 0.6615750193595886\n",
            "Val loss: 0.7051425165143507, Val metric: 0.6316031217575073\n",
            "Val loss: 0.6972334303639152, Val metric: 0.6264671683311462\n",
            "Val loss: 0.6934629052372302, Val metric: 0.6216660141944885\n",
            "Val loss: 0.6911834873057701, Val metric: 0.6186326742172241\n",
            "\n",
            "Evaluating on test...\n",
            "Val loss: 0.9115708271662394, Val metric: 0.8050013184547424\n",
            "Val loss: 0.7816711323601859, Val metric: 0.6928848624229431\n",
            "Val loss: 0.7462454763325778, Val metric: 0.658707320690155\n",
            "Val loss: 0.7297011892000834, Val metric: 0.6420617699623108\n",
            "Val loss: 0.719698124810269, Val metric: 0.6332396864891052\n",
            "\n",
            "Epoch 8\n",
            "Training...\n",
            "Train loss: 0.7347380944660732\n",
            "Train loss: 0.7099455964976343\n",
            "Train loss: 0.70254263010892\n",
            "Train loss: 0.6985619452040074\n",
            "Train loss: 0.6964002863780873\n",
            "\n",
            "Evaluating on train...\n",
            "Val loss: 0.7315971297877175, Val metric: 0.580145001411438\n",
            "Val loss: 0.7061139304062416, Val metric: 0.5586048364639282\n",
            "Val loss: 0.6980356844988737, Val metric: 0.5547195672988892\n",
            "Val loss: 0.6938880176867469, Val metric: 0.5541985034942627\n",
            "Val loss: 0.6915424280875438, Val metric: 0.553395688533783\n",
            "\n",
            "Evaluating on test...\n",
            "Val loss: 0.9132399161656698, Val metric: 0.730503261089325\n",
            "Val loss: 0.7825938803809029, Val metric: 0.6240914463996887\n",
            "Val loss: 0.7467921484600414, Val metric: 0.5929111838340759\n",
            "Val loss: 0.7301299611727396, Val metric: 0.5759426951408386\n",
            "Val loss: 0.7200748387135958, Val metric: 0.5651704668998718\n",
            "\n",
            "Epoch 9\n",
            "Training...\n",
            "Train loss: 0.7357039792197091\n",
            "Train loss: 0.710087659030125\n",
            "Train loss: 0.7010258314284411\n",
            "Train loss: 0.6972807999384605\n",
            "Train loss: 0.6947079977473697\n",
            "\n",
            "Evaluating on train...\n",
            "Val loss: 0.730454819543021, Val metric: 0.6640108823776245\n",
            "Val loss: 0.705214759399151, Val metric: 0.6412031054496765\n",
            "Val loss: 0.6970996030352332, Val metric: 0.6347499489784241\n",
            "Val loss: 0.6929492707979881, Val metric: 0.6305699348449707\n",
            "Val loss: 0.6903034166709797, Val metric: 0.629729151725769\n",
            "\n",
            "Evaluating on test...\n",
            "Val loss: 0.9105028708775839, Val metric: 0.830540120601654\n",
            "Val loss: 0.780839102608817, Val metric: 0.7098566889762878\n",
            "Val loss: 0.7454319162802263, Val metric: 0.6745930314064026\n",
            "Val loss: 0.7288153290748596, Val metric: 0.6566256284713745\n",
            "Val loss: 0.7188665019838434, Val metric: 0.6471272110939026\n"
          ]
        }
      ]
    },
    {
      "cell_type": "code",
      "metadata": {
        "colab": {
          "base_uri": "https://localhost:8080/",
          "height": 295
        },
        "id": "KToPBmFkpaXf",
        "outputId": "f2edf286-c30a-4084-d44c-5e5fffdabe16"
      },
      "source": [
        "plt.plot(losses)\n",
        "plt.plot(val_losses)\n",
        "plt.title('BCE loss value')\n",
        "plt.ylabel('BCE losses')\n",
        "plt.xlabel('epochs')\n",
        "plt.legend(['train', 'val'], loc='upper right')\n",
        "plt.show()"
      ],
      "execution_count": 37,
      "outputs": [
        {
          "output_type": "display_data",
          "data": {
            "image/png": "[encoded data removed]",
            "text/plain": [
              "<Figure size 432x288 with 1 Axes>"
            ]
          },
          "metadata": {
            "needs_background": "light"
          }
        }
      ]
    },
    {
      "cell_type": "code",
      "metadata": {
        "colab": {
          "base_uri": "https://localhost:8080/",
          "height": 295
        },
        "id": "DSwx6INdpixu",
        "outputId": "c49a5f20-5242-4211-b5b7-d6d846051892"
      },
      "source": [
        "plt.plot(f1s)\n",
        "plt.plot(val_f1s)\n",
        "plt.title('f1 value')\n",
        "plt.ylabel('f1 value')\n",
        "plt.xlabel('epochs')\n",
        "plt.legend(['train', 'val'], loc='upper right')\n",
        "plt.show()"
      ],
      "execution_count": 38,
      "outputs": [
        {
          "output_type": "display_data",
          "data": {
            "image/png": "[encoded data removed]",
            "text/plain": [
              "<Figure size 432x288 with 1 Axes>"
            ]
          },
          "metadata": {
            "needs_background": "light"
          }
        }
      ]
    },
    {
      "cell_type": "code",
      "metadata": {
        "id": "Y-hEZBy5pn5Y"
      },
      "source": [
        "fp, fn, tp, tn = predict(model, val_iterator)"
      ],
      "execution_count": 39,
      "outputs": []
    },
    {
      "cell_type": "code",
      "metadata": {
        "colab": {
          "base_uri": "https://localhost:8080/"
        },
        "id": "5hYVOasjpsgQ",
        "outputId": "d307ae90-6e0b-4992-bf41-81cef8612e72"
      },
      "source": [
        "recall = len(tp)/(len(tp) + len(fn))\n",
        "precision = len(tp)/(len(tp) + len(fp))\n",
        "f_score = 2 * precision * recall / (precision + recall)\n",
        "f_score"
      ],
      "execution_count": 40,
      "outputs": [
        {
          "output_type": "execute_result",
          "data": {
            "text/plain": [
              "0.6149810023520897"
            ]
          },
          "metadata": {},
          "execution_count": 40
        }
      ]
    },
    {
      "cell_type": "markdown",
      "metadata": {
        "id": "b60rqhc0rxrH"
      },
      "source": [
        "Стало чуть-чуть получше, но не намного. Посмотрим на примеры, в которых ошибается модель."
      ]
    },
    {
      "cell_type": "code",
      "metadata": {
        "colab": {
          "base_uri": "https://localhost:8080/"
        },
        "id": "5T_MWzrp1LMW",
        "outputId": "b69e5327-1633-47dc-c3b2-bfe354e23c0f"
      },
      "source": [
        "fp[:5]"
      ],
      "execution_count": 30,
      "outputs": [
        {
          "output_type": "execute_result",
          "data": {
            "text/plain": [
              "['и слава кому что',\n",
              " 'сошел с перетасовал всех так сразу нужных людей и не',\n",
              " 'не стоит ли возвращать что было',\n",
              " 'теперь можешь посмеяться с моих',\n",
              " 'комиссионную контрольную по алгебре на 3 уверена что точно не']"
            ]
          },
          "metadata": {},
          "execution_count": 30
        }
      ]
    },
    {
      "cell_type": "code",
      "metadata": {
        "colab": {
          "base_uri": "https://localhost:8080/"
        },
        "id": "sDVr43WR07wM",
        "outputId": "631c0366-a196-4b5c-ff28-cb6663a9bf12"
      },
      "source": [
        "fn[:5]"
      ],
      "execution_count": 29,
      "outputs": [
        {
          "output_type": "execute_result",
          "data": {
            "text/plain": [
              "['за месяц стали как',\n",
              " 'же больше всего разочаровывают слабые стороны от чего ожидаешь завтрашняя часть перекроет',\n",
              " 'меня заместь на я сказала что люблю а она сказала что я так и говори людям что ты их',\n",
              " 'же соберу все свое мужество в кулак и надо она ниче не',\n",
              " 'завтра же в кино в я']"
            ]
          },
          "metadata": {},
          "execution_count": 29
        }
      ]
    },
    {
      "cell_type": "markdown",
      "metadata": {
        "id": "SbU6RPT3-bOl"
      },
      "source": [
        "Сложно что-то сказать про закономерность на ошибочно классифицированных примерах. Мне кажется, что в целом ошибки модели объяснимы: в отрыве от контекста даже человеку иногда очень сложно определить тональность высказывания. "
      ]
    },
    {
      "cell_type": "markdown",
      "metadata": {
        "id": "IR8dhRW7sjQy"
      },
      "source": [
        "### 2. Модель без предобработки данных"
      ]
    },
    {
      "cell_type": "markdown",
      "metadata": {
        "id": "dHXMUlpAsmgK"
      },
      "source": [
        "До этого мы не смотрели на смайлики и знаки препинания. Попробуем обучить модель вместе с ними."
      ]
    },
    {
      "cell_type": "code",
      "metadata": {
        "id": "BpwsKLtAxU-f"
      },
      "source": [
        "from nltk.tokenize import TweetTokenizer\n",
        "tt = TweetTokenizer()"
      ],
      "execution_count": 41,
      "outputs": []
    },
    {
      "cell_type": "markdown",
      "metadata": {
        "id": "6iLBGYY85VQG"
      },
      "source": [
        "### Dataloader"
      ]
    },
    {
      "cell_type": "code",
      "metadata": {
        "id": "HzMLXRbhxh-j"
      },
      "source": [
        "vocab = Counter()\n",
        "for text in all_tweets_data['text']:\n",
        "    vocab.update(text.split(' '))\n",
        "for word in vocab:\n",
        "    if vocab[word] > 5:\n",
        "        filtered_vocab.add(word)"
      ],
      "execution_count": 42,
      "outputs": []
    },
    {
      "cell_type": "code",
      "metadata": {
        "id": "UyYyJhPixlm5"
      },
      "source": [
        "word2id = {'PAD':0}\n",
        "\n",
        "for word in filtered_vocab:\n",
        "    word2id[word] = len(word2id)\n",
        "    \n",
        "id2word = {i:word for word, i in word2id.items()}"
      ],
      "execution_count": 43,
      "outputs": []
    },
    {
      "cell_type": "markdown",
      "metadata": {
        "id": "--kHextH5YFb"
      },
      "source": [
        "### Dataset"
      ]
    },
    {
      "cell_type": "code",
      "metadata": {
        "id": "NSJHviuwrKYq"
      },
      "source": [
        "class RawDataset(Dataset):\n",
        "\n",
        "    def __init__(self, dataset, word2id, DEVICE):\n",
        "        self.dataset = dataset['text'].values\n",
        "        self.word2id = word2id\n",
        "        self.length = dataset.shape[0]\n",
        "        self.target = torch.Tensor(dataset['tone'].values)\n",
        "        self.device = DEVICE\n",
        "\n",
        "    def __len__(self):\n",
        "        return self.length\n",
        "\n",
        "    def __getitem__(self, index): \n",
        "        tokens = tt.tokenize(self.dataset[index])\n",
        "        ids = torch.LongTensor([self.word2id[token] for token in tokens if token in self.word2id])\n",
        "        y = [self.target[index]]\n",
        "        return ids, y\n",
        "\n",
        "    def collate_fn(self, batch):\n",
        "      ids, y = list(zip(*batch))\n",
        "      padded_ids = pad_sequence(ids, batch_first=True).to(self.device)\n",
        "      y = torch.Tensor(y).to(self.device)\n",
        "      return padded_ids, y"
      ],
      "execution_count": 44,
      "outputs": []
    },
    {
      "cell_type": "code",
      "metadata": {
        "id": "GLeqn4JLrQEM"
      },
      "source": [
        "model = CNN(len(word2id), 2)\n",
        "optimizer = optim.Adam(model.parameters(), lr=0.001)\n",
        "criterion = nn.BCELoss()\n",
        "\n",
        "model = model.to(DEVICE)\n",
        "criterion = criterion.to(DEVICE)"
      ],
      "execution_count": 45,
      "outputs": []
    },
    {
      "cell_type": "code",
      "metadata": {
        "id": "l8GDGlO9rSfL"
      },
      "source": [
        "train_dataset = RawDataset(train_sentences, word2id, DEVICE)\n",
        "train_sampler = RandomSampler(train_dataset)\n",
        "train_iterator = DataLoader(train_dataset, collate_fn = train_dataset.collate_fn, sampler=train_sampler, batch_size=1024)"
      ],
      "execution_count": 46,
      "outputs": []
    },
    {
      "cell_type": "code",
      "metadata": {
        "id": "7UmN0nSIrXHT"
      },
      "source": [
        "val_dataset = RawDataset(val_sentences, word2id, DEVICE)\n",
        "val_sampler = SequentialSampler(val_dataset)\n",
        "val_iterator = DataLoader(val_dataset, collate_fn = val_dataset.collate_fn, sampler=val_sampler, batch_size=1024)"
      ],
      "execution_count": 47,
      "outputs": []
    },
    {
      "cell_type": "code",
      "metadata": {
        "id": "ez-njhJ0rZxo",
        "colab": {
          "base_uri": "https://localhost:8080/"
        },
        "outputId": "a9b9b90c-4fd2-49e0-f7c9-380d642ae86a"
      },
      "source": [
        "losses = []\n",
        "val_losses = []\n",
        "f1s = []\n",
        "val_f1s = []\n",
        "\n",
        "for i in range(10):\n",
        "    print(f'\\nEpoch {i}')\n",
        "    print('Training...')\n",
        "    epoch_loss = train(model, train_iterator, optimizer, criterion)\n",
        "    losses.append(epoch_loss)\n",
        "    print('\\nEvaluating on train...')\n",
        "    f1_on_train,_ = evaluate(model, train_iterator, criterion)\n",
        "    f1s.append(f1_on_train)\n",
        "    print('\\nEvaluating on test...')\n",
        "    f1_on_test, epoch_loss_on_test = evaluate(model, val_iterator, criterion)\n",
        "    val_losses.append(epoch_loss_on_test)\n",
        "    val_f1s.append(f1_on_test)"
      ],
      "execution_count": 48,
      "outputs": [
        {
          "output_type": "stream",
          "name": "stdout",
          "text": [
            "\n",
            "Epoch 0\n",
            "Training...\n",
            "Train loss: 0.688578976052148\n",
            "Train loss: 0.6174518465995789\n",
            "Train loss: 0.5696805234659802\n",
            "Train loss: 0.5260542848352658\n",
            "Train loss: 0.48653403327271744\n",
            "\n",
            "Evaluating on train...\n",
            "Val loss: 0.30975367554596495, Val metric: 0.9500924944877625\n",
            "Val loss: 0.295629457153123, Val metric: 0.9202280640602112\n",
            "Val loss: 0.2929521744901484, Val metric: 0.909008800983429\n",
            "Val loss: 0.29067744390439176, Val metric: 0.904324471950531\n",
            "Val loss: 0.2906046417113897, Val metric: 0.9004938006401062\n",
            "\n",
            "Evaluating on test...\n",
            "Val loss: 0.37051772077878314, Val metric: 1.193864107131958\n",
            "Val loss: 0.32072716525622774, Val metric: 1.0203136205673218\n",
            "Val loss: 0.30953866785222833, Val metric: 0.9711889624595642\n",
            "Val loss: 0.3035271386305491, Val metric: 0.9496087431907654\n",
            "Val loss: 0.3000969071137278, Val metric: 0.9359857439994812\n",
            "\n",
            "Epoch 1\n",
            "Training...\n",
            "Train loss: 0.29465989555631367\n",
            "Train loss: 0.270212986859782\n",
            "Train loss: 0.25488751381635666\n",
            "Train loss: 0.24446855409670684\n",
            "Train loss: 0.23519906260677287\n",
            "\n",
            "Evaluating on train...\n",
            "Val loss: 0.20132775391851152, Val metric: 0.9888133406639099\n",
            "Val loss: 0.19417465452490182, Val metric: 0.9545674920082092\n",
            "Val loss: 0.19177180189977994, Val metric: 0.9433305263519287\n",
            "Val loss: 0.18965014310206396, Val metric: 0.9377158880233765\n",
            "Val loss: 0.1889548533268877, Val metric: 0.9346278309822083\n",
            "\n",
            "Evaluating on test...\n",
            "Val loss: 0.23920813699563345, Val metric: 1.2416415214538574\n",
            "Val loss: 0.20901420712471008, Val metric: 1.0580112934112549\n",
            "Val loss: 0.20280985534191132, Val metric: 1.00613272190094\n",
            "Val loss: 0.19839523533980052, Val metric: 0.9850390553474426\n",
            "Val loss: 0.19740784638806394, Val metric: 0.970941424369812\n",
            "\n",
            "Epoch 2\n",
            "Training...\n",
            "Train loss: 0.2022259309887886\n",
            "Train loss: 0.18579056396566587\n",
            "Train loss: 0.17798236655918034\n",
            "Train loss: 0.17176153321387405\n",
            "Train loss: 0.1669882600371902\n",
            "\n",
            "Evaluating on train...\n",
            "Val loss: 0.15195870772004128, Val metric: 1.0075544118881226\n",
            "Val loss: 0.14368437872878437, Val metric: 0.9729044437408447\n",
            "Val loss: 0.14114329269663853, Val metric: 0.9630124568939209\n",
            "Val loss: 0.14164593803175426, Val metric: 0.9574539661407471\n",
            "Val loss: 0.14110615799153173, Val metric: 0.9544361233711243\n",
            "\n",
            "Evaluating on test...\n",
            "Val loss: 0.1815919205546379, Val metric: 1.2592681646347046\n",
            "Val loss: 0.16061228194407054, Val metric: 1.076807975769043\n",
            "Val loss: 0.1556984856724739, Val metric: 1.0258814096450806\n",
            "Val loss: 0.15215302457412083, Val metric: 1.0048562288284302\n",
            "Val loss: 0.15096719680648102, Val metric: 0.9906423687934875\n",
            "\n",
            "Epoch 3\n",
            "Training...\n",
            "Train loss: 0.1477899599288191\n",
            "Train loss: 0.14162394404411316\n",
            "Train loss: 0.13577680323611607\n",
            "Train loss: 0.13364901835635556\n",
            "Train loss: 0.13092233723885305\n",
            "\n",
            "Evaluating on train...\n",
            "Val loss: 0.11625858289854867, Val metric: 1.0253952741622925\n",
            "Val loss: 0.11286188122527353, Val metric: 0.9887028336524963\n",
            "Val loss: 0.11469382538714191, Val metric: 0.9753100872039795\n",
            "Val loss: 0.11516483633194939, Val metric: 0.9695592522621155\n",
            "Val loss: 0.11451718895821958, Val metric: 0.9663347005844116\n",
            "\n",
            "Evaluating on test...\n",
            "Val loss: 0.15004480630159378, Val metric: 1.2722053527832031\n",
            "Val loss: 0.13456314269985473, Val metric: 1.087812066078186\n",
            "Val loss: 0.1306677074594931, Val metric: 1.0366755723953247\n",
            "Val loss: 0.12717486520608265, Val metric: 1.0147684812545776\n",
            "Val loss: 0.1259080716653874, Val metric: 1.001465082168579\n",
            "\n",
            "Epoch 4\n",
            "Training...\n",
            "Train loss: 0.1195837828729834\n",
            "Train loss: 0.1116554110214628\n",
            "Train loss: 0.10973627272654664\n",
            "Train loss: 0.10606403042704372\n",
            "Train loss: 0.10421523129617846\n",
            "\n",
            "Evaluating on train...\n",
            "Val loss: 0.09413905282105718, Val metric: 1.0343600511550903\n",
            "Val loss: 0.09168157520993002, Val metric: 0.997978925704956\n",
            "Val loss: 0.09079059806059707, Val metric: 0.9868322014808655\n",
            "Val loss: 0.09074329104969057, Val metric: 0.9813448190689087\n",
            "Val loss: 0.09001048563702686, Val metric: 0.9785739779472351\n",
            "\n",
            "Evaluating on test...\n",
            "Val loss: 0.12133210897445679, Val metric: 1.2863984107971191\n",
            "Val loss: 0.10930697407041277, Val metric: 1.0998528003692627\n",
            "Val loss: 0.10677302154627713, Val metric: 1.0482569932937622\n",
            "Val loss: 0.1039429302016894, Val metric: 1.0248881578445435\n",
            "Val loss: 0.10311958193778992, Val metric: 1.0114437341690063\n",
            "\n",
            "Epoch 5\n",
            "Training...\n",
            "Train loss: 0.09971152618527412\n",
            "Train loss: 0.09007799548321757\n",
            "Train loss: 0.08753476393493739\n",
            "Train loss: 0.08571255156549357\n",
            "Train loss: 0.08359503902092173\n",
            "\n",
            "Evaluating on train...\n",
            "Val loss: 0.07430465040462357, Val metric: 1.0417784452438354\n",
            "Val loss: 0.0724667670397923, Val metric: 1.0060007572174072\n",
            "Val loss: 0.07118874661285769, Val metric: 0.9952817559242249\n",
            "Val loss: 0.07157754992782059, Val metric: 0.9896939992904663\n",
            "Val loss: 0.07160543101663525, Val metric: 0.9862965941429138\n",
            "\n",
            "Evaluating on test...\n",
            "Val loss: 0.10053640728195508, Val metric: 1.297104835510254\n",
            "Val loss: 0.09170221058385712, Val metric: 1.1076396703720093\n",
            "Val loss: 0.09020475061102347, Val metric: 1.0556628704071045\n",
            "Val loss: 0.08800085062781969, Val metric: 1.0320515632629395\n",
            "Val loss: 0.08743429242780335, Val metric: 1.0181641578674316\n",
            "\n",
            "Epoch 6\n",
            "Training...\n",
            "Train loss: 0.07168120704591274\n",
            "Train loss: 0.06912117220204451\n",
            "Train loss: 0.06750937271863222\n",
            "Train loss: 0.06699784017973028\n",
            "Train loss: 0.06607999889230406\n",
            "\n",
            "Evaluating on train...\n",
            "Val loss: 0.059962227674467225, Val metric: 1.0500537157058716\n",
            "Val loss: 0.0568695114604358, Val metric: 1.0139446258544922\n",
            "Val loss: 0.056627370925112205, Val metric: 1.0025631189346313\n",
            "Val loss: 0.055666285677481504, Val metric: 0.9968756437301636\n",
            "Val loss: 0.0551818311214447, Val metric: 0.993504524230957\n",
            "\n",
            "Evaluating on test...\n",
            "Val loss: 0.08049977943301201, Val metric: 1.3022671937942505\n",
            "Val loss: 0.07405149457710129, Val metric: 1.1131188869476318\n",
            "Val loss: 0.07320933450352062, Val metric: 1.0622872114181519\n",
            "Val loss: 0.07114950915177663, Val metric: 1.0392862558364868\n",
            "Val loss: 0.07038612173576105, Val metric: 1.025212287902832\n",
            "\n",
            "Epoch 7\n",
            "Training...\n",
            "Train loss: 0.058283407507198196\n",
            "Train loss: 0.055949700289759145\n",
            "Train loss: 0.05355414121665738\n",
            "Train loss: 0.05144697655055482\n",
            "Train loss: 0.0508567592179453\n",
            "\n",
            "Evaluating on train...\n",
            "Val loss: 0.04479583938206945, Val metric: 1.0574003458023071\n",
            "Val loss: 0.04413317053996284, Val metric: 1.0199946165084839\n",
            "Val loss: 0.04313455242663622, Val metric: 1.0084322690963745\n",
            "Val loss: 0.04263805055012137, Val metric: 1.0028324127197266\n",
            "Val loss: 0.04262707941234112, Val metric: 0.9994005560874939\n",
            "\n",
            "Evaluating on test...\n",
            "Val loss: 0.06708634148041408, Val metric: 1.31192147731781\n",
            "Val loss: 0.062406741082668304, Val metric: 1.120680332183838\n",
            "Val loss: 0.06218433515592055, Val metric: 1.0683503150939941\n",
            "Val loss: 0.06050870815912882, Val metric: 1.0444239377975464\n",
            "Val loss: 0.05962242617418891, Val metric: 1.0305745601654053\n",
            "\n",
            "Epoch 8\n",
            "Training...\n",
            "Train loss: 0.04616502778870719\n",
            "Train loss: 0.04257792722562264\n",
            "Train loss: 0.04094876365905458\n",
            "Train loss: 0.04010732478256953\n",
            "Train loss: 0.0390547963262007\n",
            "\n",
            "Evaluating on train...\n",
            "Val loss: 0.03318331324096237, Val metric: 1.0610615015029907\n",
            "Val loss: 0.03478715806428728, Val metric: 1.0232939720153809\n",
            "Val loss: 0.033861914607272905, Val metric: 1.012048602104187\n",
            "Val loss: 0.03370323328901145, Val metric: 1.0064787864685059\n",
            "Val loss: 0.03399963349708029, Val metric: 1.0027164220809937\n",
            "\n",
            "Evaluating on test...\n",
            "Val loss: 0.057687186946471534, Val metric: 1.315348505973816\n",
            "Val loss: 0.05458533923540797, Val metric: 1.1231274604797363\n",
            "Val loss: 0.054366017945788124, Val metric: 1.0710099935531616\n",
            "Val loss: 0.05253060559431712, Val metric: 1.0471543073654175\n",
            "Val loss: 0.051806759481367315, Val metric: 1.0328810214996338\n",
            "\n",
            "Epoch 9\n",
            "Training...\n",
            "Train loss: 0.03394762759229967\n",
            "Train loss: 0.03176804355763156\n",
            "Train loss: 0.0306502043438906\n",
            "Train loss: 0.030707582073696588\n",
            "Train loss: 0.030562882714376256\n",
            "\n",
            "Evaluating on train...\n",
            "Val loss: 0.027811188782964433, Val metric: 1.0627520084381104\n",
            "Val loss: 0.02584932217824048, Val metric: 1.026671051979065\n",
            "Val loss: 0.0254296016540717, Val metric: 1.0152478218078613\n",
            "Val loss: 0.025487649364996763, Val metric: 1.0092823505401611\n",
            "Val loss: 0.025465775079823828, Val metric: 1.0058133602142334\n",
            "\n",
            "Evaluating on test...\n",
            "Val loss: 0.047438460091749825, Val metric: 1.3166015148162842\n",
            "Val loss: 0.04558411134140832, Val metric: 1.1254123449325562\n",
            "Val loss: 0.04563054950399832, Val metric: 1.0736793279647827\n",
            "Val loss: 0.04422413731614749, Val metric: 1.0499416589736938\n",
            "Val loss: 0.04336316236539891, Val metric: 1.0359735488891602\n"
          ]
        }
      ]
    },
    {
      "cell_type": "code",
      "metadata": {
        "id": "Gor_Y8q2rtQB",
        "colab": {
          "base_uri": "https://localhost:8080/",
          "height": 295
        },
        "outputId": "5d289c2d-4e61-4b2e-b5e1-bab19f320157"
      },
      "source": [
        "plt.plot(losses)\n",
        "plt.plot(val_losses)\n",
        "plt.title('BCE loss value')\n",
        "plt.ylabel('BCE losses')\n",
        "plt.xlabel('epochs')\n",
        "plt.legend(['train', 'val'], loc='upper right')\n",
        "plt.show()"
      ],
      "execution_count": 49,
      "outputs": [
        {
          "output_type": "display_data",
          "data": {
            "image/png": "[encoded data removed]",
            "text/plain": [
              "<Figure size 432x288 with 1 Axes>"
            ]
          },
          "metadata": {
            "needs_background": "light"
          }
        }
      ]
    },
    {
      "cell_type": "code",
      "metadata": {
        "id": "jB3tb_FNrtwF",
        "colab": {
          "base_uri": "https://localhost:8080/",
          "height": 295
        },
        "outputId": "a1cf8297-2d3d-4183-98b8-fbcd6c4d5964"
      },
      "source": [
        "plt.plot(f1s)\n",
        "plt.plot(val_f1s)\n",
        "plt.title('f1 value')\n",
        "plt.ylabel('f1 value')\n",
        "plt.xlabel('epochs')\n",
        "plt.legend(['train', 'val'], loc='upper right')\n",
        "plt.show()"
      ],
      "execution_count": 50,
      "outputs": [
        {
          "output_type": "display_data",
          "data": {
            "image/png": "[encoded data removed]",
            "text/plain": [
              "<Figure size 432x288 with 1 Axes>"
            ]
          },
          "metadata": {
            "needs_background": "light"
          }
        }
      ]
    },
    {
      "cell_type": "code",
      "metadata": {
        "id": "H-72LBs2rwoH"
      },
      "source": [
        "fp, fn, tp, tn = predict(model, val_iterator)"
      ],
      "execution_count": 51,
      "outputs": []
    },
    {
      "cell_type": "code",
      "metadata": {
        "id": "EaCaFqK0r3Dm",
        "colab": {
          "base_uri": "https://localhost:8080/"
        },
        "outputId": "49829451-6b46-4414-f0f3-c8b350267f18"
      },
      "source": [
        "recall = len(tp)/(len(tp) + len(fn))\n",
        "precision = len(tp)/(len(tp) + len(fp))\n",
        "f_score = 2 * precision * recall / (precision + recall)\n",
        "f_score"
      ],
      "execution_count": 52,
      "outputs": [
        {
          "output_type": "execute_result",
          "data": {
            "text/plain": [
              "0.9839945011783189"
            ]
          },
          "metadata": {},
          "execution_count": 52
        }
      ]
    },
    {
      "cell_type": "markdown",
      "metadata": {
        "id": "Y028SA7_tfJO"
      },
      "source": [
        "Наличие смайликов и знаков препинания сильно повлияло на качество модели. В целом, это ожидаемо, так как твиты и другие комментарии в соцсетях очень часто экспрессивны, поэтому содержат смайлики и другие знаки (например, скобочки) для выражения эмоций. "
      ]
    },
    {
      "cell_type": "markdown",
      "metadata": {
        "id": "pNuBMJ3zuZxT"
      },
      "source": [
        "### 2. Модель с двумя входами"
      ]
    },
    {
      "cell_type": "markdown",
      "metadata": {
        "id": "KoGJLYywuiXO"
      },
      "source": [
        "### Dataloader"
      ]
    },
    {
      "cell_type": "code",
      "metadata": {
        "id": "nA4oK6t5r3dZ"
      },
      "source": [
        "vocab = Counter()\n",
        "\n",
        "for text in all_tweets_data['clean_data']:\n",
        "    vocab.update(text.split())\n",
        "  \n",
        "filtered_vocab = set()\n",
        "\n",
        "for word in vocab:\n",
        "    if vocab[word] > 1:\n",
        "        filtered_vocab.add(word)\n",
        "\n",
        "word2id = {'PAD':0}\n",
        "\n",
        "for word in vocab:\n",
        "    word2id[word] = len(word2id)\n",
        "\n",
        "id2word = {i:word for word, i in word2id.items()}"
      ],
      "execution_count": 55,
      "outputs": []
    },
    {
      "cell_type": "code",
      "metadata": {
        "id": "0rL6RZ1YsiX6"
      },
      "source": [
        "char_vocab = Counter()\n",
        "\n",
        "for text in all_tweets_data['clean_data']:\n",
        "    for word in text:\n",
        "      char_vocab.update(list(word))\n",
        "\n",
        "filtered_char_vocab = set()\n",
        "\n",
        "for word in char_vocab:\n",
        "    if char_vocab[word] > 10:\n",
        "        filtered_char_vocab.add(word)\n",
        "\n",
        "symbol2id = {'PAD':0}\n",
        "\n",
        "for symbol in filtered_char_vocab:\n",
        "    symbol2id[symbol] = len(symbol2id)\n",
        "\n",
        "id2symbol = {i:symbol for symbol, i in symbol2id.items()}"
      ],
      "execution_count": 56,
      "outputs": []
    },
    {
      "cell_type": "markdown",
      "metadata": {
        "id": "hZTtdqFZ94NX"
      },
      "source": [
        "### Dataset"
      ]
    },
    {
      "cell_type": "markdown",
      "metadata": {
        "id": "S9Q5CilJuys7"
      },
      "source": [
        "Сразу добавим dropout, чтобы избежать переобучения. "
      ]
    },
    {
      "cell_type": "code",
      "metadata": {
        "id": "dDEIsrB_sju4"
      },
      "source": [
        "class WordSymbDataset(Dataset):\n",
        "\n",
        "    def __init__(self, dataset, word2id, symbol2id, DEVICE):\n",
        "        self.dataset = dataset['clean_data'].values\n",
        "        self.word2id = word2id\n",
        "        self.symbol2id = symbol2id\n",
        "        self.length = dataset.shape[0]\n",
        "        self.target = torch.Tensor(dataset['tone'].values)\n",
        "        self.device = DEVICE\n",
        "\n",
        "    def __len__(self):\n",
        "        return self.length\n",
        "\n",
        "    def __getitem__(self, index): \n",
        "        symbols = list(self.dataset[index])\n",
        "        symb_ids = torch.LongTensor([self.symbol2id[symbol] for symbol in symbols if symbol in self.symbol2id])\n",
        "        tokens = self.dataset[index].split()\n",
        "        word_ids = torch.LongTensor([self.word2id[token] for token in tokens if token in self.word2id])\n",
        "        y = [self.target[index]]\n",
        "        return word_ids, symb_ids, y\n",
        "\n",
        "    def collate_fn(self, batch):\n",
        "      word_ids, symb_ids, y = list(zip(*batch))\n",
        "      padded_words = pad_sequence(word_ids, batch_first=True).to(self.device)\n",
        "      padded_symbs = pad_sequence(symb_ids, batch_first=True).to(self.device)\n",
        "      y = torch.Tensor(y).to(self.device)\n",
        "      return padded_words, padded_symbs, y"
      ],
      "execution_count": 57,
      "outputs": []
    },
    {
      "cell_type": "code",
      "metadata": {
        "id": "m3_xaywHsn0D"
      },
      "source": [
        "train_dataset = WordSymbDataset(train_sentences, word2id, symbol2id, DEVICE)\n",
        "train_sampler = RandomSampler(train_dataset)\n",
        "train_iterator = DataLoader(train_dataset, collate_fn = train_dataset.collate_fn, sampler=train_sampler, batch_size=1024)"
      ],
      "execution_count": 58,
      "outputs": []
    },
    {
      "cell_type": "code",
      "metadata": {
        "id": "90qd3Q0rsqan"
      },
      "source": [
        "val_dataset = WordSymbDataset(val_sentences, word2id, symbol2id, DEVICE)\n",
        "val_sampler = SequentialSampler(val_dataset)\n",
        "val_iterator = DataLoader(val_dataset, collate_fn = val_dataset.collate_fn, sampler=val_sampler, batch_size=1024)"
      ],
      "execution_count": 59,
      "outputs": []
    },
    {
      "cell_type": "code",
      "metadata": {
        "id": "YgSba5fjssMg"
      },
      "source": [
        "class WordSymbCNN(nn.Module):\n",
        "\n",
        "    def __init__(self, symb_vocab_size, symb_embedding_dim, word_vocab_size):\n",
        "        super().__init__()\n",
        "\n",
        "        # word-level layers\n",
        "        self.word_embedding = nn.Embedding(word_vocab_size, 100)\n",
        "        self.word_embedding.from_pretrained(torch.tensor(weights), freeze=True)\n",
        "        self.word_hidden = nn.Linear(100, 100) \n",
        "\n",
        "        # symbol-level layers\n",
        "        self.symb_embedding = nn.Embedding(symb_vocab_size, symb_embedding_dim)\n",
        "        self.symb_bigrams = nn.Conv1d(in_channels=symb_embedding_dim, out_channels=100, kernel_size=2, padding='same')\n",
        "        self.symb_trigrams = nn.Conv1d(in_channels=symb_embedding_dim, out_channels=80, kernel_size=3, padding='same')\n",
        "        self.symb_pooling = nn.MaxPool1d(kernel_size=2, stride=2)\n",
        "        self.symb_hidden = nn.Linear(in_features=180, out_features=100)\n",
        "        \n",
        "        # universal layers\n",
        "        self.linear = nn.Linear(in_features=200, out_features=1)\n",
        "        self.dropout = nn.Dropout(p=0.5)\n",
        "        self.relu = nn.ReLU()   \n",
        "        self.out = nn.Sigmoid()\n",
        "\n",
        "    def forward(self, words_seq, symb_seq):\n",
        "        embedded = self.symb_embedding(symb_seq)\n",
        "        embedded = embedded.transpose(1,2)\n",
        "        feature_map_bigrams = self.dropout(self.symb_pooling(self.relu(self.symb_bigrams(embedded))))\n",
        "        feature_map_trigrams = self.dropout(self.symb_pooling(self.relu(self.symb_trigrams(embedded))))\n",
        "\n",
        "        pooling1 = feature_map_bigrams.max(2)[0] \n",
        "        pooling2 = feature_map_trigrams.max(2)[0]\n",
        "        concat = torch.cat((pooling1, pooling2), 1)\n",
        "        symb_vec = self.symb_hidden(concat)\n",
        "\n",
        "        embedded_words = self.word_embedding(words_seq)  \n",
        "        mean_emb_words = torch.mean(embedded_words, dim=1)\n",
        "        word_vec = self.dropout(self.word_hidden(mean_emb_words))\n",
        "        word_vec = self.dropout(self.relu(word_vec))\n",
        "\n",
        "        concat = torch.cat((symb_vec, word_vec), 1)\n",
        "        logits = self.out(self.linear(concat))      \n",
        "        return logits"
      ],
      "execution_count": 74,
      "outputs": []
    },
    {
      "cell_type": "code",
      "metadata": {
        "id": "Dzik-e5xtX0N"
      },
      "source": [
        "def train(model, iterator, optimizer, criterion):\n",
        "    epoch_loss = 0\n",
        "\n",
        "    model.train()\n",
        "\n",
        "    for i, (word_seq, symb_seq, ys) in enumerate(iterator): \n",
        "        optimizer.zero_grad()\n",
        "        preds = model(word_seq, symb_seq)\n",
        "        loss = criterion(preds, ys) \n",
        "        loss.backward() \n",
        "        optimizer.step()\n",
        "        epoch_loss += loss.item()\n",
        "        if not (i + 1) % int(len(iterator)/5):\n",
        "            print(f'Train loss: {epoch_loss/i}')      \n",
        "    return  epoch_loss / len(iterator)"
      ],
      "execution_count": 61,
      "outputs": []
    },
    {
      "cell_type": "code",
      "metadata": {
        "id": "JHGaz_E8tkXd"
      },
      "source": [
        "def evaluate(model, iterator, criterion):\n",
        "    epoch_loss = 0\n",
        "    epoch_metric = 0\n",
        "    model.eval() \n",
        "    with torch.no_grad():\n",
        "        for i, (word_seq, symb_seq, ys) in enumerate(iterator):   \n",
        "            preds = model(word_seq, symb_seq)\n",
        "            loss = criterion(preds, ys)\n",
        "            epoch_loss += loss.item()\n",
        "            batch_metric = f1(preds.round().long(), ys.long(), ignore_index=0)\n",
        "            epoch_metric += batch_metric\n",
        "\n",
        "            if not (i + 1) % int(len(iterator)/5):\n",
        "              print(f'Val loss: {epoch_loss/i}, Val metric: {epoch_metric/i}')\n",
        "        \n",
        "    return epoch_metric / len(iterator), epoch_loss / len(iterator)"
      ],
      "execution_count": 62,
      "outputs": []
    },
    {
      "cell_type": "code",
      "metadata": {
        "id": "MOC4cdRKtr4R"
      },
      "source": [
        "model = WordSymbCNN(len(symbol2id), 8, len(word2id))\n",
        "optimizer = optim.Adam(model.parameters(), lr=0.001)\n",
        "criterion = nn.BCELoss()\n",
        "\n",
        "model = model.to(DEVICE)\n",
        "criterion = criterion.to(DEVICE)"
      ],
      "execution_count": 63,
      "outputs": []
    },
    {
      "cell_type": "code",
      "metadata": {
        "id": "i_2Gczvtt6g-",
        "colab": {
          "base_uri": "https://localhost:8080/"
        },
        "outputId": "a7dbebb0-6dd7-4455-8060-85eb8398b36a"
      },
      "source": [
        "losses = []\n",
        "val_losses = []\n",
        "f1s = []\n",
        "val_f1s = []\n",
        "\n",
        "for i in range(10):\n",
        "    print(f'\\nEpoch {i}')\n",
        "    print('Training...')\n",
        "    epoch_loss = train(model, train_iterator, optimizer, criterion)\n",
        "    losses.append(epoch_loss)\n",
        "    print('\\nEvaluating on train...')\n",
        "    f1_on_train,_ = evaluate(model, train_iterator, criterion)\n",
        "    f1s.append(f1_on_train)\n",
        "    print('\\nEvaluating on test...')\n",
        "    f1_on_test, epoch_loss_on_test = evaluate(model, val_iterator, criterion)\n",
        "    val_losses.append(epoch_loss_on_test)\n",
        "    val_f1s.append(f1_on_test)"
      ],
      "execution_count": 64,
      "outputs": [
        {
          "output_type": "stream",
          "name": "stdout",
          "text": [
            "\n",
            "Epoch 0\n",
            "Training...\n",
            "Train loss: 0.8258845678397587\n",
            "Train loss: 0.7602222459069614\n",
            "Train loss: 0.7344000339508057\n",
            "Train loss: 0.718605334475889\n",
            "Train loss: 0.7073647637624998\n",
            "\n",
            "Evaluating on train...\n",
            "Val loss: 0.7159669739859444, Val metric: 0.6662214398384094\n",
            "Val loss: 0.6905391894537827, Val metric: 0.6499683260917664\n",
            "Val loss: 0.682429472153837, Val metric: 0.6471801400184631\n",
            "Val loss: 0.678449982303684, Val metric: 0.6441304087638855\n",
            "Val loss: 0.6761804110295063, Val metric: 0.6425334215164185\n",
            "\n",
            "Evaluating on test...\n",
            "Val loss: 0.8924075365066528, Val metric: 0.8406431674957275\n",
            "Val loss: 0.7640071085521153, Val metric: 0.7238415479660034\n",
            "Val loss: 0.7281820340590044, Val metric: 0.6980190873146057\n",
            "Val loss: 0.7121260603268941, Val metric: 0.6820590496063232\n",
            "Val loss: 0.7027906869587145, Val metric: 0.6724215745925903\n",
            "\n",
            "Epoch 1\n",
            "Training...\n",
            "Train loss: 0.7014424204826355\n",
            "Train loss: 0.6722899202642769\n",
            "Train loss: 0.6600977128202264\n",
            "Train loss: 0.652079477148541\n",
            "Train loss: 0.6454083484572333\n",
            "\n",
            "Evaluating on train...\n",
            "Val loss: 0.6750525619302478, Val metric: 0.7333545684814453\n",
            "Val loss: 0.6517709986916904, Val metric: 0.707809567451477\n",
            "Val loss: 0.6447576433420181, Val metric: 0.6993191838264465\n",
            "Val loss: 0.6407268097845175, Val metric: 0.6959185600280762\n",
            "Val loss: 0.638319530197092, Val metric: 0.6934844851493835\n",
            "\n",
            "Evaluating on test...\n",
            "Val loss: 0.8437226613362631, Val metric: 0.9107531905174255\n",
            "Val loss: 0.7225702064377921, Val metric: 0.7759393453598022\n",
            "Val loss: 0.687665196982297, Val metric: 0.7452828884124756\n",
            "Val loss: 0.6730478247006734, Val metric: 0.7290714383125305\n",
            "Val loss: 0.664592046486704, Val metric: 0.7193270921707153\n",
            "\n",
            "Epoch 2\n",
            "Training...\n",
            "Train loss: 0.6683109487806048\n",
            "Train loss: 0.6402486439408928\n",
            "Train loss: 0.6322470483454791\n",
            "Train loss: 0.6260029188657211\n",
            "Train loss: 0.6214663619930679\n",
            "\n",
            "Evaluating on train...\n",
            "Val loss: 0.6608704711709704, Val metric: 0.7355913519859314\n",
            "Val loss: 0.63806970982716, Val metric: 0.7105725407600403\n",
            "Val loss: 0.6305980655280027, Val metric: 0.7034562826156616\n",
            "Val loss: 0.6282493431689375, Val metric: 0.6974138021469116\n",
            "Val loss: 0.6261083677008346, Val metric: 0.6951512098312378\n",
            "\n",
            "Evaluating on test...\n",
            "Val loss: 0.8279847900072733, Val metric: 0.9111934304237366\n",
            "Val loss: 0.7096981406211853, Val metric: 0.7741861343383789\n",
            "Val loss: 0.6752818010070107, Val metric: 0.7454975247383118\n",
            "Val loss: 0.6611333966255188, Val metric: 0.7280759215354919\n",
            "Val loss: 0.6529395078357897, Val metric: 0.7171958684921265\n",
            "\n",
            "Epoch 3\n",
            "Training...\n",
            "Train loss: 0.6532020909445626\n",
            "Train loss: 0.6260602720852556\n",
            "Train loss: 0.6159084899858995\n",
            "Train loss: 0.6125582365666405\n",
            "Train loss: 0.6083073285785882\n",
            "\n",
            "Evaluating on train...\n",
            "Val loss: 0.6689981307302203, Val metric: 0.7623224258422852\n",
            "Val loss: 0.6451558470726013, Val metric: 0.7355230450630188\n",
            "Val loss: 0.6374470767649737, Val metric: 0.7275550961494446\n",
            "Val loss: 0.6332832968841164, Val metric: 0.7242528796195984\n",
            "Val loss: 0.6311061197036022, Val metric: 0.7218416333198547\n",
            "\n",
            "Evaluating on test...\n",
            "Val loss: 0.8314603368441263, Val metric: 0.963226854801178\n",
            "Val loss: 0.7150452903338841, Val metric: 0.8165561556816101\n",
            "Val loss: 0.6817976886575873, Val metric: 0.7781781554222107\n",
            "Val loss: 0.6681699593861897, Val metric: 0.759477972984314\n",
            "Val loss: 0.6599724606463784, Val metric: 0.7488446235656738\n",
            "\n",
            "Epoch 4\n",
            "Training...\n",
            "Train loss: 0.6402503294604165\n",
            "Train loss: 0.6157680667679886\n",
            "Train loss: 0.6056204654953696\n",
            "Train loss: 0.6027824110903982\n",
            "Train loss: 0.5982816871759054\n",
            "\n",
            "Evaluating on train...\n",
            "Val loss: 0.6463052417550769, Val metric: 0.7766669392585754\n",
            "Val loss: 0.6219337068755051, Val metric: 0.7522092461585999\n",
            "Val loss: 0.6156297000971708, Val metric: 0.7432382702827454\n",
            "Val loss: 0.6123043157286563, Val metric: 0.739138126373291\n",
            "Val loss: 0.6105776960785324, Val metric: 0.7362946271896362\n",
            "\n",
            "Evaluating on test...\n",
            "Val loss: 0.8094286322593689, Val metric: 0.9680841565132141\n",
            "Val loss: 0.6955119797161647, Val metric: 0.8213014602661133\n",
            "Val loss: 0.6621037992564115, Val metric: 0.7854965329170227\n",
            "Val loss: 0.6486358284950257, Val metric: 0.7675542831420898\n",
            "Val loss: 0.6403579460947137, Val metric: 0.7572696805000305\n",
            "\n",
            "Epoch 5\n",
            "Training...\n",
            "Train loss: 0.619040561573846\n",
            "Train loss: 0.5967856234517591\n",
            "Train loss: 0.5895438736135309\n",
            "Train loss: 0.5874526955313601\n",
            "Train loss: 0.5856311329313226\n",
            "\n",
            "Evaluating on train...\n",
            "Val loss: 0.6235058605670929, Val metric: 0.7979785203933716\n",
            "Val loss: 0.6032193796388035, Val metric: 0.7652938365936279\n",
            "Val loss: 0.595883930271322, Val metric: 0.7571973204612732\n",
            "Val loss: 0.5925097273567975, Val metric: 0.7532674074172974\n",
            "Val loss: 0.5905339025162362, Val metric: 0.7503055930137634\n",
            "\n",
            "Evaluating on test...\n",
            "Val loss: 0.7907200256983439, Val metric: 0.9776037335395813\n",
            "Val loss: 0.679486700466701, Val metric: 0.8292106986045837\n",
            "Val loss: 0.6461614045229825, Val metric: 0.7924604415893555\n",
            "Val loss: 0.6328738411267598, Val metric: 0.7742845416069031\n",
            "Val loss: 0.6243412871109811, Val metric: 0.7647871971130371\n",
            "\n",
            "Epoch 6\n",
            "Training...\n",
            "Train loss: 0.6031039825507573\n",
            "Train loss: 0.5799135072477932\n",
            "Train loss: 0.572734618728811\n",
            "Train loss: 0.5684566437187841\n",
            "Train loss: 0.5657177092255773\n",
            "\n",
            "Evaluating on train...\n",
            "Val loss: 0.5912440802369799, Val metric: 0.8047626614570618\n",
            "Val loss: 0.5714853611485712, Val metric: 0.7786313891410828\n",
            "Val loss: 0.5653560987927697, Val metric: 0.7716693878173828\n",
            "Val loss: 0.5603824106313414, Val metric: 0.7685458660125732\n",
            "Val loss: 0.558464802600242, Val metric: 0.7658355832099915\n",
            "\n",
            "Evaluating on test...\n",
            "Val loss: 0.7633429368336996, Val metric: 0.9761917591094971\n",
            "Val loss: 0.6556963154247829, Val metric: 0.8295277953147888\n",
            "Val loss: 0.6218229369683699, Val metric: 0.7953794002532959\n",
            "Val loss: 0.6087557792663574, Val metric: 0.7765780687332153\n",
            "Val loss: 0.5999709179526881, Val metric: 0.768317461013794\n",
            "\n",
            "Epoch 7\n",
            "Training...\n",
            "Train loss: 0.5756250108991351\n",
            "Train loss: 0.5587671193583258\n",
            "Train loss: 0.5526533898982134\n",
            "Train loss: 0.5488217372005268\n",
            "Train loss: 0.5449102875348684\n",
            "\n",
            "Evaluating on train...\n",
            "Val loss: 0.5689691688333239, Val metric: 0.8279232978820801\n",
            "Val loss: 0.5515688061714172, Val metric: 0.7946416139602661\n",
            "Val loss: 0.5449900139461864, Val metric: 0.7864837050437927\n",
            "Val loss: 0.5412792169441611, Val metric: 0.7833569049835205\n",
            "Val loss: 0.5397588803961471, Val metric: 0.7805265188217163\n",
            "\n",
            "Evaluating on test...\n",
            "Val loss: 0.7521364291508993, Val metric: 0.9910242557525635\n",
            "Val loss: 0.6461232049124581, Val metric: 0.8423891663551331\n",
            "Val loss: 0.6128735488111322, Val metric: 0.8043619394302368\n",
            "Val loss: 0.5999279697736104, Val metric: 0.7860143780708313\n",
            "Val loss: 0.5909457990997716, Val metric: 0.7771531343460083\n",
            "\n",
            "Epoch 8\n",
            "Training...\n",
            "Train loss: 0.5605639602456775\n",
            "Train loss: 0.5360020686840189\n",
            "Train loss: 0.5301020633090626\n",
            "Train loss: 0.5246216548701464\n",
            "Train loss: 0.5203816379244263\n",
            "\n",
            "Evaluating on train...\n",
            "Val loss: 0.513823172875813, Val metric: 0.8498868942260742\n",
            "Val loss: 0.5000150337301451, Val metric: 0.8169459104537964\n",
            "Val loss: 0.49447872218760575, Val metric: 0.8082111477851868\n",
            "Val loss: 0.49081162527456124, Val metric: 0.8045778274536133\n",
            "Val loss: 0.4894317239522934, Val metric: 0.8011385202407837\n",
            "\n",
            "Evaluating on test...\n",
            "Val loss: 0.7193225820859274, Val metric: 0.9808599352836609\n",
            "Val loss: 0.6162961551121303, Val metric: 0.8338811993598938\n",
            "Val loss: 0.5806172110817649, Val metric: 0.8042967319488525\n",
            "Val loss: 0.568457281589508, Val metric: 0.7846543788909912\n",
            "Val loss: 0.5587868188556872, Val metric: 0.7781778573989868\n",
            "\n",
            "Epoch 9\n",
            "Training...\n",
            "Train loss: 0.5259962975978851\n",
            "Train loss: 0.5065404310308653\n",
            "Train loss: 0.5004385100169615\n",
            "Train loss: 0.4977941235243264\n",
            "Train loss: 0.49600460924006795\n",
            "\n",
            "Evaluating on train...\n",
            "Val loss: 0.4784447742359979, Val metric: 0.8694745898246765\n",
            "Val loss: 0.4642849677595599, Val metric: 0.8381503820419312\n",
            "Val loss: 0.45902601832693274, Val metric: 0.8287311792373657\n",
            "Val loss: 0.4563998539569014, Val metric: 0.8242968916893005\n",
            "Val loss: 0.4541954088049966, Val metric: 0.8215771913528442\n",
            "\n",
            "Evaluating on test...\n",
            "Val loss: 0.7043061256408691, Val metric: 0.9884870052337646\n",
            "Val loss: 0.6026699628148761, Val metric: 0.8401266932487488\n",
            "Val loss: 0.5656812191009521, Val metric: 0.8092930316925049\n",
            "Val loss: 0.5540908972422282, Val metric: 0.7905378341674805\n",
            "Val loss: 0.544086826475043, Val metric: 0.7837082743644714\n"
          ]
        }
      ]
    },
    {
      "cell_type": "code",
      "metadata": {
        "id": "Rku3pxoAuAv8",
        "colab": {
          "base_uri": "https://localhost:8080/",
          "height": 295
        },
        "outputId": "e3a61cc1-9791-4568-8163-45a39b4fb4d5"
      },
      "source": [
        "plt.plot(losses)\n",
        "plt.plot(val_losses)\n",
        "plt.title('BCE loss value')\n",
        "plt.ylabel('BCE losses')\n",
        "plt.xlabel('epochs')\n",
        "plt.legend(['train', 'val'], loc='upper right')\n",
        "plt.show()"
      ],
      "execution_count": 65,
      "outputs": [
        {
          "output_type": "display_data",
          "data": {
            "image/png": "[encoded data removed]",
            "text/plain": [
              "<Figure size 432x288 with 1 Axes>"
            ]
          },
          "metadata": {
            "needs_background": "light"
          }
        }
      ]
    },
    {
      "cell_type": "code",
      "metadata": {
        "id": "y64RsMMUuqlu",
        "colab": {
          "base_uri": "https://localhost:8080/",
          "height": 295
        },
        "outputId": "f802606a-9ea1-4060-b082-75aa2ac5ce47"
      },
      "source": [
        "plt.plot(f1s)\n",
        "plt.plot(val_f1s)\n",
        "plt.title('f1 value')\n",
        "plt.ylabel('f1 value')\n",
        "plt.xlabel('epochs')\n",
        "plt.legend(['train', 'val'], loc='upper right')\n",
        "plt.show()"
      ],
      "execution_count": 66,
      "outputs": [
        {
          "output_type": "display_data",
          "data": {
            "image/png": "[encoded data removed]",
            "text/plain": [
              "<Figure size 432x288 with 1 Axes>"
            ]
          },
          "metadata": {
            "needs_background": "light"
          }
        }
      ]
    },
    {
      "cell_type": "code",
      "metadata": {
        "id": "44EB67lLMxR7"
      },
      "source": [
        "def predict(model, iterator):\n",
        "    model.eval()\n",
        "    fp = []\n",
        "    fn = []\n",
        "    tp = [] \n",
        "    tn = []\n",
        "    with torch.no_grad():\n",
        "        for i, (word_seq, symb_seq, ys) in enumerate(iterator):  \n",
        "            preds = model(word_seq, symb_seq)  \n",
        "            for pred, gold, text in zip(preds, ys, word_seq):\n",
        "              text = ' '.join([id2word[int(word)] for word in text if word !=0])\n",
        "              if round(pred.item()) > gold:\n",
        "                fp.append(text)\n",
        "              elif round(pred.item()) < gold:\n",
        "                fn.append(text)\n",
        "              elif round(pred.item()) == gold == 1:\n",
        "                tp.append(text)\n",
        "              elif round(pred.item()) == gold == 0:\n",
        "                tn.append(text)\n",
        "    return fp, fn, tp, tn"
      ],
      "execution_count": 68,
      "outputs": []
    },
    {
      "cell_type": "code",
      "metadata": {
        "id": "9Ts9gaVNNdDF"
      },
      "source": [
        "fp, fn, tp, tn = predict(model, val_iterator)"
      ],
      "execution_count": 69,
      "outputs": []
    },
    {
      "cell_type": "code",
      "metadata": {
        "id": "HPhtwmsWuxcy",
        "colab": {
          "base_uri": "https://localhost:8080/"
        },
        "outputId": "977ad7f7-ac7a-47e5-9fde-9196c230e5bb"
      },
      "source": [
        "recall = len(tp)/(len(tp) + len(fn))\n",
        "precision = len(tp)/(len(tp) + len(fp))\n",
        "f_score = 2 * precision * recall / (precision + recall)\n",
        "f_score"
      ],
      "execution_count": 70,
      "outputs": [
        {
          "output_type": "execute_result",
          "data": {
            "text/plain": [
              "0.7441227899747426"
            ]
          },
          "metadata": {},
          "execution_count": 70
        }
      ]
    },
    {
      "cell_type": "markdown",
      "metadata": {
        "id": "Bh-L6tvEvh2O"
      },
      "source": [
        "В целом получился неплохой результат. Добавим побольше линейных слоев и параметров и поменяем активацию. "
      ]
    },
    {
      "cell_type": "code",
      "metadata": {
        "id": "s1ZOrUhSzfFS"
      },
      "source": [
        "class UpdatedWordSymbCNN(nn.Module):\n",
        "\n",
        "    def __init__(self, symb_vocab_size, symb_embedding_dim, word_vocab_size):\n",
        "        super().__init__()\n",
        "\n",
        "        # word-level layers\n",
        "        self.word_embedding = nn.Embedding(word_vocab_size, 300)\n",
        "        self.word_hidden = nn.Linear(300, 100) \n",
        "\n",
        "        # symbol-level layers\n",
        "        self.symb_embedding = nn.Embedding(symb_vocab_size, symb_embedding_dim)\n",
        "        self.symb_bigrams = nn.Conv1d(in_channels=symb_embedding_dim, out_channels=200, kernel_size=2, padding='same')\n",
        "        self.symb_trigrams = nn.Conv1d(in_channels=symb_embedding_dim, out_channels=100, kernel_size=3, padding='same')\n",
        "        self.symb_pooling = nn.MaxPool1d(kernel_size=2, stride=2)\n",
        "        self.symb_hidden = nn.Linear(in_features=300, out_features=100)\n",
        "\n",
        "        # universal layers\n",
        "        self.linear0 = nn.Linear(in_features=200, out_features=200)\n",
        "        self.linear = nn.Linear(in_features=200, out_features=1)\n",
        "        self.dropout = nn.Dropout(p=0.5)\n",
        "        self.relu = nn.LeakyReLU()   \n",
        "        self.out = nn.Sigmoid()\n",
        "\n",
        "    def forward(self, words_seq, symb_seq):\n",
        "        embedded = self.symb_embedding(symb_seq)\n",
        "        embedded = embedded.transpose(1,2)\n",
        "        feature_map_bigrams = self.dropout(self.symb_pooling(self.relu(self.symb_bigrams(embedded))))\n",
        "        feature_map_trigrams = self.dropout(self.symb_pooling(self.relu(self.symb_trigrams(embedded))))\n",
        "\n",
        "        pooling1 = feature_map_bigrams.max(2)[0] \n",
        "        pooling2 = feature_map_trigrams.max(2)[0]\n",
        "        concat = torch.cat((pooling1, pooling2), 1)\n",
        "        symb_vec = self.symb_hidden(concat)\n",
        "\n",
        "        embedded_words = self.word_embedding(words_seq)\n",
        "        mean_emb_words = torch.mean(embedded_words, dim=1)\n",
        "        word_vec = self.dropout(self.word_hidden(mean_emb_words))\n",
        "        word_vec = self.dropout(self.relu(word_vec))\n",
        "\n",
        "        concat = torch.cat((symb_vec, word_vec), 1)\n",
        "\n",
        "        hidden = self.dropout(self.out(self.linear0(concat)))\n",
        "        logits = self.out(self.linear(hidden))      \n",
        "        return logits"
      ],
      "execution_count": 75,
      "outputs": []
    },
    {
      "cell_type": "code",
      "metadata": {
        "id": "lvZYebf5O-Xm"
      },
      "source": [
        "model = UpdatedWordSymbCNN(len(symbol2id), 10, len(word2id))\n",
        "optimizer = optim.Adam(model.parameters(), lr=0.001)\n",
        "criterion = nn.BCELoss()\n",
        "\n",
        "model = model.to(DEVICE)\n",
        "criterion = criterion.to(DEVICE)"
      ],
      "execution_count": 84,
      "outputs": []
    },
    {
      "cell_type": "code",
      "metadata": {
        "colab": {
          "base_uri": "https://localhost:8080/"
        },
        "id": "gFpfkBWZPabA",
        "outputId": "0ac68f02-3ae0-4d8a-bceb-b733e6ca0944"
      },
      "source": [
        "losses = []\n",
        "val_losses = []\n",
        "f1s = []\n",
        "val_f1s = []\n",
        "\n",
        "for i in range(10):\n",
        "    print(f'\\nEpoch {i}')\n",
        "    print('Training...')\n",
        "    epoch_loss = train(model, train_iterator, optimizer, criterion)\n",
        "    losses.append(epoch_loss)\n",
        "    print('\\nEvaluating on train...')\n",
        "    f1_on_train,_ = evaluate(model, train_iterator, criterion)\n",
        "    f1s.append(f1_on_train)\n",
        "    print('\\nEvaluating on test...')\n",
        "    f1_on_test, epoch_loss_on_test = evaluate(model, val_iterator, criterion)\n",
        "    val_losses.append(epoch_loss_on_test)\n",
        "    val_f1s.append(f1_on_test)"
      ],
      "execution_count": 85,
      "outputs": [
        {
          "output_type": "stream",
          "name": "stdout",
          "text": [
            "\n",
            "Epoch 0\n",
            "Training...\n",
            "Train loss: 0.7544289401599339\n",
            "Train loss: 0.7228895261369902\n",
            "Train loss: 0.709385247393088\n",
            "Train loss: 0.6992298132282192\n",
            "Train loss: 0.6890477779749278\n",
            "\n",
            "Evaluating on train...\n",
            "Val loss: 0.670964104788644, Val metric: 0.7327276468276978\n",
            "Val loss: 0.6486169428660952, Val metric: 0.7059345841407776\n",
            "Val loss: 0.6417192383245989, Val metric: 0.698243260383606\n",
            "Val loss: 0.6387911327814652, Val metric: 0.6935480237007141\n",
            "Val loss: 0.6370585802439097, Val metric: 0.6905213594436646\n",
            "\n",
            "Evaluating on test...\n",
            "Val loss: 0.8425081372261047, Val metric: 0.9108982682228088\n",
            "Val loss: 0.7227627975600106, Val metric: 0.7779647707939148\n",
            "Val loss: 0.6876950372349132, Val metric: 0.7439260482788086\n",
            "Val loss: 0.6733619213104248, Val metric: 0.7254002690315247\n",
            "Val loss: 0.664290537959651, Val metric: 0.715398907661438\n",
            "\n",
            "Epoch 1\n",
            "Training...\n",
            "Train loss: 0.6668042327676501\n",
            "Train loss: 0.6355731918894011\n",
            "Train loss: 0.6247491958466443\n",
            "Train loss: 0.6171109949128103\n",
            "Train loss: 0.6102961978396854\n",
            "\n",
            "Evaluating on train...\n",
            "Val loss: 0.5999883966786521, Val metric: 0.7601062655448914\n",
            "Val loss: 0.5814780654578373, Val metric: 0.7310910820960999\n",
            "Val loss: 0.5732628134163943, Val metric: 0.7252304553985596\n",
            "Val loss: 0.5702427474118895, Val metric: 0.7216233611106873\n",
            "Val loss: 0.5684696556748571, Val metric: 0.7185954451560974\n",
            "\n",
            "Evaluating on test...\n",
            "Val loss: 0.7688360412915548, Val metric: 0.924502432346344\n",
            "Val loss: 0.6589561871119908, Val metric: 0.7885339856147766\n",
            "Val loss: 0.6224146485328674, Val metric: 0.756373405456543\n",
            "Val loss: 0.6095650315284729, Val metric: 0.7384727001190186\n",
            "Val loss: 0.6009884727628607, Val metric: 0.7311999797821045\n",
            "\n",
            "Epoch 2\n",
            "Training...\n",
            "Train loss: 0.6004266696316856\n",
            "Train loss: 0.5781856261450669\n",
            "Train loss: 0.5693380466916345\n",
            "Train loss: 0.563107724917137\n",
            "Train loss: 0.557220874605952\n",
            "\n",
            "Evaluating on train...\n",
            "Val loss: 0.5371025566543851, Val metric: 0.8016126751899719\n",
            "Val loss: 0.5201758444309235, Val metric: 0.7718329429626465\n",
            "Val loss: 0.5172465816140175, Val metric: 0.7611796855926514\n",
            "Val loss: 0.5134350152338966, Val metric: 0.7582190036773682\n",
            "Val loss: 0.5109091948818516, Val metric: 0.7563899159431458\n",
            "\n",
            "Evaluating on test...\n",
            "Val loss: 0.7312328616778055, Val metric: 0.9468202590942383\n",
            "Val loss: 0.6240401864051819, Val metric: 0.8106354475021362\n",
            "Val loss: 0.584588579156182, Val metric: 0.7801052331924438\n",
            "Val loss: 0.5729584077994029, Val metric: 0.7617647647857666\n",
            "Val loss: 0.5637672339615069, Val metric: 0.7557438015937805\n",
            "\n",
            "Epoch 3\n",
            "Training...\n",
            "Train loss: 0.5558234346764428\n",
            "Train loss: 0.5317187288711811\n",
            "Train loss: 0.523570641875267\n",
            "Train loss: 0.5167339130983515\n",
            "Train loss: 0.5111455091753522\n",
            "\n",
            "Evaluating on train...\n",
            "Val loss: 0.48368233868053984, Val metric: 0.8488870859146118\n",
            "Val loss: 0.46462712308456156, Val metric: 0.8201218247413635\n",
            "Val loss: 0.45798457820307126, Val metric: 0.8115747570991516\n",
            "Val loss: 0.45553228511648663, Val metric: 0.8075829148292542\n",
            "Val loss: 0.4540413750990017, Val metric: 0.8045861124992371\n",
            "\n",
            "Evaluating on test...\n",
            "Val loss: 0.704690158367157, Val metric: 0.9789962768554688\n",
            "Val loss: 0.601667949131557, Val metric: 0.8404574394226074\n",
            "Val loss: 0.561343867670406, Val metric: 0.8097981810569763\n",
            "Val loss: 0.5507602393627167, Val metric: 0.791024386882782\n",
            "Val loss: 0.5411006431830557, Val metric: 0.7843897342681885\n",
            "\n",
            "Epoch 4\n",
            "Training...\n",
            "Train loss: 0.506642318197659\n",
            "Train loss: 0.4803531796767794\n",
            "Train loss: 0.4722320315512744\n",
            "Train loss: 0.4673798836893954\n",
            "Train loss: 0.4630444617690267\n",
            "\n",
            "Evaluating on train...\n",
            "Val loss: 0.42456030207020895, Val metric: 0.8838233947753906\n",
            "Val loss: 0.410147534362201, Val metric: 0.8535932302474976\n",
            "Val loss: 0.4058645252477039, Val metric: 0.8442379236221313\n",
            "Val loss: 0.4034403411008544, Val metric: 0.8388646841049194\n",
            "Val loss: 0.40283164422254303, Val metric: 0.8350118398666382\n",
            "\n",
            "Evaluating on test...\n",
            "Val loss: 0.7082347671190897, Val metric: 0.9857409596443176\n",
            "Val loss: 0.6027034989425114, Val metric: 0.8487160801887512\n",
            "Val loss: 0.5593172745271162, Val metric: 0.8179481625556946\n",
            "Val loss: 0.5493511279424032, Val metric: 0.7987762689590454\n",
            "Val loss: 0.5391432784105602, Val metric: 0.7913414835929871\n",
            "\n",
            "Epoch 5\n",
            "Training...\n",
            "Train loss: 0.450663685798645\n",
            "Train loss: 0.43159388159883433\n",
            "Train loss: 0.4248092154210264\n",
            "Train loss: 0.42115563861394334\n",
            "Train loss: 0.41690637050448237\n",
            "\n",
            "Evaluating on train...\n",
            "Val loss: 0.38032716299806324, Val metric: 0.9113627076148987\n",
            "Val loss: 0.3663610816001892, Val metric: 0.8816616535186768\n",
            "Val loss: 0.36285845054821536, Val metric: 0.8718356490135193\n",
            "Val loss: 0.35988665637323414, Val metric: 0.8678985834121704\n",
            "Val loss: 0.3603305699857506, Val metric: 0.8638426065444946\n",
            "\n",
            "Evaluating on test...\n",
            "Val loss: 0.7037846843401591, Val metric: 0.9961387515068054\n",
            "Val loss: 0.5985092648438045, Val metric: 0.8544220924377441\n",
            "Val loss: 0.5552864318544214, Val metric: 0.8230106830596924\n",
            "Val loss: 0.5457135975360871, Val metric: 0.8026467561721802\n",
            "Val loss: 0.5358808495496449, Val metric: 0.7951894998550415\n",
            "\n",
            "Epoch 6\n",
            "Training...\n",
            "Train loss: 0.4052110803978784\n",
            "Train loss: 0.3886785260562239\n",
            "Train loss: 0.38389767096801236\n",
            "Train loss: 0.38088690123315583\n",
            "Train loss: 0.3763393401294141\n",
            "\n",
            "Evaluating on train...\n",
            "Val loss: 0.3331719551767622, Val metric: 0.9383792281150818\n",
            "Val loss: 0.3229189967286998, Val metric: 0.9064115881919861\n",
            "Val loss: 0.3195287571711974, Val metric: 0.8959929943084717\n",
            "Val loss: 0.3180541744676687, Val metric: 0.8899503946304321\n",
            "Val loss: 0.3165819358986777, Val metric: 0.8868227005004883\n",
            "\n",
            "Evaluating on test...\n",
            "Val loss: 0.7321802377700806, Val metric: 1.002243995666504\n",
            "Val loss: 0.6225631747926984, Val metric: 0.859428346157074\n",
            "Val loss: 0.5776134593920275, Val metric: 0.8274478912353516\n",
            "Val loss: 0.5686541100343069, Val metric: 0.80833899974823\n",
            "Val loss: 0.5589767553304371, Val metric: 0.7992889285087585\n",
            "\n",
            "Epoch 7\n",
            "Training...\n",
            "Train loss: 0.36040918103286196\n",
            "Train loss: 0.3411850569577053\n",
            "Train loss: 0.338926646519791\n",
            "Train loss: 0.33816872006755766\n",
            "Train loss: 0.33754552739697535\n",
            "\n",
            "Evaluating on train...\n",
            "Val loss: 0.3089140866483961, Val metric: 0.9510750770568848\n",
            "Val loss: 0.29234541027710353, Val metric: 0.9206891655921936\n",
            "Val loss: 0.28755719045346434, Val metric: 0.9114497900009155\n",
            "Val loss: 0.2840090060638169, Val metric: 0.9071701169013977\n",
            "Val loss: 0.2821648523614213, Val metric: 0.9042721390724182\n",
            "\n",
            "Evaluating on test...\n",
            "Val loss: 0.7557185093561808, Val metric: 0.9918462634086609\n",
            "Val loss: 0.6408335311072213, Val metric: 0.854243814945221\n",
            "Val loss: 0.5941057096828114, Val metric: 0.8220065832138062\n",
            "Val loss: 0.5850793242454528, Val metric: 0.8037232756614685\n",
            "Val loss: 0.5760061176199662, Val metric: 0.794028639793396\n",
            "\n",
            "Epoch 8\n",
            "Training...\n",
            "Train loss: 0.3404760296855654\n",
            "Train loss: 0.31925155582099124\n",
            "Train loss: 0.3140174238519235\n",
            "Train loss: 0.31353055521593254\n",
            "Train loss: 0.31170455386509766\n",
            "\n",
            "Evaluating on train...\n",
            "Val loss: 0.27509562032563345, Val metric: 0.9675965905189514\n",
            "Val loss: 0.26482960890079366, Val metric: 0.9330063462257385\n",
            "Val loss: 0.26279726082628424, Val metric: 0.9214449524879456\n",
            "Val loss: 0.2626665277501284, Val metric: 0.9155023694038391\n",
            "Val loss: 0.2609489312445795, Val metric: 0.9132388234138489\n",
            "\n",
            "Evaluating on test...\n",
            "Val loss: 0.8032437960306803, Val metric: 0.9991773962974548\n",
            "Val loss: 0.6808829137257167, Val metric: 0.859649121761322\n",
            "Val loss: 0.633619714866985, Val metric: 0.8264681100845337\n",
            "Val loss: 0.6254875302314759, Val metric: 0.8065528869628906\n",
            "Val loss: 0.6163155530628405, Val metric: 0.7961615920066833\n",
            "\n",
            "Epoch 9\n",
            "Training...\n",
            "Train loss: 0.2929562138659613\n",
            "Train loss: 0.2805827234325738\n",
            "Train loss: 0.2780931541188197\n",
            "Train loss: 0.2793969251846863\n",
            "Train loss: 0.283009013412772\n",
            "\n",
            "Evaluating on train...\n",
            "Val loss: 0.23510096009288514, Val metric: 0.9847351312637329\n",
            "Val loss: 0.22680887631301222, Val metric: 0.9511110186576843\n",
            "Val loss: 0.223722347820347, Val metric: 0.9406372308731079\n",
            "Val loss: 0.2235977720406096, Val metric: 0.9347193241119385\n",
            "Val loss: 0.22298133695447767, Val metric: 0.9312684535980225\n",
            "\n",
            "Evaluating on test...\n",
            "Val loss: 0.84221351146698, Val metric: 0.9799935221672058\n",
            "Val loss: 0.7098478504589626, Val metric: 0.845828115940094\n",
            "Val loss: 0.6571530157869513, Val metric: 0.8154131174087524\n",
            "Val loss: 0.6493118365605672, Val metric: 0.7961507439613342\n",
            "Val loss: 0.6406846391527277, Val metric: 0.7860528826713562\n"
          ]
        }
      ]
    },
    {
      "cell_type": "code",
      "metadata": {
        "colab": {
          "base_uri": "https://localhost:8080/",
          "height": 295
        },
        "id": "bH-UFe3yWGDH",
        "outputId": "7085d4e3-09ac-4633-b46f-7eaf5f06d728"
      },
      "source": [
        "plt.plot(losses)\n",
        "plt.plot(val_losses)\n",
        "plt.title('BCE loss value')\n",
        "plt.ylabel('BCE losses')\n",
        "plt.xlabel('epochs')\n",
        "plt.legend(['train', 'val'], loc='upper right')\n",
        "plt.show()"
      ],
      "execution_count": 86,
      "outputs": [
        {
          "output_type": "display_data",
          "data": {
            "image/png": "[encoded data removed]",
            "text/plain": [
              "<Figure size 432x288 with 1 Axes>"
            ]
          },
          "metadata": {
            "needs_background": "light"
          }
        }
      ]
    },
    {
      "cell_type": "code",
      "metadata": {
        "colab": {
          "base_uri": "https://localhost:8080/",
          "height": 295
        },
        "id": "rIu38jGZWM_3",
        "outputId": "6623ad6b-ebff-433d-9b7f-722bab4d084e"
      },
      "source": [
        "plt.plot(f1s)\n",
        "plt.plot(val_f1s)\n",
        "plt.title('f1 value')\n",
        "plt.ylabel('f1 value')\n",
        "plt.xlabel('epochs')\n",
        "plt.legend(['train', 'val'], loc='upper right')\n",
        "plt.show()"
      ],
      "execution_count": 87,
      "outputs": [
        {
          "output_type": "display_data",
          "data": {
            "image/png": "[encoded data removed]",
            "text/plain": [
              "<Figure size 432x288 with 1 Axes>"
            ]
          },
          "metadata": {
            "needs_background": "light"
          }
        }
      ]
    },
    {
      "cell_type": "code",
      "metadata": {
        "id": "Z5aDXrBtWSqv"
      },
      "source": [
        "fp, fn, tp, tn = predict(model, val_iterator)"
      ],
      "execution_count": 88,
      "outputs": []
    },
    {
      "cell_type": "code",
      "metadata": {
        "colab": {
          "base_uri": "https://localhost:8080/"
        },
        "id": "vqugmCgYWb0f",
        "outputId": "41998b72-f921-48fe-ca51-f81495fa906e"
      },
      "source": [
        "recall = len(tp)/(len(tp) + len(fn))\n",
        "precision = len(tp)/(len(tp) + len(fp))\n",
        "f_score = 2 * precision * recall / (precision + recall)\n",
        "f_score"
      ],
      "execution_count": 89,
      "outputs": [
        {
          "output_type": "execute_result",
          "data": {
            "text/plain": [
              "0.7466813055195131"
            ]
          },
          "metadata": {},
          "execution_count": 89
        }
      ]
    },
    {
      "cell_type": "markdown",
      "metadata": {
        "id": "c03Kpi6eBPsi"
      },
      "source": [
        "Ну... качество улучшилось, конечно, но совсем чуть-чуть. С примерами всё так же непонятно и сложно, но можно заметить, что модель не понимает сарказма (слава богу, хохо). "
      ]
    },
    {
      "cell_type": "code",
      "metadata": {
        "colab": {
          "base_uri": "https://localhost:8080/"
        },
        "id": "yoSzjsqXc7I6",
        "outputId": "18d407ff-000b-44cb-a6c3-f3fa15a327fd"
      },
      "source": [
        "fp[:5]"
      ],
      "execution_count": 90,
      "outputs": [
        {
          "output_type": "execute_result",
          "data": {
            "text/plain": [
              "['USER USER и слава богу хоть знаем кому что принадлежит',\n",
              " 'не знаю стоит ли возвращать то что было тогда',\n",
              " 'USER теперь можешь посмеяться с моих пальцев сарделек',\n",
              " 'написала комиссионную контрольную по алгебре на 3 теперь уверена что гиа точно не здам',\n",
              " 'rt USER USER хохо а я ведь собирался спать 3 кароч вышло говно URL']"
            ]
          },
          "metadata": {},
          "execution_count": 90
        }
      ]
    },
    {
      "cell_type": "code",
      "metadata": {
        "colab": {
          "base_uri": "https://localhost:8080/"
        },
        "id": "sFiXYVpNc9eU",
        "outputId": "117f678b-b32a-4e4a-942e-c2ff2649b998"
      },
      "source": [
        "fn[:5]"
      ],
      "execution_count": 91,
      "outputs": [
        {
          "output_type": "execute_result",
          "data": {
            "text/plain": [
              "['линта я пошел спать всем макоронных снов с теплым одеялком с',\n",
              " 'USER я его всегда любила мастер по обсыранию людей которые идут по улице',\n",
              " 'в принципе определились где будем отмечать новый год',\n",
              " 'аня поведет меня заместь кино на каток я сказала что люблю ее а она сказала что я пьяная мда вот так и говори людям что ты их любишь',\n",
              " 'ни когда не понимал целые они или с уже с дефектом история URL']"
            ]
          },
          "metadata": {},
          "execution_count": 91
        }
      ]
    },
    {
      "cell_type": "markdown",
      "metadata": {
        "id": "XcvYULuoxHyS"
      },
      "source": [
        "### Модель без предобработки данных"
      ]
    },
    {
      "cell_type": "markdown",
      "metadata": {
        "id": "dSjfpWnmxeu7"
      },
      "source": [
        "Теперь прогоним ту же сетку на непредобработанных данных. "
      ]
    },
    {
      "cell_type": "markdown",
      "metadata": {
        "id": "edpdWTZkx_00"
      },
      "source": [
        "### Dataloader"
      ]
    },
    {
      "cell_type": "code",
      "metadata": {
        "id": "7X1fPQdbU8_v"
      },
      "source": [
        "vocab = Counter()\n",
        "\n",
        "for text in all_tweets_data['text']:\n",
        "    vocab.update(text.split())\n",
        "\n",
        "word2id = {'PAD':0}\n",
        "\n",
        "for word in vocab:\n",
        "    word2id[word] = len(word2id)\n",
        "\n",
        "id2word = {i:word for word, i in word2id.items()}"
      ],
      "execution_count": 98,
      "outputs": []
    },
    {
      "cell_type": "code",
      "metadata": {
        "id": "pDtMrdZCVDJj"
      },
      "source": [
        "char_vocab = Counter()\n",
        "\n",
        "for text in all_tweets_data['text']:\n",
        "    for word in text:\n",
        "      char_vocab.update(list(word))\n",
        "\n",
        "symbol2id = {'PAD':0}\n",
        "\n",
        "for symbol in filtered_char_vocab:\n",
        "    symbol2id[symbol] = len(symbol2id)\n",
        "\n",
        "id2symbol = {i:symbol for symbol, i in symbol2id.items()}"
      ],
      "execution_count": 99,
      "outputs": []
    },
    {
      "cell_type": "markdown",
      "metadata": {
        "id": "lcbT8mGUyE_P"
      },
      "source": [
        "### Dataset"
      ]
    },
    {
      "cell_type": "code",
      "metadata": {
        "id": "xuRB5kswVMhh"
      },
      "source": [
        "class RawWordSymbDataset(Dataset):\n",
        "\n",
        "    def __init__(self, dataset, word2id, symbol2id, DEVICE):\n",
        "        self.dataset = dataset['text'].values\n",
        "        self.word2id = word2id\n",
        "        self.symbol2id = symbol2id\n",
        "        self.length = dataset.shape[0]\n",
        "        self.target = torch.Tensor(dataset['tone'].values)\n",
        "        self.device = DEVICE\n",
        "\n",
        "    def __len__(self):\n",
        "        return self.length\n",
        "\n",
        "    def __getitem__(self, index): \n",
        "        symbols = list(self.dataset[index])\n",
        "        symb_ids = torch.LongTensor([self.symbol2id[symbol] for symbol in symbols if symbol in self.symbol2id])\n",
        "        tokens = tt.tokenize(self.dataset[index])\n",
        "        word_ids = torch.LongTensor([self.word2id[token] for token in tokens if token in self.word2id])\n",
        "        y = [self.target[index]]\n",
        "        return word_ids, symb_ids, y\n",
        "\n",
        "    def collate_fn(self, batch):\n",
        "      word_ids, symb_ids, y = list(zip(*batch))\n",
        "      padded_words = pad_sequence(word_ids, batch_first=True).to(self.device)\n",
        "      padded_symbs = pad_sequence(symb_ids, batch_first=True).to(self.device)\n",
        "      y = torch.Tensor(y).to(self.device)\n",
        "      return padded_words, padded_symbs, y"
      ],
      "execution_count": 100,
      "outputs": []
    },
    {
      "cell_type": "code",
      "metadata": {
        "id": "0mYqkvU4VhGj"
      },
      "source": [
        "train_dataset = RawWordSymbDataset(train_sentences, word2id, symbol2id, DEVICE)\n",
        "train_sampler = RandomSampler(train_dataset)\n",
        "train_iterator = DataLoader(train_dataset, collate_fn = train_dataset.collate_fn, sampler=train_sampler, batch_size=1024)\n",
        "\n",
        "val_dataset = RawWordSymbDataset(val_sentences, word2id, symbol2id, DEVICE)\n",
        "val_sampler = SequentialSampler(val_dataset)\n",
        "val_iterator = DataLoader(val_dataset, collate_fn = val_dataset.collate_fn, sampler=val_sampler, batch_size=1024)"
      ],
      "execution_count": 106,
      "outputs": []
    },
    {
      "cell_type": "code",
      "metadata": {
        "id": "qxX66rigVz8q"
      },
      "source": [
        "model = WordSymbCNN(len(symbol2id), 10, len(word2id))\n",
        "optimizer = optim.Adam(model.parameters(), lr=0.001)\n",
        "criterion = nn.BCELoss()\n",
        "\n",
        "model = model.to(DEVICE)\n",
        "criterion = criterion.to(DEVICE)"
      ],
      "execution_count": 107,
      "outputs": []
    },
    {
      "cell_type": "code",
      "metadata": {
        "colab": {
          "base_uri": "https://localhost:8080/"
        },
        "id": "k_F-7Zh_V0pm",
        "outputId": "0a87f306-4f8c-46d3-e264-f5ec43d5a792"
      },
      "source": [
        "losses = []\n",
        "val_losses = []\n",
        "f1s = []\n",
        "val_f1s = []\n",
        "\n",
        "for i in range(10):\n",
        "    print(f'\\nEpoch {i}')\n",
        "    print('Training...')\n",
        "    epoch_loss = train(model, train_iterator, optimizer, criterion)\n",
        "    losses.append(epoch_loss)\n",
        "    print('\\nEvaluating on train...')\n",
        "    f1_on_train,_ = evaluate(model, train_iterator, criterion)\n",
        "    f1s.append(f1_on_train)\n",
        "    print('\\nEvaluating on test...')\n",
        "    f1_on_test, epoch_loss_on_test = evaluate(model, val_iterator, criterion)\n",
        "    val_losses.append(epoch_loss_on_test)\n",
        "    val_f1s.append(f1_on_test)"
      ],
      "execution_count": 108,
      "outputs": [
        {
          "output_type": "stream",
          "name": "stdout",
          "text": [
            "\n",
            "Epoch 0\n",
            "Training...\n",
            "Train loss: 0.7802584554467883\n",
            "Train loss: 0.7260755876014973\n",
            "Train loss: 0.6983560554005883\n",
            "Train loss: 0.6764584971686541\n",
            "Train loss: 0.6545013422901566\n",
            "\n",
            "Evaluating on train...\n",
            "Val loss: 0.5579221291201455, Val metric: 0.8666805624961853\n",
            "Val loss: 0.536476653197716, Val metric: 0.8393943309783936\n",
            "Val loss: 0.5293999720703472, Val metric: 0.8309888243675232\n",
            "Val loss: 0.5266305743637731, Val metric: 0.8257179260253906\n",
            "Val loss: 0.5255904640700366, Val metric: 0.821155846118927\n",
            "\n",
            "Evaluating on test...\n",
            "Val loss: 0.6869226495424906, Val metric: 1.1002572774887085\n",
            "Val loss: 0.5942298599651882, Val metric: 0.9241905212402344\n",
            "Val loss: 0.567570838061246, Val metric: 0.8842573165893555\n",
            "Val loss: 0.5545675237973531, Val metric: 0.8635742664337158\n",
            "Val loss: 0.5479340616025423, Val metric: 0.8518394827842712\n",
            "\n",
            "Epoch 1\n",
            "Training...\n",
            "Train loss: 0.5289054619414466\n",
            "Train loss: 0.48655552596881474\n",
            "Train loss: 0.4528133828531612\n",
            "Train loss: 0.42400263780254427\n",
            "Train loss: 0.3978642346085729\n",
            "\n",
            "Evaluating on train...\n",
            "Val loss: 0.2527625762990543, Val metric: 1.0074913501739502\n",
            "Val loss: 0.24496707731279835, Val metric: 0.9739559888839722\n",
            "Val loss: 0.2428950880738822, Val metric: 0.962008535861969\n",
            "Val loss: 0.24204262964806314, Val metric: 0.957232654094696\n",
            "Val loss: 0.2407170002524917, Val metric: 0.9544232487678528\n",
            "\n",
            "Evaluating on test...\n",
            "Val loss: 0.31961246331532794, Val metric: 1.247839093208313\n",
            "Val loss: 0.2836823506014688, Val metric: 1.0662214756011963\n",
            "Val loss: 0.27169039168141107, Val metric: 1.0180704593658447\n",
            "Val loss: 0.26535735428333285, Val metric: 0.9942743182182312\n",
            "Val loss: 0.26206508906264053, Val metric: 0.9824554324150085\n",
            "\n",
            "Epoch 2\n",
            "Training...\n",
            "Train loss: 0.25886510738304686\n",
            "Train loss: 0.23629764236252884\n",
            "Train loss: 0.22085975483059883\n",
            "Train loss: 0.20693427021220578\n",
            "Train loss: 0.1946444813464139\n",
            "\n",
            "Evaluating on train...\n",
            "Val loss: 0.115126264414617, Val metric: 1.048898696899414\n",
            "Val loss: 0.10849880324355488, Val metric: 1.0132887363433838\n",
            "Val loss: 0.10666667229749939, Val metric: 1.0018385648727417\n",
            "Val loss: 0.10692569272497952, Val metric: 0.9963364601135254\n",
            "Val loss: 0.10800512145097191, Val metric: 0.992374837398529\n",
            "\n",
            "Evaluating on test...\n",
            "Val loss: 0.15706083675225577, Val metric: 1.2949492931365967\n",
            "Val loss: 0.14270186956439698, Val metric: 1.1077630519866943\n",
            "Val loss: 0.13524765859950671, Val metric: 1.05849027633667\n",
            "Val loss: 0.13189978698889415, Val metric: 1.0345337390899658\n",
            "Val loss: 0.1296239444299748, Val metric: 1.0222294330596924\n",
            "\n",
            "Epoch 3\n",
            "Training...\n",
            "Train loss: 0.13390593922563962\n",
            "Train loss: 0.11992233991622925\n",
            "Train loss: 0.11044916815378449\n",
            "Train loss: 0.10462294973559298\n",
            "Train loss: 0.09938237423429618\n",
            "\n",
            "Evaluating on train...\n",
            "Val loss: 0.0551629053162677, Val metric: 1.063318133354187\n",
            "Val loss: 0.054267588874389386, Val metric: 1.0261174440383911\n",
            "Val loss: 0.053794461641122, Val metric: 1.014401912689209\n",
            "Val loss: 0.05384405752864935, Val metric: 1.0087376832962036\n",
            "Val loss: 0.05335803380286371, Val metric: 1.0054439306259155\n",
            "\n",
            "Evaluating on test...\n",
            "Val loss: 0.09128398448228836, Val metric: 1.309659719467163\n",
            "Val loss: 0.0839888836656298, Val metric: 1.121583104133606\n",
            "Val loss: 0.07884957167235288, Val metric: 1.0719635486602783\n",
            "Val loss: 0.07656141941746077, Val metric: 1.0482335090637207\n",
            "Val loss: 0.07526142561906263, Val metric: 1.035159707069397\n",
            "\n",
            "Epoch 4\n",
            "Training...\n",
            "Train loss: 0.06851179817957538\n",
            "Train loss: 0.06525188530313558\n",
            "Train loss: 0.06082498290660707\n",
            "Train loss: 0.057734916523351505\n",
            "Train loss: 0.05520662066300173\n",
            "\n",
            "Evaluating on train...\n",
            "Val loss: 0.0338701672319855, Val metric: 1.0662726163864136\n",
            "Val loss: 0.030292745615387785, Val metric: 1.0299818515777588\n",
            "Val loss: 0.02922043123875152, Val metric: 1.018595814704895\n",
            "Val loss: 0.028786474586290828, Val metric: 1.0129259824752808\n",
            "Val loss: 0.02817552934425908, Val metric: 1.0094951391220093\n",
            "\n",
            "Evaluating on test...\n",
            "Val loss: 0.05797700583934784, Val metric: 1.3159829378128052\n",
            "Val loss: 0.05367939067738397, Val metric: 1.128031611442566\n",
            "Val loss: 0.05024450340054252, Val metric: 1.078066110610962\n",
            "Val loss: 0.04890572701891263, Val metric: 1.0539427995681763\n",
            "Val loss: 0.048222530633211136, Val metric: 1.0403337478637695\n",
            "\n",
            "Epoch 5\n",
            "Training...\n",
            "Train loss: 0.0413090464259897\n",
            "Train loss: 0.0379522438321648\n",
            "Train loss: 0.03608534514734691\n",
            "Train loss: 0.03535016225177353\n",
            "Train loss: 0.03412194957805646\n",
            "\n",
            "Evaluating on train...\n",
            "Val loss: 0.01947489713451692, Val metric: 1.068890929222107\n",
            "Val loss: 0.018286739732941676, Val metric: 1.0323814153671265\n",
            "Val loss: 0.017837074437094005, Val metric: 1.020681381225586\n",
            "Val loss: 0.018050162910909977, Val metric: 1.0148835182189941\n",
            "Val loss: 0.01793985105295842, Val metric: 1.011582612991333\n",
            "\n",
            "Evaluating on test...\n",
            "Val loss: 0.044851151605447136, Val metric: 1.3239631652832031\n",
            "Val loss: 0.041390709046806605, Val metric: 1.132784128189087\n",
            "Val loss: 0.03860671310262247, Val metric: 1.0815273523330688\n",
            "Val loss: 0.03724747523665428, Val metric: 1.0577034950256348\n",
            "Val loss: 0.0371665358543396, Val metric: 1.0435303449630737\n",
            "\n",
            "Epoch 6\n",
            "Training...\n",
            "Train loss: 0.027868475232805525\n",
            "Train loss: 0.025519074422532116\n",
            "Train loss: 0.0239642438986762\n",
            "Train loss: 0.02317285700306549\n",
            "Train loss: 0.022453659377690102\n",
            "\n",
            "Evaluating on train...\n",
            "Val loss: 0.011183069852579917, Val metric: 1.070128083229065\n",
            "Val loss: 0.011019403002513894, Val metric: 1.0328983068466187\n",
            "Val loss: 0.011241774169982156, Val metric: 1.0210036039352417\n",
            "Val loss: 0.011706069782691992, Val metric: 1.015094518661499\n",
            "Val loss: 0.011473256849205575, Val metric: 1.0117229223251343\n",
            "\n",
            "Evaluating on test...\n",
            "Val loss: 0.03446361298362414, Val metric: 1.3231264352798462\n",
            "Val loss: 0.03203084905232702, Val metric: 1.133427381515503\n",
            "Val loss: 0.02991713397204876, Val metric: 1.0825847387313843\n",
            "Val loss: 0.029266244918107986, Val metric: 1.058497667312622\n",
            "Val loss: 0.029037412648138246, Val metric: 1.0447317361831665\n",
            "\n",
            "Epoch 7\n",
            "Training...\n",
            "Train loss: 0.018617476336658\n",
            "Train loss: 0.017545845712824113\n",
            "Train loss: 0.016487743726677516\n",
            "Train loss: 0.016631545199049733\n",
            "Train loss: 0.015994524658733123\n",
            "\n",
            "Evaluating on train...\n",
            "Val loss: 0.007734557646991951, Val metric: 1.0706002712249756\n",
            "Val loss: 0.006985704061286202, Val metric: 1.033783197402954\n",
            "Val loss: 0.006854511924426664, Val metric: 1.0220698118209839\n",
            "Val loss: 0.006944978238730613, Val metric: 1.0162123441696167\n",
            "Val loss: 0.007178712730623178, Val metric: 1.0127308368682861\n",
            "\n",
            "Evaluating on test...\n",
            "Val loss: 0.02751056073854367, Val metric: 1.326522707939148\n",
            "Val loss: 0.02496540267020464, Val metric: 1.1362396478652954\n",
            "Val loss: 0.023352724500000477, Val metric: 1.084907054901123\n",
            "Val loss: 0.02278362518797318, Val metric: 1.0606502294540405\n",
            "Val loss: 0.022884976952091643, Val metric: 1.0464187860488892\n",
            "\n",
            "Epoch 8\n",
            "Training...\n",
            "Train loss: 0.013206658053344913\n",
            "Train loss: 0.012177774811099315\n",
            "Train loss: 0.012032570878297767\n",
            "Train loss: 0.01177133409053845\n",
            "Train loss: 0.011936545504156399\n",
            "\n",
            "Evaluating on train...\n",
            "Val loss: 0.006110135964783174, Val metric: 1.070668339729309\n",
            "Val loss: 0.005391765072749093, Val metric: 1.03391695022583\n",
            "Val loss: 0.0054341142531484365, Val metric: 1.0222004652023315\n",
            "Val loss: 0.005279708685258688, Val metric: 1.0164235830307007\n",
            "Val loss: 0.005249913353976366, Val metric: 1.012937068939209\n",
            "\n",
            "Evaluating on test...\n",
            "Val loss: 0.024249231442809105, Val metric: 1.3268446922302246\n",
            "Val loss: 0.021903891249426773, Val metric: 1.1366487741470337\n",
            "Val loss: 0.020570849745788357, Val metric: 1.085257887840271\n",
            "Val loss: 0.020088533995052178, Val metric: 1.060845136642456\n",
            "Val loss: 0.02020400218469532, Val metric: 1.0466792583465576\n",
            "\n",
            "Epoch 9\n",
            "Training...\n",
            "Train loss: 0.010658562283164688\n",
            "Train loss: 0.01072711794605029\n",
            "Train loss: 0.009808769894086501\n",
            "Train loss: 0.00953158896447996\n",
            "Train loss: 0.009230323991662747\n",
            "\n",
            "Evaluating on train...\n",
            "Val loss: 0.004366711380758456, Val metric: 1.0710172653198242\n",
            "Val loss: 0.004078635648856389, Val metric: 1.0341511964797974\n",
            "Val loss: 0.004109138390049338, Val metric: 1.0223779678344727\n",
            "Val loss: 0.0041104816807970655, Val metric: 1.0165892839431763\n",
            "Val loss: 0.003968749799438425, Val metric: 1.01321280002594\n",
            "\n",
            "Evaluating on test...\n",
            "Val loss: 0.022207248645524185, Val metric: 1.3289990425109863\n",
            "Val loss: 0.019427765826029435, Val metric: 1.138796091079712\n",
            "Val loss: 0.018275883641432632, Val metric: 1.0870684385299683\n",
            "Val loss: 0.017717891931533815, Val metric: 1.0624282360076904\n",
            "Val loss: 0.018072890117764473, Val metric: 1.0478237867355347\n"
          ]
        }
      ]
    },
    {
      "cell_type": "code",
      "metadata": {
        "colab": {
          "base_uri": "https://localhost:8080/",
          "height": 295
        },
        "id": "9HTybvNMV6x9",
        "outputId": "147cb4ff-dc96-4314-ea77-f8c093df1275"
      },
      "source": [
        "plt.plot(losses)\n",
        "plt.plot(val_losses)\n",
        "plt.title('BCE loss value')\n",
        "plt.ylabel('BCE losses')\n",
        "plt.xlabel('epochs')\n",
        "plt.legend(['train', 'val'], loc='upper right')\n",
        "plt.show()"
      ],
      "execution_count": 109,
      "outputs": [
        {
          "output_type": "display_data",
          "data": {
            "image/png": "[encoded data removed]",
            "text/plain": [
              "<Figure size 432x288 with 1 Axes>"
            ]
          },
          "metadata": {
            "needs_background": "light"
          }
        }
      ]
    },
    {
      "cell_type": "code",
      "metadata": {
        "colab": {
          "base_uri": "https://localhost:8080/",
          "height": 295
        },
        "id": "Q9J0MklOXXBn",
        "outputId": "549c8b9d-0557-4e72-cb8f-fb69e4cc289f"
      },
      "source": [
        "plt.plot(f1s)\n",
        "plt.plot(val_f1s)\n",
        "plt.title('f1 value')\n",
        "plt.ylabel('f1 value')\n",
        "plt.xlabel('epochs')\n",
        "plt.legend(['train', 'val'], loc='upper right')\n",
        "plt.show()"
      ],
      "execution_count": 110,
      "outputs": [
        {
          "output_type": "display_data",
          "data": {
            "image/png": "[encoded data removed]",
            "text/plain": [
              "<Figure size 432x288 with 1 Axes>"
            ]
          },
          "metadata": {
            "needs_background": "light"
          }
        }
      ]
    },
    {
      "cell_type": "code",
      "metadata": {
        "id": "HhJXfgnsXaEv"
      },
      "source": [
        "fp, fn, tp, tn = predict(model, val_iterator)"
      ],
      "execution_count": 111,
      "outputs": []
    },
    {
      "cell_type": "markdown",
      "metadata": {
        "id": "sNNW5oA-yuYo"
      },
      "source": [
        "Ещё раз посмотрим "
      ]
    },
    {
      "cell_type": "code",
      "metadata": {
        "colab": {
          "base_uri": "https://localhost:8080/"
        },
        "id": "WSla8OHSXam2",
        "outputId": "3e7fe9be-9079-4abc-cf1d-f501f5f0e544"
      },
      "source": [
        "recall = len(tp)/(len(tp) + len(fn))\n",
        "precision = len(tp)/(len(tp) + len(fp))\n",
        "f_score = 2 * precision * recall / (precision + recall)\n",
        "f_score"
      ],
      "execution_count": 112,
      "outputs": [
        {
          "output_type": "execute_result",
          "data": {
            "text/plain": [
              "0.9955072821525549"
            ]
          },
          "metadata": {},
          "execution_count": 112
        }
      ]
    },
    {
      "cell_type": "markdown",
      "metadata": {
        "id": "qvNnnzZNyOs3"
      },
      "source": [
        "Качестов значительно улучшилось, и вывод, собственно, следующий: смайлики и скобочки очень сильно влияют на оценку тональности. С данным датасетом нам повезло, но вообще, как уже было сказано, даже со знаками препинания и смайликами не всегда можно понять окраску высказываний. "
      ]
    }
  ]
}
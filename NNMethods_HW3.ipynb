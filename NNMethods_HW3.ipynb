{
  "nbformat": 4,
  "nbformat_minor": 0,
  "metadata": {
    "colab": {
      "name": "NNMethods_HW3.ipynb",
      "provenance": [],
      "authorship_tag": "ABX9TyPzgE6eTb67Ecj+pWtr2/zv",
      "include_colab_link": true
    },
    "kernelspec": {
      "name": "python3",
      "display_name": "Python 3"
    },
    "language_info": {
      "name": "python"
    },
    "widgets": {
      "application/vnd.jupyter.widget-state+json": {
        "dc04325c21ce42c3befb2e1d9494667a": {
          "model_module": "@jupyter-widgets/controls",
          "model_name": "HBoxModel",
          "model_module_version": "1.5.0",
          "state": {
            "_view_name": "HBoxView",
            "_dom_classes": [],
            "_model_name": "HBoxModel",
            "_view_module": "@jupyter-widgets/controls",
            "_model_module_version": "1.5.0",
            "_view_count": null,
            "_view_module_version": "1.5.0",
            "box_style": "",
            "layout": "IPY_MODEL_984e2e02f02a4711a81bc7b1bc782d42",
            "_model_module": "@jupyter-widgets/controls",
            "children": [
              "IPY_MODEL_43e3beaa6e39420d94e395e27978c2b2",
              "IPY_MODEL_a2e76c3622b746748988667633fe3821",
              "IPY_MODEL_2f710c54493c4b75a0b5119fd2705f13"
            ]
          }
        },
        "984e2e02f02a4711a81bc7b1bc782d42": {
          "model_module": "@jupyter-widgets/base",
          "model_name": "LayoutModel",
          "model_module_version": "1.2.0",
          "state": {
            "_view_name": "LayoutView",
            "grid_template_rows": null,
            "right": null,
            "justify_content": null,
            "_view_module": "@jupyter-widgets/base",
            "overflow": null,
            "_model_module_version": "1.2.0",
            "_view_count": null,
            "flex_flow": null,
            "width": null,
            "min_width": null,
            "border": null,
            "align_items": null,
            "bottom": null,
            "_model_module": "@jupyter-widgets/base",
            "top": null,
            "grid_column": null,
            "overflow_y": null,
            "overflow_x": null,
            "grid_auto_flow": null,
            "grid_area": null,
            "grid_template_columns": null,
            "flex": null,
            "_model_name": "LayoutModel",
            "justify_items": null,
            "grid_row": null,
            "max_height": null,
            "align_content": null,
            "visibility": null,
            "align_self": null,
            "height": null,
            "min_height": null,
            "padding": null,
            "grid_auto_rows": null,
            "grid_gap": null,
            "max_width": null,
            "order": null,
            "_view_module_version": "1.2.0",
            "grid_template_areas": null,
            "object_position": null,
            "object_fit": null,
            "grid_auto_columns": null,
            "margin": null,
            "display": null,
            "left": null
          }
        },
        "43e3beaa6e39420d94e395e27978c2b2": {
          "model_module": "@jupyter-widgets/controls",
          "model_name": "HTMLModel",
          "model_module_version": "1.5.0",
          "state": {
            "_view_name": "HTMLView",
            "style": "IPY_MODEL_1be072da9ffb4f1d8674b8cbeec139d9",
            "_dom_classes": [],
            "description": "",
            "_model_name": "HTMLModel",
            "placeholder": "​",
            "_view_module": "@jupyter-widgets/controls",
            "_model_module_version": "1.5.0",
            "value": "100%",
            "_view_count": null,
            "_view_module_version": "1.5.0",
            "description_tooltip": null,
            "_model_module": "@jupyter-widgets/controls",
            "layout": "IPY_MODEL_cff34d80e800497a9caec1106135ed30"
          }
        },
        "a2e76c3622b746748988667633fe3821": {
          "model_module": "@jupyter-widgets/controls",
          "model_name": "FloatProgressModel",
          "model_module_version": "1.5.0",
          "state": {
            "_view_name": "ProgressView",
            "style": "IPY_MODEL_fe10367ecf9f4e96ae32c73e68c6b424",
            "_dom_classes": [],
            "description": "",
            "_model_name": "FloatProgressModel",
            "bar_style": "success",
            "max": 23481,
            "_view_module": "@jupyter-widgets/controls",
            "_model_module_version": "1.5.0",
            "value": 23481,
            "_view_count": null,
            "_view_module_version": "1.5.0",
            "orientation": "horizontal",
            "min": 0,
            "description_tooltip": null,
            "_model_module": "@jupyter-widgets/controls",
            "layout": "IPY_MODEL_8d0cc8577fcb483d8e8f2ed4478c27af"
          }
        },
        "2f710c54493c4b75a0b5119fd2705f13": {
          "model_module": "@jupyter-widgets/controls",
          "model_name": "HTMLModel",
          "model_module_version": "1.5.0",
          "state": {
            "_view_name": "HTMLView",
            "style": "IPY_MODEL_427a283b217f4ff68d3b8dc87714cacc",
            "_dom_classes": [],
            "description": "",
            "_model_name": "HTMLModel",
            "placeholder": "​",
            "_view_module": "@jupyter-widgets/controls",
            "_model_module_version": "1.5.0",
            "value": " 23481/23481 [00:02&lt;00:00, 6649.17it/s]",
            "_view_count": null,
            "_view_module_version": "1.5.0",
            "description_tooltip": null,
            "_model_module": "@jupyter-widgets/controls",
            "layout": "IPY_MODEL_1ff6c073ad3a461daa49bbc8de9a0539"
          }
        },
        "1be072da9ffb4f1d8674b8cbeec139d9": {
          "model_module": "@jupyter-widgets/controls",
          "model_name": "DescriptionStyleModel",
          "model_module_version": "1.5.0",
          "state": {
            "_view_name": "StyleView",
            "_model_name": "DescriptionStyleModel",
            "description_width": "",
            "_view_module": "@jupyter-widgets/base",
            "_model_module_version": "1.5.0",
            "_view_count": null,
            "_view_module_version": "1.2.0",
            "_model_module": "@jupyter-widgets/controls"
          }
        },
        "cff34d80e800497a9caec1106135ed30": {
          "model_module": "@jupyter-widgets/base",
          "model_name": "LayoutModel",
          "model_module_version": "1.2.0",
          "state": {
            "_view_name": "LayoutView",
            "grid_template_rows": null,
            "right": null,
            "justify_content": null,
            "_view_module": "@jupyter-widgets/base",
            "overflow": null,
            "_model_module_version": "1.2.0",
            "_view_count": null,
            "flex_flow": null,
            "width": null,
            "min_width": null,
            "border": null,
            "align_items": null,
            "bottom": null,
            "_model_module": "@jupyter-widgets/base",
            "top": null,
            "grid_column": null,
            "overflow_y": null,
            "overflow_x": null,
            "grid_auto_flow": null,
            "grid_area": null,
            "grid_template_columns": null,
            "flex": null,
            "_model_name": "LayoutModel",
            "justify_items": null,
            "grid_row": null,
            "max_height": null,
            "align_content": null,
            "visibility": null,
            "align_self": null,
            "height": null,
            "min_height": null,
            "padding": null,
            "grid_auto_rows": null,
            "grid_gap": null,
            "max_width": null,
            "order": null,
            "_view_module_version": "1.2.0",
            "grid_template_areas": null,
            "object_position": null,
            "object_fit": null,
            "grid_auto_columns": null,
            "margin": null,
            "display": null,
            "left": null
          }
        },
        "fe10367ecf9f4e96ae32c73e68c6b424": {
          "model_module": "@jupyter-widgets/controls",
          "model_name": "ProgressStyleModel",
          "model_module_version": "1.5.0",
          "state": {
            "_view_name": "StyleView",
            "_model_name": "ProgressStyleModel",
            "description_width": "",
            "_view_module": "@jupyter-widgets/base",
            "_model_module_version": "1.5.0",
            "_view_count": null,
            "_view_module_version": "1.2.0",
            "bar_color": null,
            "_model_module": "@jupyter-widgets/controls"
          }
        },
        "8d0cc8577fcb483d8e8f2ed4478c27af": {
          "model_module": "@jupyter-widgets/base",
          "model_name": "LayoutModel",
          "model_module_version": "1.2.0",
          "state": {
            "_view_name": "LayoutView",
            "grid_template_rows": null,
            "right": null,
            "justify_content": null,
            "_view_module": "@jupyter-widgets/base",
            "overflow": null,
            "_model_module_version": "1.2.0",
            "_view_count": null,
            "flex_flow": null,
            "width": null,
            "min_width": null,
            "border": null,
            "align_items": null,
            "bottom": null,
            "_model_module": "@jupyter-widgets/base",
            "top": null,
            "grid_column": null,
            "overflow_y": null,
            "overflow_x": null,
            "grid_auto_flow": null,
            "grid_area": null,
            "grid_template_columns": null,
            "flex": null,
            "_model_name": "LayoutModel",
            "justify_items": null,
            "grid_row": null,
            "max_height": null,
            "align_content": null,
            "visibility": null,
            "align_self": null,
            "height": null,
            "min_height": null,
            "padding": null,
            "grid_auto_rows": null,
            "grid_gap": null,
            "max_width": null,
            "order": null,
            "_view_module_version": "1.2.0",
            "grid_template_areas": null,
            "object_position": null,
            "object_fit": null,
            "grid_auto_columns": null,
            "margin": null,
            "display": null,
            "left": null
          }
        },
        "427a283b217f4ff68d3b8dc87714cacc": {
          "model_module": "@jupyter-widgets/controls",
          "model_name": "DescriptionStyleModel",
          "model_module_version": "1.5.0",
          "state": {
            "_view_name": "StyleView",
            "_model_name": "DescriptionStyleModel",
            "description_width": "",
            "_view_module": "@jupyter-widgets/base",
            "_model_module_version": "1.5.0",
            "_view_count": null,
            "_view_module_version": "1.2.0",
            "_model_module": "@jupyter-widgets/controls"
          }
        },
        "1ff6c073ad3a461daa49bbc8de9a0539": {
          "model_module": "@jupyter-widgets/base",
          "model_name": "LayoutModel",
          "model_module_version": "1.2.0",
          "state": {
            "_view_name": "LayoutView",
            "grid_template_rows": null,
            "right": null,
            "justify_content": null,
            "_view_module": "@jupyter-widgets/base",
            "overflow": null,
            "_model_module_version": "1.2.0",
            "_view_count": null,
            "flex_flow": null,
            "width": null,
            "min_width": null,
            "border": null,
            "align_items": null,
            "bottom": null,
            "_model_module": "@jupyter-widgets/base",
            "top": null,
            "grid_column": null,
            "overflow_y": null,
            "overflow_x": null,
            "grid_auto_flow": null,
            "grid_area": null,
            "grid_template_columns": null,
            "flex": null,
            "_model_name": "LayoutModel",
            "justify_items": null,
            "grid_row": null,
            "max_height": null,
            "align_content": null,
            "visibility": null,
            "align_self": null,
            "height": null,
            "min_height": null,
            "padding": null,
            "grid_auto_rows": null,
            "grid_gap": null,
            "max_width": null,
            "order": null,
            "_view_module_version": "1.2.0",
            "grid_template_areas": null,
            "object_position": null,
            "object_fit": null,
            "grid_auto_columns": null,
            "margin": null,
            "display": null,
            "left": null
          }
        },
        "074496d589f940e5bf57aa6e6fa2eaeb": {
          "model_module": "@jupyter-widgets/controls",
          "model_name": "HBoxModel",
          "model_module_version": "1.5.0",
          "state": {
            "_view_name": "HBoxView",
            "_dom_classes": [],
            "_model_name": "HBoxModel",
            "_view_module": "@jupyter-widgets/controls",
            "_model_module_version": "1.5.0",
            "_view_count": null,
            "_view_module_version": "1.5.0",
            "box_style": "",
            "layout": "IPY_MODEL_a0f9cfe0b096426492bcca2b792563f2",
            "_model_module": "@jupyter-widgets/controls",
            "children": [
              "IPY_MODEL_148728c5ced943f48c3004a3748a3b43",
              "IPY_MODEL_180ff9b7ae824e37aa73d877b7e12de8",
              "IPY_MODEL_60782acdd92c4b20b6fdcaf5e761346e"
            ]
          }
        },
        "a0f9cfe0b096426492bcca2b792563f2": {
          "model_module": "@jupyter-widgets/base",
          "model_name": "LayoutModel",
          "model_module_version": "1.2.0",
          "state": {
            "_view_name": "LayoutView",
            "grid_template_rows": null,
            "right": null,
            "justify_content": null,
            "_view_module": "@jupyter-widgets/base",
            "overflow": null,
            "_model_module_version": "1.2.0",
            "_view_count": null,
            "flex_flow": null,
            "width": null,
            "min_width": null,
            "border": null,
            "align_items": null,
            "bottom": null,
            "_model_module": "@jupyter-widgets/base",
            "top": null,
            "grid_column": null,
            "overflow_y": null,
            "overflow_x": null,
            "grid_auto_flow": null,
            "grid_area": null,
            "grid_template_columns": null,
            "flex": null,
            "_model_name": "LayoutModel",
            "justify_items": null,
            "grid_row": null,
            "max_height": null,
            "align_content": null,
            "visibility": null,
            "align_self": null,
            "height": null,
            "min_height": null,
            "padding": null,
            "grid_auto_rows": null,
            "grid_gap": null,
            "max_width": null,
            "order": null,
            "_view_module_version": "1.2.0",
            "grid_template_areas": null,
            "object_position": null,
            "object_fit": null,
            "grid_auto_columns": null,
            "margin": null,
            "display": null,
            "left": null
          }
        },
        "148728c5ced943f48c3004a3748a3b43": {
          "model_module": "@jupyter-widgets/controls",
          "model_name": "HTMLModel",
          "model_module_version": "1.5.0",
          "state": {
            "_view_name": "HTMLView",
            "style": "IPY_MODEL_262433d8f4f24d428520fee81cbe50e0",
            "_dom_classes": [],
            "description": "",
            "_model_name": "HTMLModel",
            "placeholder": "​",
            "_view_module": "@jupyter-widgets/controls",
            "_model_module_version": "1.5.0",
            "value": "100%",
            "_view_count": null,
            "_view_module_version": "1.5.0",
            "description_tooltip": null,
            "_model_module": "@jupyter-widgets/controls",
            "layout": "IPY_MODEL_ec7b54d2ee7145d78c35db7e644f780e"
          }
        },
        "180ff9b7ae824e37aa73d877b7e12de8": {
          "model_module": "@jupyter-widgets/controls",
          "model_name": "FloatProgressModel",
          "model_module_version": "1.5.0",
          "state": {
            "_view_name": "ProgressView",
            "style": "IPY_MODEL_8f69af1847d142ea9c406337feead1ce",
            "_dom_classes": [],
            "description": "",
            "_model_name": "FloatProgressModel",
            "bar_style": "success",
            "max": 5,
            "_view_module": "@jupyter-widgets/controls",
            "_model_module_version": "1.5.0",
            "value": 5,
            "_view_count": null,
            "_view_module_version": "1.5.0",
            "orientation": "horizontal",
            "min": 0,
            "description_tooltip": null,
            "_model_module": "@jupyter-widgets/controls",
            "layout": "IPY_MODEL_5583272c57ae4e6493315a421d208c0b"
          }
        },
        "60782acdd92c4b20b6fdcaf5e761346e": {
          "model_module": "@jupyter-widgets/controls",
          "model_name": "HTMLModel",
          "model_module_version": "1.5.0",
          "state": {
            "_view_name": "HTMLView",
            "style": "IPY_MODEL_6ebe50b5e96b468ba03ec924bca0249f",
            "_dom_classes": [],
            "description": "",
            "_model_name": "HTMLModel",
            "placeholder": "​",
            "_view_module": "@jupyter-widgets/controls",
            "_model_module_version": "1.5.0",
            "value": " 5/5 [03:28&lt;00:00, 42.36s/it]",
            "_view_count": null,
            "_view_module_version": "1.5.0",
            "description_tooltip": null,
            "_model_module": "@jupyter-widgets/controls",
            "layout": "IPY_MODEL_9666c9f39fab40a0a1a1703247f91d3d"
          }
        },
        "262433d8f4f24d428520fee81cbe50e0": {
          "model_module": "@jupyter-widgets/controls",
          "model_name": "DescriptionStyleModel",
          "model_module_version": "1.5.0",
          "state": {
            "_view_name": "StyleView",
            "_model_name": "DescriptionStyleModel",
            "description_width": "",
            "_view_module": "@jupyter-widgets/base",
            "_model_module_version": "1.5.0",
            "_view_count": null,
            "_view_module_version": "1.2.0",
            "_model_module": "@jupyter-widgets/controls"
          }
        },
        "ec7b54d2ee7145d78c35db7e644f780e": {
          "model_module": "@jupyter-widgets/base",
          "model_name": "LayoutModel",
          "model_module_version": "1.2.0",
          "state": {
            "_view_name": "LayoutView",
            "grid_template_rows": null,
            "right": null,
            "justify_content": null,
            "_view_module": "@jupyter-widgets/base",
            "overflow": null,
            "_model_module_version": "1.2.0",
            "_view_count": null,
            "flex_flow": null,
            "width": null,
            "min_width": null,
            "border": null,
            "align_items": null,
            "bottom": null,
            "_model_module": "@jupyter-widgets/base",
            "top": null,
            "grid_column": null,
            "overflow_y": null,
            "overflow_x": null,
            "grid_auto_flow": null,
            "grid_area": null,
            "grid_template_columns": null,
            "flex": null,
            "_model_name": "LayoutModel",
            "justify_items": null,
            "grid_row": null,
            "max_height": null,
            "align_content": null,
            "visibility": null,
            "align_self": null,
            "height": null,
            "min_height": null,
            "padding": null,
            "grid_auto_rows": null,
            "grid_gap": null,
            "max_width": null,
            "order": null,
            "_view_module_version": "1.2.0",
            "grid_template_areas": null,
            "object_position": null,
            "object_fit": null,
            "grid_auto_columns": null,
            "margin": null,
            "display": null,
            "left": null
          }
        },
        "8f69af1847d142ea9c406337feead1ce": {
          "model_module": "@jupyter-widgets/controls",
          "model_name": "ProgressStyleModel",
          "model_module_version": "1.5.0",
          "state": {
            "_view_name": "StyleView",
            "_model_name": "ProgressStyleModel",
            "description_width": "",
            "_view_module": "@jupyter-widgets/base",
            "_model_module_version": "1.5.0",
            "_view_count": null,
            "_view_module_version": "1.2.0",
            "bar_color": null,
            "_model_module": "@jupyter-widgets/controls"
          }
        },
        "5583272c57ae4e6493315a421d208c0b": {
          "model_module": "@jupyter-widgets/base",
          "model_name": "LayoutModel",
          "model_module_version": "1.2.0",
          "state": {
            "_view_name": "LayoutView",
            "grid_template_rows": null,
            "right": null,
            "justify_content": null,
            "_view_module": "@jupyter-widgets/base",
            "overflow": null,
            "_model_module_version": "1.2.0",
            "_view_count": null,
            "flex_flow": null,
            "width": null,
            "min_width": null,
            "border": null,
            "align_items": null,
            "bottom": null,
            "_model_module": "@jupyter-widgets/base",
            "top": null,
            "grid_column": null,
            "overflow_y": null,
            "overflow_x": null,
            "grid_auto_flow": null,
            "grid_area": null,
            "grid_template_columns": null,
            "flex": null,
            "_model_name": "LayoutModel",
            "justify_items": null,
            "grid_row": null,
            "max_height": null,
            "align_content": null,
            "visibility": null,
            "align_self": null,
            "height": null,
            "min_height": null,
            "padding": null,
            "grid_auto_rows": null,
            "grid_gap": null,
            "max_width": null,
            "order": null,
            "_view_module_version": "1.2.0",
            "grid_template_areas": null,
            "object_position": null,
            "object_fit": null,
            "grid_auto_columns": null,
            "margin": null,
            "display": null,
            "left": null
          }
        },
        "6ebe50b5e96b468ba03ec924bca0249f": {
          "model_module": "@jupyter-widgets/controls",
          "model_name": "DescriptionStyleModel",
          "model_module_version": "1.5.0",
          "state": {
            "_view_name": "StyleView",
            "_model_name": "DescriptionStyleModel",
            "description_width": "",
            "_view_module": "@jupyter-widgets/base",
            "_model_module_version": "1.5.0",
            "_view_count": null,
            "_view_module_version": "1.2.0",
            "_model_module": "@jupyter-widgets/controls"
          }
        },
        "9666c9f39fab40a0a1a1703247f91d3d": {
          "model_module": "@jupyter-widgets/base",
          "model_name": "LayoutModel",
          "model_module_version": "1.2.0",
          "state": {
            "_view_name": "LayoutView",
            "grid_template_rows": null,
            "right": null,
            "justify_content": null,
            "_view_module": "@jupyter-widgets/base",
            "overflow": null,
            "_model_module_version": "1.2.0",
            "_view_count": null,
            "flex_flow": null,
            "width": null,
            "min_width": null,
            "border": null,
            "align_items": null,
            "bottom": null,
            "_model_module": "@jupyter-widgets/base",
            "top": null,
            "grid_column": null,
            "overflow_y": null,
            "overflow_x": null,
            "grid_auto_flow": null,
            "grid_area": null,
            "grid_template_columns": null,
            "flex": null,
            "_model_name": "LayoutModel",
            "justify_items": null,
            "grid_row": null,
            "max_height": null,
            "align_content": null,
            "visibility": null,
            "align_self": null,
            "height": null,
            "min_height": null,
            "padding": null,
            "grid_auto_rows": null,
            "grid_gap": null,
            "max_width": null,
            "order": null,
            "_view_module_version": "1.2.0",
            "grid_template_areas": null,
            "object_position": null,
            "object_fit": null,
            "grid_auto_columns": null,
            "margin": null,
            "display": null,
            "left": null
          }
        },
        "16e74dad3e5e4424863eb738f21ad403": {
          "model_module": "@jupyter-widgets/controls",
          "model_name": "HBoxModel",
          "model_module_version": "1.5.0",
          "state": {
            "_view_name": "HBoxView",
            "_dom_classes": [],
            "_model_name": "HBoxModel",
            "_view_module": "@jupyter-widgets/controls",
            "_model_module_version": "1.5.0",
            "_view_count": null,
            "_view_module_version": "1.5.0",
            "box_style": "",
            "layout": "IPY_MODEL_8557274453c3443fa78036609f40db5f",
            "_model_module": "@jupyter-widgets/controls",
            "children": [
              "IPY_MODEL_43e49b3a462d474e94b8e7ffa1ac7089",
              "IPY_MODEL_dff7bb7838f54d5ab8107db7f852d3b4",
              "IPY_MODEL_257c3d950e5144a49684cacc7a9c379b"
            ]
          }
        },
        "8557274453c3443fa78036609f40db5f": {
          "model_module": "@jupyter-widgets/base",
          "model_name": "LayoutModel",
          "model_module_version": "1.2.0",
          "state": {
            "_view_name": "LayoutView",
            "grid_template_rows": null,
            "right": null,
            "justify_content": null,
            "_view_module": "@jupyter-widgets/base",
            "overflow": null,
            "_model_module_version": "1.2.0",
            "_view_count": null,
            "flex_flow": null,
            "width": null,
            "min_width": null,
            "border": null,
            "align_items": null,
            "bottom": null,
            "_model_module": "@jupyter-widgets/base",
            "top": null,
            "grid_column": null,
            "overflow_y": null,
            "overflow_x": null,
            "grid_auto_flow": null,
            "grid_area": null,
            "grid_template_columns": null,
            "flex": null,
            "_model_name": "LayoutModel",
            "justify_items": null,
            "grid_row": null,
            "max_height": null,
            "align_content": null,
            "visibility": null,
            "align_self": null,
            "height": null,
            "min_height": null,
            "padding": null,
            "grid_auto_rows": null,
            "grid_gap": null,
            "max_width": null,
            "order": null,
            "_view_module_version": "1.2.0",
            "grid_template_areas": null,
            "object_position": null,
            "object_fit": null,
            "grid_auto_columns": null,
            "margin": null,
            "display": null,
            "left": null
          }
        },
        "43e49b3a462d474e94b8e7ffa1ac7089": {
          "model_module": "@jupyter-widgets/controls",
          "model_name": "HTMLModel",
          "model_module_version": "1.5.0",
          "state": {
            "_view_name": "HTMLView",
            "style": "IPY_MODEL_bd8c1d223ea64258a5793a60c786616c",
            "_dom_classes": [],
            "description": "",
            "_model_name": "HTMLModel",
            "placeholder": "​",
            "_view_module": "@jupyter-widgets/controls",
            "_model_module_version": "1.5.0",
            "value": "100%",
            "_view_count": null,
            "_view_module_version": "1.5.0",
            "description_tooltip": null,
            "_model_module": "@jupyter-widgets/controls",
            "layout": "IPY_MODEL_c7d0fb3846144de5a787f0550c5fc386"
          }
        },
        "dff7bb7838f54d5ab8107db7f852d3b4": {
          "model_module": "@jupyter-widgets/controls",
          "model_name": "FloatProgressModel",
          "model_module_version": "1.5.0",
          "state": {
            "_view_name": "ProgressView",
            "style": "IPY_MODEL_fab086252d634022aad99d016d4602d7",
            "_dom_classes": [],
            "description": "",
            "_model_name": "FloatProgressModel",
            "bar_style": "success",
            "max": 5,
            "_view_module": "@jupyter-widgets/controls",
            "_model_module_version": "1.5.0",
            "value": 5,
            "_view_count": null,
            "_view_module_version": "1.5.0",
            "orientation": "horizontal",
            "min": 0,
            "description_tooltip": null,
            "_model_module": "@jupyter-widgets/controls",
            "layout": "IPY_MODEL_10c1ab92ab444d61a36d0654896fd0d6"
          }
        },
        "257c3d950e5144a49684cacc7a9c379b": {
          "model_module": "@jupyter-widgets/controls",
          "model_name": "HTMLModel",
          "model_module_version": "1.5.0",
          "state": {
            "_view_name": "HTMLView",
            "style": "IPY_MODEL_f163a20ae65949f59a9052b2de3fde87",
            "_dom_classes": [],
            "description": "",
            "_model_name": "HTMLModel",
            "placeholder": "​",
            "_view_module": "@jupyter-widgets/controls",
            "_model_module_version": "1.5.0",
            "value": " 5/5 [03:18&lt;00:00, 39.59s/it]",
            "_view_count": null,
            "_view_module_version": "1.5.0",
            "description_tooltip": null,
            "_model_module": "@jupyter-widgets/controls",
            "layout": "IPY_MODEL_37f07c611f23455db67b31bf8c635d6b"
          }
        },
        "bd8c1d223ea64258a5793a60c786616c": {
          "model_module": "@jupyter-widgets/controls",
          "model_name": "DescriptionStyleModel",
          "model_module_version": "1.5.0",
          "state": {
            "_view_name": "StyleView",
            "_model_name": "DescriptionStyleModel",
            "description_width": "",
            "_view_module": "@jupyter-widgets/base",
            "_model_module_version": "1.5.0",
            "_view_count": null,
            "_view_module_version": "1.2.0",
            "_model_module": "@jupyter-widgets/controls"
          }
        },
        "c7d0fb3846144de5a787f0550c5fc386": {
          "model_module": "@jupyter-widgets/base",
          "model_name": "LayoutModel",
          "model_module_version": "1.2.0",
          "state": {
            "_view_name": "LayoutView",
            "grid_template_rows": null,
            "right": null,
            "justify_content": null,
            "_view_module": "@jupyter-widgets/base",
            "overflow": null,
            "_model_module_version": "1.2.0",
            "_view_count": null,
            "flex_flow": null,
            "width": null,
            "min_width": null,
            "border": null,
            "align_items": null,
            "bottom": null,
            "_model_module": "@jupyter-widgets/base",
            "top": null,
            "grid_column": null,
            "overflow_y": null,
            "overflow_x": null,
            "grid_auto_flow": null,
            "grid_area": null,
            "grid_template_columns": null,
            "flex": null,
            "_model_name": "LayoutModel",
            "justify_items": null,
            "grid_row": null,
            "max_height": null,
            "align_content": null,
            "visibility": null,
            "align_self": null,
            "height": null,
            "min_height": null,
            "padding": null,
            "grid_auto_rows": null,
            "grid_gap": null,
            "max_width": null,
            "order": null,
            "_view_module_version": "1.2.0",
            "grid_template_areas": null,
            "object_position": null,
            "object_fit": null,
            "grid_auto_columns": null,
            "margin": null,
            "display": null,
            "left": null
          }
        },
        "fab086252d634022aad99d016d4602d7": {
          "model_module": "@jupyter-widgets/controls",
          "model_name": "ProgressStyleModel",
          "model_module_version": "1.5.0",
          "state": {
            "_view_name": "StyleView",
            "_model_name": "ProgressStyleModel",
            "description_width": "",
            "_view_module": "@jupyter-widgets/base",
            "_model_module_version": "1.5.0",
            "_view_count": null,
            "_view_module_version": "1.2.0",
            "bar_color": null,
            "_model_module": "@jupyter-widgets/controls"
          }
        },
        "10c1ab92ab444d61a36d0654896fd0d6": {
          "model_module": "@jupyter-widgets/base",
          "model_name": "LayoutModel",
          "model_module_version": "1.2.0",
          "state": {
            "_view_name": "LayoutView",
            "grid_template_rows": null,
            "right": null,
            "justify_content": null,
            "_view_module": "@jupyter-widgets/base",
            "overflow": null,
            "_model_module_version": "1.2.0",
            "_view_count": null,
            "flex_flow": null,
            "width": null,
            "min_width": null,
            "border": null,
            "align_items": null,
            "bottom": null,
            "_model_module": "@jupyter-widgets/base",
            "top": null,
            "grid_column": null,
            "overflow_y": null,
            "overflow_x": null,
            "grid_auto_flow": null,
            "grid_area": null,
            "grid_template_columns": null,
            "flex": null,
            "_model_name": "LayoutModel",
            "justify_items": null,
            "grid_row": null,
            "max_height": null,
            "align_content": null,
            "visibility": null,
            "align_self": null,
            "height": null,
            "min_height": null,
            "padding": null,
            "grid_auto_rows": null,
            "grid_gap": null,
            "max_width": null,
            "order": null,
            "_view_module_version": "1.2.0",
            "grid_template_areas": null,
            "object_position": null,
            "object_fit": null,
            "grid_auto_columns": null,
            "margin": null,
            "display": null,
            "left": null
          }
        },
        "f163a20ae65949f59a9052b2de3fde87": {
          "model_module": "@jupyter-widgets/controls",
          "model_name": "DescriptionStyleModel",
          "model_module_version": "1.5.0",
          "state": {
            "_view_name": "StyleView",
            "_model_name": "DescriptionStyleModel",
            "description_width": "",
            "_view_module": "@jupyter-widgets/base",
            "_model_module_version": "1.5.0",
            "_view_count": null,
            "_view_module_version": "1.2.0",
            "_model_module": "@jupyter-widgets/controls"
          }
        },
        "37f07c611f23455db67b31bf8c635d6b": {
          "model_module": "@jupyter-widgets/base",
          "model_name": "LayoutModel",
          "model_module_version": "1.2.0",
          "state": {
            "_view_name": "LayoutView",
            "grid_template_rows": null,
            "right": null,
            "justify_content": null,
            "_view_module": "@jupyter-widgets/base",
            "overflow": null,
            "_model_module_version": "1.2.0",
            "_view_count": null,
            "flex_flow": null,
            "width": null,
            "min_width": null,
            "border": null,
            "align_items": null,
            "bottom": null,
            "_model_module": "@jupyter-widgets/base",
            "top": null,
            "grid_column": null,
            "overflow_y": null,
            "overflow_x": null,
            "grid_auto_flow": null,
            "grid_area": null,
            "grid_template_columns": null,
            "flex": null,
            "_model_name": "LayoutModel",
            "justify_items": null,
            "grid_row": null,
            "max_height": null,
            "align_content": null,
            "visibility": null,
            "align_self": null,
            "height": null,
            "min_height": null,
            "padding": null,
            "grid_auto_rows": null,
            "grid_gap": null,
            "max_width": null,
            "order": null,
            "_view_module_version": "1.2.0",
            "grid_template_areas": null,
            "object_position": null,
            "object_fit": null,
            "grid_auto_columns": null,
            "margin": null,
            "display": null,
            "left": null
          }
        },
        "f024a40f8dc3431680dca00fa3239ca5": {
          "model_module": "@jupyter-widgets/controls",
          "model_name": "HBoxModel",
          "model_module_version": "1.5.0",
          "state": {
            "_view_name": "HBoxView",
            "_dom_classes": [],
            "_model_name": "HBoxModel",
            "_view_module": "@jupyter-widgets/controls",
            "_model_module_version": "1.5.0",
            "_view_count": null,
            "_view_module_version": "1.5.0",
            "box_style": "",
            "layout": "IPY_MODEL_cc196cb5ef11479096d74d49751ae0f7",
            "_model_module": "@jupyter-widgets/controls",
            "children": [
              "IPY_MODEL_a46bcb0ac8a24f48aba076490494a75b",
              "IPY_MODEL_2402d9d603e8481081244642464ec801",
              "IPY_MODEL_4b54805ef0754a22aba6943b5f5f31e9"
            ]
          }
        },
        "cc196cb5ef11479096d74d49751ae0f7": {
          "model_module": "@jupyter-widgets/base",
          "model_name": "LayoutModel",
          "model_module_version": "1.2.0",
          "state": {
            "_view_name": "LayoutView",
            "grid_template_rows": null,
            "right": null,
            "justify_content": null,
            "_view_module": "@jupyter-widgets/base",
            "overflow": null,
            "_model_module_version": "1.2.0",
            "_view_count": null,
            "flex_flow": null,
            "width": null,
            "min_width": null,
            "border": null,
            "align_items": null,
            "bottom": null,
            "_model_module": "@jupyter-widgets/base",
            "top": null,
            "grid_column": null,
            "overflow_y": null,
            "overflow_x": null,
            "grid_auto_flow": null,
            "grid_area": null,
            "grid_template_columns": null,
            "flex": null,
            "_model_name": "LayoutModel",
            "justify_items": null,
            "grid_row": null,
            "max_height": null,
            "align_content": null,
            "visibility": null,
            "align_self": null,
            "height": null,
            "min_height": null,
            "padding": null,
            "grid_auto_rows": null,
            "grid_gap": null,
            "max_width": null,
            "order": null,
            "_view_module_version": "1.2.0",
            "grid_template_areas": null,
            "object_position": null,
            "object_fit": null,
            "grid_auto_columns": null,
            "margin": null,
            "display": null,
            "left": null
          }
        },
        "a46bcb0ac8a24f48aba076490494a75b": {
          "model_module": "@jupyter-widgets/controls",
          "model_name": "HTMLModel",
          "model_module_version": "1.5.0",
          "state": {
            "_view_name": "HTMLView",
            "style": "IPY_MODEL_a5bdf2615c964630926834cb6c76fb78",
            "_dom_classes": [],
            "description": "",
            "_model_name": "HTMLModel",
            "placeholder": "​",
            "_view_module": "@jupyter-widgets/controls",
            "_model_module_version": "1.5.0",
            "value": "100%",
            "_view_count": null,
            "_view_module_version": "1.5.0",
            "description_tooltip": null,
            "_model_module": "@jupyter-widgets/controls",
            "layout": "IPY_MODEL_98d788a5946b4cbdaf96f3e41bab8b34"
          }
        },
        "2402d9d603e8481081244642464ec801": {
          "model_module": "@jupyter-widgets/controls",
          "model_name": "FloatProgressModel",
          "model_module_version": "1.5.0",
          "state": {
            "_view_name": "ProgressView",
            "style": "IPY_MODEL_a30d00f844444da7b077c11def108f56",
            "_dom_classes": [],
            "description": "",
            "_model_name": "FloatProgressModel",
            "bar_style": "success",
            "max": 5,
            "_view_module": "@jupyter-widgets/controls",
            "_model_module_version": "1.5.0",
            "value": 5,
            "_view_count": null,
            "_view_module_version": "1.5.0",
            "orientation": "horizontal",
            "min": 0,
            "description_tooltip": null,
            "_model_module": "@jupyter-widgets/controls",
            "layout": "IPY_MODEL_6aa39e01eef94d47990f903f95996501"
          }
        },
        "4b54805ef0754a22aba6943b5f5f31e9": {
          "model_module": "@jupyter-widgets/controls",
          "model_name": "HTMLModel",
          "model_module_version": "1.5.0",
          "state": {
            "_view_name": "HTMLView",
            "style": "IPY_MODEL_ef942bc6eb4c4fe392eeee265cb197a2",
            "_dom_classes": [],
            "description": "",
            "_model_name": "HTMLModel",
            "placeholder": "​",
            "_view_module": "@jupyter-widgets/controls",
            "_model_module_version": "1.5.0",
            "value": " 5/5 [03:24&lt;00:00, 40.89s/it]",
            "_view_count": null,
            "_view_module_version": "1.5.0",
            "description_tooltip": null,
            "_model_module": "@jupyter-widgets/controls",
            "layout": "IPY_MODEL_b81873b75554432598fe0d50ffffb20e"
          }
        },
        "a5bdf2615c964630926834cb6c76fb78": {
          "model_module": "@jupyter-widgets/controls",
          "model_name": "DescriptionStyleModel",
          "model_module_version": "1.5.0",
          "state": {
            "_view_name": "StyleView",
            "_model_name": "DescriptionStyleModel",
            "description_width": "",
            "_view_module": "@jupyter-widgets/base",
            "_model_module_version": "1.5.0",
            "_view_count": null,
            "_view_module_version": "1.2.0",
            "_model_module": "@jupyter-widgets/controls"
          }
        },
        "98d788a5946b4cbdaf96f3e41bab8b34": {
          "model_module": "@jupyter-widgets/base",
          "model_name": "LayoutModel",
          "model_module_version": "1.2.0",
          "state": {
            "_view_name": "LayoutView",
            "grid_template_rows": null,
            "right": null,
            "justify_content": null,
            "_view_module": "@jupyter-widgets/base",
            "overflow": null,
            "_model_module_version": "1.2.0",
            "_view_count": null,
            "flex_flow": null,
            "width": null,
            "min_width": null,
            "border": null,
            "align_items": null,
            "bottom": null,
            "_model_module": "@jupyter-widgets/base",
            "top": null,
            "grid_column": null,
            "overflow_y": null,
            "overflow_x": null,
            "grid_auto_flow": null,
            "grid_area": null,
            "grid_template_columns": null,
            "flex": null,
            "_model_name": "LayoutModel",
            "justify_items": null,
            "grid_row": null,
            "max_height": null,
            "align_content": null,
            "visibility": null,
            "align_self": null,
            "height": null,
            "min_height": null,
            "padding": null,
            "grid_auto_rows": null,
            "grid_gap": null,
            "max_width": null,
            "order": null,
            "_view_module_version": "1.2.0",
            "grid_template_areas": null,
            "object_position": null,
            "object_fit": null,
            "grid_auto_columns": null,
            "margin": null,
            "display": null,
            "left": null
          }
        },
        "a30d00f844444da7b077c11def108f56": {
          "model_module": "@jupyter-widgets/controls",
          "model_name": "ProgressStyleModel",
          "model_module_version": "1.5.0",
          "state": {
            "_view_name": "StyleView",
            "_model_name": "ProgressStyleModel",
            "description_width": "",
            "_view_module": "@jupyter-widgets/base",
            "_model_module_version": "1.5.0",
            "_view_count": null,
            "_view_module_version": "1.2.0",
            "bar_color": null,
            "_model_module": "@jupyter-widgets/controls"
          }
        },
        "6aa39e01eef94d47990f903f95996501": {
          "model_module": "@jupyter-widgets/base",
          "model_name": "LayoutModel",
          "model_module_version": "1.2.0",
          "state": {
            "_view_name": "LayoutView",
            "grid_template_rows": null,
            "right": null,
            "justify_content": null,
            "_view_module": "@jupyter-widgets/base",
            "overflow": null,
            "_model_module_version": "1.2.0",
            "_view_count": null,
            "flex_flow": null,
            "width": null,
            "min_width": null,
            "border": null,
            "align_items": null,
            "bottom": null,
            "_model_module": "@jupyter-widgets/base",
            "top": null,
            "grid_column": null,
            "overflow_y": null,
            "overflow_x": null,
            "grid_auto_flow": null,
            "grid_area": null,
            "grid_template_columns": null,
            "flex": null,
            "_model_name": "LayoutModel",
            "justify_items": null,
            "grid_row": null,
            "max_height": null,
            "align_content": null,
            "visibility": null,
            "align_self": null,
            "height": null,
            "min_height": null,
            "padding": null,
            "grid_auto_rows": null,
            "grid_gap": null,
            "max_width": null,
            "order": null,
            "_view_module_version": "1.2.0",
            "grid_template_areas": null,
            "object_position": null,
            "object_fit": null,
            "grid_auto_columns": null,
            "margin": null,
            "display": null,
            "left": null
          }
        },
        "ef942bc6eb4c4fe392eeee265cb197a2": {
          "model_module": "@jupyter-widgets/controls",
          "model_name": "DescriptionStyleModel",
          "model_module_version": "1.5.0",
          "state": {
            "_view_name": "StyleView",
            "_model_name": "DescriptionStyleModel",
            "description_width": "",
            "_view_module": "@jupyter-widgets/base",
            "_model_module_version": "1.5.0",
            "_view_count": null,
            "_view_module_version": "1.2.0",
            "_model_module": "@jupyter-widgets/controls"
          }
        },
        "b81873b75554432598fe0d50ffffb20e": {
          "model_module": "@jupyter-widgets/base",
          "model_name": "LayoutModel",
          "model_module_version": "1.2.0",
          "state": {
            "_view_name": "LayoutView",
            "grid_template_rows": null,
            "right": null,
            "justify_content": null,
            "_view_module": "@jupyter-widgets/base",
            "overflow": null,
            "_model_module_version": "1.2.0",
            "_view_count": null,
            "flex_flow": null,
            "width": null,
            "min_width": null,
            "border": null,
            "align_items": null,
            "bottom": null,
            "_model_module": "@jupyter-widgets/base",
            "top": null,
            "grid_column": null,
            "overflow_y": null,
            "overflow_x": null,
            "grid_auto_flow": null,
            "grid_area": null,
            "grid_template_columns": null,
            "flex": null,
            "_model_name": "LayoutModel",
            "justify_items": null,
            "grid_row": null,
            "max_height": null,
            "align_content": null,
            "visibility": null,
            "align_self": null,
            "height": null,
            "min_height": null,
            "padding": null,
            "grid_auto_rows": null,
            "grid_gap": null,
            "max_width": null,
            "order": null,
            "_view_module_version": "1.2.0",
            "grid_template_areas": null,
            "object_position": null,
            "object_fit": null,
            "grid_auto_columns": null,
            "margin": null,
            "display": null,
            "left": null
          }
        },
        "dd4236b1507f476a8fe42ab48815ec90": {
          "model_module": "@jupyter-widgets/controls",
          "model_name": "HBoxModel",
          "model_module_version": "1.5.0",
          "state": {
            "_view_name": "HBoxView",
            "_dom_classes": [],
            "_model_name": "HBoxModel",
            "_view_module": "@jupyter-widgets/controls",
            "_model_module_version": "1.5.0",
            "_view_count": null,
            "_view_module_version": "1.5.0",
            "box_style": "",
            "layout": "IPY_MODEL_29c465437926476bae99f8fa541e5b50",
            "_model_module": "@jupyter-widgets/controls",
            "children": [
              "IPY_MODEL_914a203b9e7b42a682fcf0fb97020437",
              "IPY_MODEL_8ec2a45989224ffa85a850c523dfbdc0",
              "IPY_MODEL_208bb8bb843845ddb6b93d137cffc76e"
            ]
          }
        },
        "29c465437926476bae99f8fa541e5b50": {
          "model_module": "@jupyter-widgets/base",
          "model_name": "LayoutModel",
          "model_module_version": "1.2.0",
          "state": {
            "_view_name": "LayoutView",
            "grid_template_rows": null,
            "right": null,
            "justify_content": null,
            "_view_module": "@jupyter-widgets/base",
            "overflow": null,
            "_model_module_version": "1.2.0",
            "_view_count": null,
            "flex_flow": null,
            "width": null,
            "min_width": null,
            "border": null,
            "align_items": null,
            "bottom": null,
            "_model_module": "@jupyter-widgets/base",
            "top": null,
            "grid_column": null,
            "overflow_y": null,
            "overflow_x": null,
            "grid_auto_flow": null,
            "grid_area": null,
            "grid_template_columns": null,
            "flex": null,
            "_model_name": "LayoutModel",
            "justify_items": null,
            "grid_row": null,
            "max_height": null,
            "align_content": null,
            "visibility": null,
            "align_self": null,
            "height": null,
            "min_height": null,
            "padding": null,
            "grid_auto_rows": null,
            "grid_gap": null,
            "max_width": null,
            "order": null,
            "_view_module_version": "1.2.0",
            "grid_template_areas": null,
            "object_position": null,
            "object_fit": null,
            "grid_auto_columns": null,
            "margin": null,
            "display": null,
            "left": null
          }
        },
        "914a203b9e7b42a682fcf0fb97020437": {
          "model_module": "@jupyter-widgets/controls",
          "model_name": "HTMLModel",
          "model_module_version": "1.5.0",
          "state": {
            "_view_name": "HTMLView",
            "style": "IPY_MODEL_d466d4c62bc94d3d8d32543ad26848a6",
            "_dom_classes": [],
            "description": "",
            "_model_name": "HTMLModel",
            "placeholder": "​",
            "_view_module": "@jupyter-widgets/controls",
            "_model_module_version": "1.5.0",
            "value": "100%",
            "_view_count": null,
            "_view_module_version": "1.5.0",
            "description_tooltip": null,
            "_model_module": "@jupyter-widgets/controls",
            "layout": "IPY_MODEL_be9c526741d245e6bdd097ee934bb222"
          }
        },
        "8ec2a45989224ffa85a850c523dfbdc0": {
          "model_module": "@jupyter-widgets/controls",
          "model_name": "FloatProgressModel",
          "model_module_version": "1.5.0",
          "state": {
            "_view_name": "ProgressView",
            "style": "IPY_MODEL_5e536361110f4619a3d24f11c6a8a077",
            "_dom_classes": [],
            "description": "",
            "_model_name": "FloatProgressModel",
            "bar_style": "success",
            "max": 5,
            "_view_module": "@jupyter-widgets/controls",
            "_model_module_version": "1.5.0",
            "value": 5,
            "_view_count": null,
            "_view_module_version": "1.5.0",
            "orientation": "horizontal",
            "min": 0,
            "description_tooltip": null,
            "_model_module": "@jupyter-widgets/controls",
            "layout": "IPY_MODEL_ec9b36d3e5cb418e9f18cdd44f43e0ff"
          }
        },
        "208bb8bb843845ddb6b93d137cffc76e": {
          "model_module": "@jupyter-widgets/controls",
          "model_name": "HTMLModel",
          "model_module_version": "1.5.0",
          "state": {
            "_view_name": "HTMLView",
            "style": "IPY_MODEL_61eb49b5b76c4b3eb2979a05bc617335",
            "_dom_classes": [],
            "description": "",
            "_model_name": "HTMLModel",
            "placeholder": "​",
            "_view_module": "@jupyter-widgets/controls",
            "_model_module_version": "1.5.0",
            "value": " 5/5 [03:13&lt;00:00, 38.78s/it]",
            "_view_count": null,
            "_view_module_version": "1.5.0",
            "description_tooltip": null,
            "_model_module": "@jupyter-widgets/controls",
            "layout": "IPY_MODEL_00c0aaaac0ed451096fd099760a0b353"
          }
        },
        "d466d4c62bc94d3d8d32543ad26848a6": {
          "model_module": "@jupyter-widgets/controls",
          "model_name": "DescriptionStyleModel",
          "model_module_version": "1.5.0",
          "state": {
            "_view_name": "StyleView",
            "_model_name": "DescriptionStyleModel",
            "description_width": "",
            "_view_module": "@jupyter-widgets/base",
            "_model_module_version": "1.5.0",
            "_view_count": null,
            "_view_module_version": "1.2.0",
            "_model_module": "@jupyter-widgets/controls"
          }
        },
        "be9c526741d245e6bdd097ee934bb222": {
          "model_module": "@jupyter-widgets/base",
          "model_name": "LayoutModel",
          "model_module_version": "1.2.0",
          "state": {
            "_view_name": "LayoutView",
            "grid_template_rows": null,
            "right": null,
            "justify_content": null,
            "_view_module": "@jupyter-widgets/base",
            "overflow": null,
            "_model_module_version": "1.2.0",
            "_view_count": null,
            "flex_flow": null,
            "width": null,
            "min_width": null,
            "border": null,
            "align_items": null,
            "bottom": null,
            "_model_module": "@jupyter-widgets/base",
            "top": null,
            "grid_column": null,
            "overflow_y": null,
            "overflow_x": null,
            "grid_auto_flow": null,
            "grid_area": null,
            "grid_template_columns": null,
            "flex": null,
            "_model_name": "LayoutModel",
            "justify_items": null,
            "grid_row": null,
            "max_height": null,
            "align_content": null,
            "visibility": null,
            "align_self": null,
            "height": null,
            "min_height": null,
            "padding": null,
            "grid_auto_rows": null,
            "grid_gap": null,
            "max_width": null,
            "order": null,
            "_view_module_version": "1.2.0",
            "grid_template_areas": null,
            "object_position": null,
            "object_fit": null,
            "grid_auto_columns": null,
            "margin": null,
            "display": null,
            "left": null
          }
        },
        "5e536361110f4619a3d24f11c6a8a077": {
          "model_module": "@jupyter-widgets/controls",
          "model_name": "ProgressStyleModel",
          "model_module_version": "1.5.0",
          "state": {
            "_view_name": "StyleView",
            "_model_name": "ProgressStyleModel",
            "description_width": "",
            "_view_module": "@jupyter-widgets/base",
            "_model_module_version": "1.5.0",
            "_view_count": null,
            "_view_module_version": "1.2.0",
            "bar_color": null,
            "_model_module": "@jupyter-widgets/controls"
          }
        },
        "ec9b36d3e5cb418e9f18cdd44f43e0ff": {
          "model_module": "@jupyter-widgets/base",
          "model_name": "LayoutModel",
          "model_module_version": "1.2.0",
          "state": {
            "_view_name": "LayoutView",
            "grid_template_rows": null,
            "right": null,
            "justify_content": null,
            "_view_module": "@jupyter-widgets/base",
            "overflow": null,
            "_model_module_version": "1.2.0",
            "_view_count": null,
            "flex_flow": null,
            "width": null,
            "min_width": null,
            "border": null,
            "align_items": null,
            "bottom": null,
            "_model_module": "@jupyter-widgets/base",
            "top": null,
            "grid_column": null,
            "overflow_y": null,
            "overflow_x": null,
            "grid_auto_flow": null,
            "grid_area": null,
            "grid_template_columns": null,
            "flex": null,
            "_model_name": "LayoutModel",
            "justify_items": null,
            "grid_row": null,
            "max_height": null,
            "align_content": null,
            "visibility": null,
            "align_self": null,
            "height": null,
            "min_height": null,
            "padding": null,
            "grid_auto_rows": null,
            "grid_gap": null,
            "max_width": null,
            "order": null,
            "_view_module_version": "1.2.0",
            "grid_template_areas": null,
            "object_position": null,
            "object_fit": null,
            "grid_auto_columns": null,
            "margin": null,
            "display": null,
            "left": null
          }
        },
        "61eb49b5b76c4b3eb2979a05bc617335": {
          "model_module": "@jupyter-widgets/controls",
          "model_name": "DescriptionStyleModel",
          "model_module_version": "1.5.0",
          "state": {
            "_view_name": "StyleView",
            "_model_name": "DescriptionStyleModel",
            "description_width": "",
            "_view_module": "@jupyter-widgets/base",
            "_model_module_version": "1.5.0",
            "_view_count": null,
            "_view_module_version": "1.2.0",
            "_model_module": "@jupyter-widgets/controls"
          }
        },
        "00c0aaaac0ed451096fd099760a0b353": {
          "model_module": "@jupyter-widgets/base",
          "model_name": "LayoutModel",
          "model_module_version": "1.2.0",
          "state": {
            "_view_name": "LayoutView",
            "grid_template_rows": null,
            "right": null,
            "justify_content": null,
            "_view_module": "@jupyter-widgets/base",
            "overflow": null,
            "_model_module_version": "1.2.0",
            "_view_count": null,
            "flex_flow": null,
            "width": null,
            "min_width": null,
            "border": null,
            "align_items": null,
            "bottom": null,
            "_model_module": "@jupyter-widgets/base",
            "top": null,
            "grid_column": null,
            "overflow_y": null,
            "overflow_x": null,
            "grid_auto_flow": null,
            "grid_area": null,
            "grid_template_columns": null,
            "flex": null,
            "_model_name": "LayoutModel",
            "justify_items": null,
            "grid_row": null,
            "max_height": null,
            "align_content": null,
            "visibility": null,
            "align_self": null,
            "height": null,
            "min_height": null,
            "padding": null,
            "grid_auto_rows": null,
            "grid_gap": null,
            "max_width": null,
            "order": null,
            "_view_module_version": "1.2.0",
            "grid_template_areas": null,
            "object_position": null,
            "object_fit": null,
            "grid_auto_columns": null,
            "margin": null,
            "display": null,
            "left": null
          }
        },
        "b318089e44bc44f89a181d742244f65b": {
          "model_module": "@jupyter-widgets/controls",
          "model_name": "HBoxModel",
          "model_module_version": "1.5.0",
          "state": {
            "_view_name": "HBoxView",
            "_dom_classes": [],
            "_model_name": "HBoxModel",
            "_view_module": "@jupyter-widgets/controls",
            "_model_module_version": "1.5.0",
            "_view_count": null,
            "_view_module_version": "1.5.0",
            "box_style": "",
            "layout": "IPY_MODEL_1d5887166bdc49d88ca06d4395718e6b",
            "_model_module": "@jupyter-widgets/controls",
            "children": [
              "IPY_MODEL_a649df94e5444f79a30a840fdb5de76d",
              "IPY_MODEL_51157c00d9b1461d82b01fac07548e11",
              "IPY_MODEL_b98a60e0e02d4a2a99090edd3a129638"
            ]
          }
        },
        "1d5887166bdc49d88ca06d4395718e6b": {
          "model_module": "@jupyter-widgets/base",
          "model_name": "LayoutModel",
          "model_module_version": "1.2.0",
          "state": {
            "_view_name": "LayoutView",
            "grid_template_rows": null,
            "right": null,
            "justify_content": null,
            "_view_module": "@jupyter-widgets/base",
            "overflow": null,
            "_model_module_version": "1.2.0",
            "_view_count": null,
            "flex_flow": null,
            "width": null,
            "min_width": null,
            "border": null,
            "align_items": null,
            "bottom": null,
            "_model_module": "@jupyter-widgets/base",
            "top": null,
            "grid_column": null,
            "overflow_y": null,
            "overflow_x": null,
            "grid_auto_flow": null,
            "grid_area": null,
            "grid_template_columns": null,
            "flex": null,
            "_model_name": "LayoutModel",
            "justify_items": null,
            "grid_row": null,
            "max_height": null,
            "align_content": null,
            "visibility": null,
            "align_self": null,
            "height": null,
            "min_height": null,
            "padding": null,
            "grid_auto_rows": null,
            "grid_gap": null,
            "max_width": null,
            "order": null,
            "_view_module_version": "1.2.0",
            "grid_template_areas": null,
            "object_position": null,
            "object_fit": null,
            "grid_auto_columns": null,
            "margin": null,
            "display": null,
            "left": null
          }
        },
        "a649df94e5444f79a30a840fdb5de76d": {
          "model_module": "@jupyter-widgets/controls",
          "model_name": "HTMLModel",
          "model_module_version": "1.5.0",
          "state": {
            "_view_name": "HTMLView",
            "style": "IPY_MODEL_6a2e5382a5bd473cb786d36c9ab60b21",
            "_dom_classes": [],
            "description": "",
            "_model_name": "HTMLModel",
            "placeholder": "​",
            "_view_module": "@jupyter-widgets/controls",
            "_model_module_version": "1.5.0",
            "value": "100%",
            "_view_count": null,
            "_view_module_version": "1.5.0",
            "description_tooltip": null,
            "_model_module": "@jupyter-widgets/controls",
            "layout": "IPY_MODEL_88a23df3da174a21bcb3070bacf08425"
          }
        },
        "51157c00d9b1461d82b01fac07548e11": {
          "model_module": "@jupyter-widgets/controls",
          "model_name": "FloatProgressModel",
          "model_module_version": "1.5.0",
          "state": {
            "_view_name": "ProgressView",
            "style": "IPY_MODEL_b028625d304a4322900c0e4c178e6680",
            "_dom_classes": [],
            "description": "",
            "_model_name": "FloatProgressModel",
            "bar_style": "success",
            "max": 5,
            "_view_module": "@jupyter-widgets/controls",
            "_model_module_version": "1.5.0",
            "value": 5,
            "_view_count": null,
            "_view_module_version": "1.5.0",
            "orientation": "horizontal",
            "min": 0,
            "description_tooltip": null,
            "_model_module": "@jupyter-widgets/controls",
            "layout": "IPY_MODEL_b5783c0a8acf46edb219a958ed5db6e1"
          }
        },
        "b98a60e0e02d4a2a99090edd3a129638": {
          "model_module": "@jupyter-widgets/controls",
          "model_name": "HTMLModel",
          "model_module_version": "1.5.0",
          "state": {
            "_view_name": "HTMLView",
            "style": "IPY_MODEL_4a9184780fe248bc9f380e1acb0c166d",
            "_dom_classes": [],
            "description": "",
            "_model_name": "HTMLModel",
            "placeholder": "​",
            "_view_module": "@jupyter-widgets/controls",
            "_model_module_version": "1.5.0",
            "value": " 5/5 [03:19&lt;00:00, 39.81s/it]",
            "_view_count": null,
            "_view_module_version": "1.5.0",
            "description_tooltip": null,
            "_model_module": "@jupyter-widgets/controls",
            "layout": "IPY_MODEL_fcbb684623ba4540bc960c4044ac53dc"
          }
        },
        "6a2e5382a5bd473cb786d36c9ab60b21": {
          "model_module": "@jupyter-widgets/controls",
          "model_name": "DescriptionStyleModel",
          "model_module_version": "1.5.0",
          "state": {
            "_view_name": "StyleView",
            "_model_name": "DescriptionStyleModel",
            "description_width": "",
            "_view_module": "@jupyter-widgets/base",
            "_model_module_version": "1.5.0",
            "_view_count": null,
            "_view_module_version": "1.2.0",
            "_model_module": "@jupyter-widgets/controls"
          }
        },
        "88a23df3da174a21bcb3070bacf08425": {
          "model_module": "@jupyter-widgets/base",
          "model_name": "LayoutModel",
          "model_module_version": "1.2.0",
          "state": {
            "_view_name": "LayoutView",
            "grid_template_rows": null,
            "right": null,
            "justify_content": null,
            "_view_module": "@jupyter-widgets/base",
            "overflow": null,
            "_model_module_version": "1.2.0",
            "_view_count": null,
            "flex_flow": null,
            "width": null,
            "min_width": null,
            "border": null,
            "align_items": null,
            "bottom": null,
            "_model_module": "@jupyter-widgets/base",
            "top": null,
            "grid_column": null,
            "overflow_y": null,
            "overflow_x": null,
            "grid_auto_flow": null,
            "grid_area": null,
            "grid_template_columns": null,
            "flex": null,
            "_model_name": "LayoutModel",
            "justify_items": null,
            "grid_row": null,
            "max_height": null,
            "align_content": null,
            "visibility": null,
            "align_self": null,
            "height": null,
            "min_height": null,
            "padding": null,
            "grid_auto_rows": null,
            "grid_gap": null,
            "max_width": null,
            "order": null,
            "_view_module_version": "1.2.0",
            "grid_template_areas": null,
            "object_position": null,
            "object_fit": null,
            "grid_auto_columns": null,
            "margin": null,
            "display": null,
            "left": null
          }
        },
        "b028625d304a4322900c0e4c178e6680": {
          "model_module": "@jupyter-widgets/controls",
          "model_name": "ProgressStyleModel",
          "model_module_version": "1.5.0",
          "state": {
            "_view_name": "StyleView",
            "_model_name": "ProgressStyleModel",
            "description_width": "",
            "_view_module": "@jupyter-widgets/base",
            "_model_module_version": "1.5.0",
            "_view_count": null,
            "_view_module_version": "1.2.0",
            "bar_color": null,
            "_model_module": "@jupyter-widgets/controls"
          }
        },
        "b5783c0a8acf46edb219a958ed5db6e1": {
          "model_module": "@jupyter-widgets/base",
          "model_name": "LayoutModel",
          "model_module_version": "1.2.0",
          "state": {
            "_view_name": "LayoutView",
            "grid_template_rows": null,
            "right": null,
            "justify_content": null,
            "_view_module": "@jupyter-widgets/base",
            "overflow": null,
            "_model_module_version": "1.2.0",
            "_view_count": null,
            "flex_flow": null,
            "width": null,
            "min_width": null,
            "border": null,
            "align_items": null,
            "bottom": null,
            "_model_module": "@jupyter-widgets/base",
            "top": null,
            "grid_column": null,
            "overflow_y": null,
            "overflow_x": null,
            "grid_auto_flow": null,
            "grid_area": null,
            "grid_template_columns": null,
            "flex": null,
            "_model_name": "LayoutModel",
            "justify_items": null,
            "grid_row": null,
            "max_height": null,
            "align_content": null,
            "visibility": null,
            "align_self": null,
            "height": null,
            "min_height": null,
            "padding": null,
            "grid_auto_rows": null,
            "grid_gap": null,
            "max_width": null,
            "order": null,
            "_view_module_version": "1.2.0",
            "grid_template_areas": null,
            "object_position": null,
            "object_fit": null,
            "grid_auto_columns": null,
            "margin": null,
            "display": null,
            "left": null
          }
        },
        "4a9184780fe248bc9f380e1acb0c166d": {
          "model_module": "@jupyter-widgets/controls",
          "model_name": "DescriptionStyleModel",
          "model_module_version": "1.5.0",
          "state": {
            "_view_name": "StyleView",
            "_model_name": "DescriptionStyleModel",
            "description_width": "",
            "_view_module": "@jupyter-widgets/base",
            "_model_module_version": "1.5.0",
            "_view_count": null,
            "_view_module_version": "1.2.0",
            "_model_module": "@jupyter-widgets/controls"
          }
        },
        "fcbb684623ba4540bc960c4044ac53dc": {
          "model_module": "@jupyter-widgets/base",
          "model_name": "LayoutModel",
          "model_module_version": "1.2.0",
          "state": {
            "_view_name": "LayoutView",
            "grid_template_rows": null,
            "right": null,
            "justify_content": null,
            "_view_module": "@jupyter-widgets/base",
            "overflow": null,
            "_model_module_version": "1.2.0",
            "_view_count": null,
            "flex_flow": null,
            "width": null,
            "min_width": null,
            "border": null,
            "align_items": null,
            "bottom": null,
            "_model_module": "@jupyter-widgets/base",
            "top": null,
            "grid_column": null,
            "overflow_y": null,
            "overflow_x": null,
            "grid_auto_flow": null,
            "grid_area": null,
            "grid_template_columns": null,
            "flex": null,
            "_model_name": "LayoutModel",
            "justify_items": null,
            "grid_row": null,
            "max_height": null,
            "align_content": null,
            "visibility": null,
            "align_self": null,
            "height": null,
            "min_height": null,
            "padding": null,
            "grid_auto_rows": null,
            "grid_gap": null,
            "max_width": null,
            "order": null,
            "_view_module_version": "1.2.0",
            "grid_template_areas": null,
            "object_position": null,
            "object_fit": null,
            "grid_auto_columns": null,
            "margin": null,
            "display": null,
            "left": null
          }
        },
        "428142243bb74dafb327430403db76a4": {
          "model_module": "@jupyter-widgets/controls",
          "model_name": "HBoxModel",
          "model_module_version": "1.5.0",
          "state": {
            "_view_name": "HBoxView",
            "_dom_classes": [],
            "_model_name": "HBoxModel",
            "_view_module": "@jupyter-widgets/controls",
            "_model_module_version": "1.5.0",
            "_view_count": null,
            "_view_module_version": "1.5.0",
            "box_style": "",
            "layout": "IPY_MODEL_6948182249ae4ab2a98b6ef413b43480",
            "_model_module": "@jupyter-widgets/controls",
            "children": [
              "IPY_MODEL_91bdc282185040d4ab9e0019d316891f",
              "IPY_MODEL_59b95bfe15584df58d71b0c45c249fd2",
              "IPY_MODEL_431631dac4cb4062851b70debcd99d98"
            ]
          }
        },
        "6948182249ae4ab2a98b6ef413b43480": {
          "model_module": "@jupyter-widgets/base",
          "model_name": "LayoutModel",
          "model_module_version": "1.2.0",
          "state": {
            "_view_name": "LayoutView",
            "grid_template_rows": null,
            "right": null,
            "justify_content": null,
            "_view_module": "@jupyter-widgets/base",
            "overflow": null,
            "_model_module_version": "1.2.0",
            "_view_count": null,
            "flex_flow": null,
            "width": null,
            "min_width": null,
            "border": null,
            "align_items": null,
            "bottom": null,
            "_model_module": "@jupyter-widgets/base",
            "top": null,
            "grid_column": null,
            "overflow_y": null,
            "overflow_x": null,
            "grid_auto_flow": null,
            "grid_area": null,
            "grid_template_columns": null,
            "flex": null,
            "_model_name": "LayoutModel",
            "justify_items": null,
            "grid_row": null,
            "max_height": null,
            "align_content": null,
            "visibility": null,
            "align_self": null,
            "height": null,
            "min_height": null,
            "padding": null,
            "grid_auto_rows": null,
            "grid_gap": null,
            "max_width": null,
            "order": null,
            "_view_module_version": "1.2.0",
            "grid_template_areas": null,
            "object_position": null,
            "object_fit": null,
            "grid_auto_columns": null,
            "margin": null,
            "display": null,
            "left": null
          }
        },
        "91bdc282185040d4ab9e0019d316891f": {
          "model_module": "@jupyter-widgets/controls",
          "model_name": "HTMLModel",
          "model_module_version": "1.5.0",
          "state": {
            "_view_name": "HTMLView",
            "style": "IPY_MODEL_3cf3a44d995a46bb816e6d80b349d96c",
            "_dom_classes": [],
            "description": "",
            "_model_name": "HTMLModel",
            "placeholder": "​",
            "_view_module": "@jupyter-widgets/controls",
            "_model_module_version": "1.5.0",
            "value": "100%",
            "_view_count": null,
            "_view_module_version": "1.5.0",
            "description_tooltip": null,
            "_model_module": "@jupyter-widgets/controls",
            "layout": "IPY_MODEL_6c6aeaa1867d4186a7d55eb4bacf4adf"
          }
        },
        "59b95bfe15584df58d71b0c45c249fd2": {
          "model_module": "@jupyter-widgets/controls",
          "model_name": "FloatProgressModel",
          "model_module_version": "1.5.0",
          "state": {
            "_view_name": "ProgressView",
            "style": "IPY_MODEL_556a387421ae4f2eb2bfd98e4dc70eec",
            "_dom_classes": [],
            "description": "",
            "_model_name": "FloatProgressModel",
            "bar_style": "success",
            "max": 5,
            "_view_module": "@jupyter-widgets/controls",
            "_model_module_version": "1.5.0",
            "value": 5,
            "_view_count": null,
            "_view_module_version": "1.5.0",
            "orientation": "horizontal",
            "min": 0,
            "description_tooltip": null,
            "_model_module": "@jupyter-widgets/controls",
            "layout": "IPY_MODEL_dac61b805f7342018d9e05e9c43e7492"
          }
        },
        "431631dac4cb4062851b70debcd99d98": {
          "model_module": "@jupyter-widgets/controls",
          "model_name": "HTMLModel",
          "model_module_version": "1.5.0",
          "state": {
            "_view_name": "HTMLView",
            "style": "IPY_MODEL_c7ee182aa5394810829add1965202641",
            "_dom_classes": [],
            "description": "",
            "_model_name": "HTMLModel",
            "placeholder": "​",
            "_view_module": "@jupyter-widgets/controls",
            "_model_module_version": "1.5.0",
            "value": " 5/5 [04:09&lt;00:00, 49.58s/it]",
            "_view_count": null,
            "_view_module_version": "1.5.0",
            "description_tooltip": null,
            "_model_module": "@jupyter-widgets/controls",
            "layout": "IPY_MODEL_104c90fd1be94a4d99434ee3891e44e6"
          }
        },
        "3cf3a44d995a46bb816e6d80b349d96c": {
          "model_module": "@jupyter-widgets/controls",
          "model_name": "DescriptionStyleModel",
          "model_module_version": "1.5.0",
          "state": {
            "_view_name": "StyleView",
            "_model_name": "DescriptionStyleModel",
            "description_width": "",
            "_view_module": "@jupyter-widgets/base",
            "_model_module_version": "1.5.0",
            "_view_count": null,
            "_view_module_version": "1.2.0",
            "_model_module": "@jupyter-widgets/controls"
          }
        },
        "6c6aeaa1867d4186a7d55eb4bacf4adf": {
          "model_module": "@jupyter-widgets/base",
          "model_name": "LayoutModel",
          "model_module_version": "1.2.0",
          "state": {
            "_view_name": "LayoutView",
            "grid_template_rows": null,
            "right": null,
            "justify_content": null,
            "_view_module": "@jupyter-widgets/base",
            "overflow": null,
            "_model_module_version": "1.2.0",
            "_view_count": null,
            "flex_flow": null,
            "width": null,
            "min_width": null,
            "border": null,
            "align_items": null,
            "bottom": null,
            "_model_module": "@jupyter-widgets/base",
            "top": null,
            "grid_column": null,
            "overflow_y": null,
            "overflow_x": null,
            "grid_auto_flow": null,
            "grid_area": null,
            "grid_template_columns": null,
            "flex": null,
            "_model_name": "LayoutModel",
            "justify_items": null,
            "grid_row": null,
            "max_height": null,
            "align_content": null,
            "visibility": null,
            "align_self": null,
            "height": null,
            "min_height": null,
            "padding": null,
            "grid_auto_rows": null,
            "grid_gap": null,
            "max_width": null,
            "order": null,
            "_view_module_version": "1.2.0",
            "grid_template_areas": null,
            "object_position": null,
            "object_fit": null,
            "grid_auto_columns": null,
            "margin": null,
            "display": null,
            "left": null
          }
        },
        "556a387421ae4f2eb2bfd98e4dc70eec": {
          "model_module": "@jupyter-widgets/controls",
          "model_name": "ProgressStyleModel",
          "model_module_version": "1.5.0",
          "state": {
            "_view_name": "StyleView",
            "_model_name": "ProgressStyleModel",
            "description_width": "",
            "_view_module": "@jupyter-widgets/base",
            "_model_module_version": "1.5.0",
            "_view_count": null,
            "_view_module_version": "1.2.0",
            "bar_color": null,
            "_model_module": "@jupyter-widgets/controls"
          }
        },
        "dac61b805f7342018d9e05e9c43e7492": {
          "model_module": "@jupyter-widgets/base",
          "model_name": "LayoutModel",
          "model_module_version": "1.2.0",
          "state": {
            "_view_name": "LayoutView",
            "grid_template_rows": null,
            "right": null,
            "justify_content": null,
            "_view_module": "@jupyter-widgets/base",
            "overflow": null,
            "_model_module_version": "1.2.0",
            "_view_count": null,
            "flex_flow": null,
            "width": null,
            "min_width": null,
            "border": null,
            "align_items": null,
            "bottom": null,
            "_model_module": "@jupyter-widgets/base",
            "top": null,
            "grid_column": null,
            "overflow_y": null,
            "overflow_x": null,
            "grid_auto_flow": null,
            "grid_area": null,
            "grid_template_columns": null,
            "flex": null,
            "_model_name": "LayoutModel",
            "justify_items": null,
            "grid_row": null,
            "max_height": null,
            "align_content": null,
            "visibility": null,
            "align_self": null,
            "height": null,
            "min_height": null,
            "padding": null,
            "grid_auto_rows": null,
            "grid_gap": null,
            "max_width": null,
            "order": null,
            "_view_module_version": "1.2.0",
            "grid_template_areas": null,
            "object_position": null,
            "object_fit": null,
            "grid_auto_columns": null,
            "margin": null,
            "display": null,
            "left": null
          }
        },
        "c7ee182aa5394810829add1965202641": {
          "model_module": "@jupyter-widgets/controls",
          "model_name": "DescriptionStyleModel",
          "model_module_version": "1.5.0",
          "state": {
            "_view_name": "StyleView",
            "_model_name": "DescriptionStyleModel",
            "description_width": "",
            "_view_module": "@jupyter-widgets/base",
            "_model_module_version": "1.5.0",
            "_view_count": null,
            "_view_module_version": "1.2.0",
            "_model_module": "@jupyter-widgets/controls"
          }
        },
        "104c90fd1be94a4d99434ee3891e44e6": {
          "model_module": "@jupyter-widgets/base",
          "model_name": "LayoutModel",
          "model_module_version": "1.2.0",
          "state": {
            "_view_name": "LayoutView",
            "grid_template_rows": null,
            "right": null,
            "justify_content": null,
            "_view_module": "@jupyter-widgets/base",
            "overflow": null,
            "_model_module_version": "1.2.0",
            "_view_count": null,
            "flex_flow": null,
            "width": null,
            "min_width": null,
            "border": null,
            "align_items": null,
            "bottom": null,
            "_model_module": "@jupyter-widgets/base",
            "top": null,
            "grid_column": null,
            "overflow_y": null,
            "overflow_x": null,
            "grid_auto_flow": null,
            "grid_area": null,
            "grid_template_columns": null,
            "flex": null,
            "_model_name": "LayoutModel",
            "justify_items": null,
            "grid_row": null,
            "max_height": null,
            "align_content": null,
            "visibility": null,
            "align_self": null,
            "height": null,
            "min_height": null,
            "padding": null,
            "grid_auto_rows": null,
            "grid_gap": null,
            "max_width": null,
            "order": null,
            "_view_module_version": "1.2.0",
            "grid_template_areas": null,
            "object_position": null,
            "object_fit": null,
            "grid_auto_columns": null,
            "margin": null,
            "display": null,
            "left": null
          }
        },
        "1bd1b55e77fc4c0cb5bcccf29e1eb105": {
          "model_module": "@jupyter-widgets/controls",
          "model_name": "HBoxModel",
          "model_module_version": "1.5.0",
          "state": {
            "_view_name": "HBoxView",
            "_dom_classes": [],
            "_model_name": "HBoxModel",
            "_view_module": "@jupyter-widgets/controls",
            "_model_module_version": "1.5.0",
            "_view_count": null,
            "_view_module_version": "1.5.0",
            "box_style": "",
            "layout": "IPY_MODEL_f6ae5a3cbed74557932436a98b486ecd",
            "_model_module": "@jupyter-widgets/controls",
            "children": [
              "IPY_MODEL_ae096dbc60af4ff18e78bbbcce243c1f",
              "IPY_MODEL_4c65e8acbc594d778d228de0587e158b",
              "IPY_MODEL_52d798db54ce42b5afaa4800874a3aaa"
            ]
          }
        },
        "f6ae5a3cbed74557932436a98b486ecd": {
          "model_module": "@jupyter-widgets/base",
          "model_name": "LayoutModel",
          "model_module_version": "1.2.0",
          "state": {
            "_view_name": "LayoutView",
            "grid_template_rows": null,
            "right": null,
            "justify_content": null,
            "_view_module": "@jupyter-widgets/base",
            "overflow": null,
            "_model_module_version": "1.2.0",
            "_view_count": null,
            "flex_flow": null,
            "width": null,
            "min_width": null,
            "border": null,
            "align_items": null,
            "bottom": null,
            "_model_module": "@jupyter-widgets/base",
            "top": null,
            "grid_column": null,
            "overflow_y": null,
            "overflow_x": null,
            "grid_auto_flow": null,
            "grid_area": null,
            "grid_template_columns": null,
            "flex": null,
            "_model_name": "LayoutModel",
            "justify_items": null,
            "grid_row": null,
            "max_height": null,
            "align_content": null,
            "visibility": null,
            "align_self": null,
            "height": null,
            "min_height": null,
            "padding": null,
            "grid_auto_rows": null,
            "grid_gap": null,
            "max_width": null,
            "order": null,
            "_view_module_version": "1.2.0",
            "grid_template_areas": null,
            "object_position": null,
            "object_fit": null,
            "grid_auto_columns": null,
            "margin": null,
            "display": null,
            "left": null
          }
        },
        "ae096dbc60af4ff18e78bbbcce243c1f": {
          "model_module": "@jupyter-widgets/controls",
          "model_name": "HTMLModel",
          "model_module_version": "1.5.0",
          "state": {
            "_view_name": "HTMLView",
            "style": "IPY_MODEL_c30c5f52df0844688a3863d6ace1e407",
            "_dom_classes": [],
            "description": "",
            "_model_name": "HTMLModel",
            "placeholder": "​",
            "_view_module": "@jupyter-widgets/controls",
            "_model_module_version": "1.5.0",
            "value": "100%",
            "_view_count": null,
            "_view_module_version": "1.5.0",
            "description_tooltip": null,
            "_model_module": "@jupyter-widgets/controls",
            "layout": "IPY_MODEL_aeb413564cbe4618be0bc33776b9c8f2"
          }
        },
        "4c65e8acbc594d778d228de0587e158b": {
          "model_module": "@jupyter-widgets/controls",
          "model_name": "FloatProgressModel",
          "model_module_version": "1.5.0",
          "state": {
            "_view_name": "ProgressView",
            "style": "IPY_MODEL_750856047c184b218ec2581bebc78814",
            "_dom_classes": [],
            "description": "",
            "_model_name": "FloatProgressModel",
            "bar_style": "success",
            "max": 5,
            "_view_module": "@jupyter-widgets/controls",
            "_model_module_version": "1.5.0",
            "value": 5,
            "_view_count": null,
            "_view_module_version": "1.5.0",
            "orientation": "horizontal",
            "min": 0,
            "description_tooltip": null,
            "_model_module": "@jupyter-widgets/controls",
            "layout": "IPY_MODEL_6a963051e3fd412aa5d0f7a64ecaa873"
          }
        },
        "52d798db54ce42b5afaa4800874a3aaa": {
          "model_module": "@jupyter-widgets/controls",
          "model_name": "HTMLModel",
          "model_module_version": "1.5.0",
          "state": {
            "_view_name": "HTMLView",
            "style": "IPY_MODEL_a3c9edb8e0374d308b6676d28711bc6e",
            "_dom_classes": [],
            "description": "",
            "_model_name": "HTMLModel",
            "placeholder": "​",
            "_view_module": "@jupyter-widgets/controls",
            "_model_module_version": "1.5.0",
            "value": " 5/5 [04:52&lt;00:00, 58.40s/it]",
            "_view_count": null,
            "_view_module_version": "1.5.0",
            "description_tooltip": null,
            "_model_module": "@jupyter-widgets/controls",
            "layout": "IPY_MODEL_f8b3bfbeb2c84953a59c950286348cb3"
          }
        },
        "c30c5f52df0844688a3863d6ace1e407": {
          "model_module": "@jupyter-widgets/controls",
          "model_name": "DescriptionStyleModel",
          "model_module_version": "1.5.0",
          "state": {
            "_view_name": "StyleView",
            "_model_name": "DescriptionStyleModel",
            "description_width": "",
            "_view_module": "@jupyter-widgets/base",
            "_model_module_version": "1.5.0",
            "_view_count": null,
            "_view_module_version": "1.2.0",
            "_model_module": "@jupyter-widgets/controls"
          }
        },
        "aeb413564cbe4618be0bc33776b9c8f2": {
          "model_module": "@jupyter-widgets/base",
          "model_name": "LayoutModel",
          "model_module_version": "1.2.0",
          "state": {
            "_view_name": "LayoutView",
            "grid_template_rows": null,
            "right": null,
            "justify_content": null,
            "_view_module": "@jupyter-widgets/base",
            "overflow": null,
            "_model_module_version": "1.2.0",
            "_view_count": null,
            "flex_flow": null,
            "width": null,
            "min_width": null,
            "border": null,
            "align_items": null,
            "bottom": null,
            "_model_module": "@jupyter-widgets/base",
            "top": null,
            "grid_column": null,
            "overflow_y": null,
            "overflow_x": null,
            "grid_auto_flow": null,
            "grid_area": null,
            "grid_template_columns": null,
            "flex": null,
            "_model_name": "LayoutModel",
            "justify_items": null,
            "grid_row": null,
            "max_height": null,
            "align_content": null,
            "visibility": null,
            "align_self": null,
            "height": null,
            "min_height": null,
            "padding": null,
            "grid_auto_rows": null,
            "grid_gap": null,
            "max_width": null,
            "order": null,
            "_view_module_version": "1.2.0",
            "grid_template_areas": null,
            "object_position": null,
            "object_fit": null,
            "grid_auto_columns": null,
            "margin": null,
            "display": null,
            "left": null
          }
        },
        "750856047c184b218ec2581bebc78814": {
          "model_module": "@jupyter-widgets/controls",
          "model_name": "ProgressStyleModel",
          "model_module_version": "1.5.0",
          "state": {
            "_view_name": "StyleView",
            "_model_name": "ProgressStyleModel",
            "description_width": "",
            "_view_module": "@jupyter-widgets/base",
            "_model_module_version": "1.5.0",
            "_view_count": null,
            "_view_module_version": "1.2.0",
            "bar_color": null,
            "_model_module": "@jupyter-widgets/controls"
          }
        },
        "6a963051e3fd412aa5d0f7a64ecaa873": {
          "model_module": "@jupyter-widgets/base",
          "model_name": "LayoutModel",
          "model_module_version": "1.2.0",
          "state": {
            "_view_name": "LayoutView",
            "grid_template_rows": null,
            "right": null,
            "justify_content": null,
            "_view_module": "@jupyter-widgets/base",
            "overflow": null,
            "_model_module_version": "1.2.0",
            "_view_count": null,
            "flex_flow": null,
            "width": null,
            "min_width": null,
            "border": null,
            "align_items": null,
            "bottom": null,
            "_model_module": "@jupyter-widgets/base",
            "top": null,
            "grid_column": null,
            "overflow_y": null,
            "overflow_x": null,
            "grid_auto_flow": null,
            "grid_area": null,
            "grid_template_columns": null,
            "flex": null,
            "_model_name": "LayoutModel",
            "justify_items": null,
            "grid_row": null,
            "max_height": null,
            "align_content": null,
            "visibility": null,
            "align_self": null,
            "height": null,
            "min_height": null,
            "padding": null,
            "grid_auto_rows": null,
            "grid_gap": null,
            "max_width": null,
            "order": null,
            "_view_module_version": "1.2.0",
            "grid_template_areas": null,
            "object_position": null,
            "object_fit": null,
            "grid_auto_columns": null,
            "margin": null,
            "display": null,
            "left": null
          }
        },
        "a3c9edb8e0374d308b6676d28711bc6e": {
          "model_module": "@jupyter-widgets/controls",
          "model_name": "DescriptionStyleModel",
          "model_module_version": "1.5.0",
          "state": {
            "_view_name": "StyleView",
            "_model_name": "DescriptionStyleModel",
            "description_width": "",
            "_view_module": "@jupyter-widgets/base",
            "_model_module_version": "1.5.0",
            "_view_count": null,
            "_view_module_version": "1.2.0",
            "_model_module": "@jupyter-widgets/controls"
          }
        },
        "f8b3bfbeb2c84953a59c950286348cb3": {
          "model_module": "@jupyter-widgets/base",
          "model_name": "LayoutModel",
          "model_module_version": "1.2.0",
          "state": {
            "_view_name": "LayoutView",
            "grid_template_rows": null,
            "right": null,
            "justify_content": null,
            "_view_module": "@jupyter-widgets/base",
            "overflow": null,
            "_model_module_version": "1.2.0",
            "_view_count": null,
            "flex_flow": null,
            "width": null,
            "min_width": null,
            "border": null,
            "align_items": null,
            "bottom": null,
            "_model_module": "@jupyter-widgets/base",
            "top": null,
            "grid_column": null,
            "overflow_y": null,
            "overflow_x": null,
            "grid_auto_flow": null,
            "grid_area": null,
            "grid_template_columns": null,
            "flex": null,
            "_model_name": "LayoutModel",
            "justify_items": null,
            "grid_row": null,
            "max_height": null,
            "align_content": null,
            "visibility": null,
            "align_self": null,
            "height": null,
            "min_height": null,
            "padding": null,
            "grid_auto_rows": null,
            "grid_gap": null,
            "max_width": null,
            "order": null,
            "_view_module_version": "1.2.0",
            "grid_template_areas": null,
            "object_position": null,
            "object_fit": null,
            "grid_auto_columns": null,
            "margin": null,
            "display": null,
            "left": null
          }
        },
        "bdf1af09c2874be9a5e95b7c5ec78ca6": {
          "model_module": "@jupyter-widgets/controls",
          "model_name": "HBoxModel",
          "model_module_version": "1.5.0",
          "state": {
            "_view_name": "HBoxView",
            "_dom_classes": [],
            "_model_name": "HBoxModel",
            "_view_module": "@jupyter-widgets/controls",
            "_model_module_version": "1.5.0",
            "_view_count": null,
            "_view_module_version": "1.5.0",
            "box_style": "",
            "layout": "IPY_MODEL_9a6ac31a95854a84bd5e229511b854f4",
            "_model_module": "@jupyter-widgets/controls",
            "children": [
              "IPY_MODEL_cd438e8aecd6458487bb64643444cd4b",
              "IPY_MODEL_39a9b7e07cab4b8a9030774f64a8c584",
              "IPY_MODEL_9c0d5cd967c74b048dca4436404344b2"
            ]
          }
        },
        "9a6ac31a95854a84bd5e229511b854f4": {
          "model_module": "@jupyter-widgets/base",
          "model_name": "LayoutModel",
          "model_module_version": "1.2.0",
          "state": {
            "_view_name": "LayoutView",
            "grid_template_rows": null,
            "right": null,
            "justify_content": null,
            "_view_module": "@jupyter-widgets/base",
            "overflow": null,
            "_model_module_version": "1.2.0",
            "_view_count": null,
            "flex_flow": null,
            "width": null,
            "min_width": null,
            "border": null,
            "align_items": null,
            "bottom": null,
            "_model_module": "@jupyter-widgets/base",
            "top": null,
            "grid_column": null,
            "overflow_y": null,
            "overflow_x": null,
            "grid_auto_flow": null,
            "grid_area": null,
            "grid_template_columns": null,
            "flex": null,
            "_model_name": "LayoutModel",
            "justify_items": null,
            "grid_row": null,
            "max_height": null,
            "align_content": null,
            "visibility": null,
            "align_self": null,
            "height": null,
            "min_height": null,
            "padding": null,
            "grid_auto_rows": null,
            "grid_gap": null,
            "max_width": null,
            "order": null,
            "_view_module_version": "1.2.0",
            "grid_template_areas": null,
            "object_position": null,
            "object_fit": null,
            "grid_auto_columns": null,
            "margin": null,
            "display": null,
            "left": null
          }
        },
        "cd438e8aecd6458487bb64643444cd4b": {
          "model_module": "@jupyter-widgets/controls",
          "model_name": "HTMLModel",
          "model_module_version": "1.5.0",
          "state": {
            "_view_name": "HTMLView",
            "style": "IPY_MODEL_8b8bcc22f17349008b9c5e57daaa45f3",
            "_dom_classes": [],
            "description": "",
            "_model_name": "HTMLModel",
            "placeholder": "​",
            "_view_module": "@jupyter-widgets/controls",
            "_model_module_version": "1.5.0",
            "value": "100%",
            "_view_count": null,
            "_view_module_version": "1.5.0",
            "description_tooltip": null,
            "_model_module": "@jupyter-widgets/controls",
            "layout": "IPY_MODEL_79c0856d1ffc4468bf673e1fb4d40b57"
          }
        },
        "39a9b7e07cab4b8a9030774f64a8c584": {
          "model_module": "@jupyter-widgets/controls",
          "model_name": "FloatProgressModel",
          "model_module_version": "1.5.0",
          "state": {
            "_view_name": "ProgressView",
            "style": "IPY_MODEL_05e65c379cda46c096b45b8261338394",
            "_dom_classes": [],
            "description": "",
            "_model_name": "FloatProgressModel",
            "bar_style": "success",
            "max": 5,
            "_view_module": "@jupyter-widgets/controls",
            "_model_module_version": "1.5.0",
            "value": 5,
            "_view_count": null,
            "_view_module_version": "1.5.0",
            "orientation": "horizontal",
            "min": 0,
            "description_tooltip": null,
            "_model_module": "@jupyter-widgets/controls",
            "layout": "IPY_MODEL_e46b8bc3f769451eaca51733120733af"
          }
        },
        "9c0d5cd967c74b048dca4436404344b2": {
          "model_module": "@jupyter-widgets/controls",
          "model_name": "HTMLModel",
          "model_module_version": "1.5.0",
          "state": {
            "_view_name": "HTMLView",
            "style": "IPY_MODEL_c364977d680246c6af1bb6fbf0b34575",
            "_dom_classes": [],
            "description": "",
            "_model_name": "HTMLModel",
            "placeholder": "​",
            "_view_module": "@jupyter-widgets/controls",
            "_model_module_version": "1.5.0",
            "value": " 5/5 [05:16&lt;00:00, 63.25s/it]",
            "_view_count": null,
            "_view_module_version": "1.5.0",
            "description_tooltip": null,
            "_model_module": "@jupyter-widgets/controls",
            "layout": "IPY_MODEL_f02d440b35e345f28f278de49f2d0bb9"
          }
        },
        "8b8bcc22f17349008b9c5e57daaa45f3": {
          "model_module": "@jupyter-widgets/controls",
          "model_name": "DescriptionStyleModel",
          "model_module_version": "1.5.0",
          "state": {
            "_view_name": "StyleView",
            "_model_name": "DescriptionStyleModel",
            "description_width": "",
            "_view_module": "@jupyter-widgets/base",
            "_model_module_version": "1.5.0",
            "_view_count": null,
            "_view_module_version": "1.2.0",
            "_model_module": "@jupyter-widgets/controls"
          }
        },
        "79c0856d1ffc4468bf673e1fb4d40b57": {
          "model_module": "@jupyter-widgets/base",
          "model_name": "LayoutModel",
          "model_module_version": "1.2.0",
          "state": {
            "_view_name": "LayoutView",
            "grid_template_rows": null,
            "right": null,
            "justify_content": null,
            "_view_module": "@jupyter-widgets/base",
            "overflow": null,
            "_model_module_version": "1.2.0",
            "_view_count": null,
            "flex_flow": null,
            "width": null,
            "min_width": null,
            "border": null,
            "align_items": null,
            "bottom": null,
            "_model_module": "@jupyter-widgets/base",
            "top": null,
            "grid_column": null,
            "overflow_y": null,
            "overflow_x": null,
            "grid_auto_flow": null,
            "grid_area": null,
            "grid_template_columns": null,
            "flex": null,
            "_model_name": "LayoutModel",
            "justify_items": null,
            "grid_row": null,
            "max_height": null,
            "align_content": null,
            "visibility": null,
            "align_self": null,
            "height": null,
            "min_height": null,
            "padding": null,
            "grid_auto_rows": null,
            "grid_gap": null,
            "max_width": null,
            "order": null,
            "_view_module_version": "1.2.0",
            "grid_template_areas": null,
            "object_position": null,
            "object_fit": null,
            "grid_auto_columns": null,
            "margin": null,
            "display": null,
            "left": null
          }
        },
        "05e65c379cda46c096b45b8261338394": {
          "model_module": "@jupyter-widgets/controls",
          "model_name": "ProgressStyleModel",
          "model_module_version": "1.5.0",
          "state": {
            "_view_name": "StyleView",
            "_model_name": "ProgressStyleModel",
            "description_width": "",
            "_view_module": "@jupyter-widgets/base",
            "_model_module_version": "1.5.0",
            "_view_count": null,
            "_view_module_version": "1.2.0",
            "bar_color": null,
            "_model_module": "@jupyter-widgets/controls"
          }
        },
        "e46b8bc3f769451eaca51733120733af": {
          "model_module": "@jupyter-widgets/base",
          "model_name": "LayoutModel",
          "model_module_version": "1.2.0",
          "state": {
            "_view_name": "LayoutView",
            "grid_template_rows": null,
            "right": null,
            "justify_content": null,
            "_view_module": "@jupyter-widgets/base",
            "overflow": null,
            "_model_module_version": "1.2.0",
            "_view_count": null,
            "flex_flow": null,
            "width": null,
            "min_width": null,
            "border": null,
            "align_items": null,
            "bottom": null,
            "_model_module": "@jupyter-widgets/base",
            "top": null,
            "grid_column": null,
            "overflow_y": null,
            "overflow_x": null,
            "grid_auto_flow": null,
            "grid_area": null,
            "grid_template_columns": null,
            "flex": null,
            "_model_name": "LayoutModel",
            "justify_items": null,
            "grid_row": null,
            "max_height": null,
            "align_content": null,
            "visibility": null,
            "align_self": null,
            "height": null,
            "min_height": null,
            "padding": null,
            "grid_auto_rows": null,
            "grid_gap": null,
            "max_width": null,
            "order": null,
            "_view_module_version": "1.2.0",
            "grid_template_areas": null,
            "object_position": null,
            "object_fit": null,
            "grid_auto_columns": null,
            "margin": null,
            "display": null,
            "left": null
          }
        },
        "c364977d680246c6af1bb6fbf0b34575": {
          "model_module": "@jupyter-widgets/controls",
          "model_name": "DescriptionStyleModel",
          "model_module_version": "1.5.0",
          "state": {
            "_view_name": "StyleView",
            "_model_name": "DescriptionStyleModel",
            "description_width": "",
            "_view_module": "@jupyter-widgets/base",
            "_model_module_version": "1.5.0",
            "_view_count": null,
            "_view_module_version": "1.2.0",
            "_model_module": "@jupyter-widgets/controls"
          }
        },
        "f02d440b35e345f28f278de49f2d0bb9": {
          "model_module": "@jupyter-widgets/base",
          "model_name": "LayoutModel",
          "model_module_version": "1.2.0",
          "state": {
            "_view_name": "LayoutView",
            "grid_template_rows": null,
            "right": null,
            "justify_content": null,
            "_view_module": "@jupyter-widgets/base",
            "overflow": null,
            "_model_module_version": "1.2.0",
            "_view_count": null,
            "flex_flow": null,
            "width": null,
            "min_width": null,
            "border": null,
            "align_items": null,
            "bottom": null,
            "_model_module": "@jupyter-widgets/base",
            "top": null,
            "grid_column": null,
            "overflow_y": null,
            "overflow_x": null,
            "grid_auto_flow": null,
            "grid_area": null,
            "grid_template_columns": null,
            "flex": null,
            "_model_name": "LayoutModel",
            "justify_items": null,
            "grid_row": null,
            "max_height": null,
            "align_content": null,
            "visibility": null,
            "align_self": null,
            "height": null,
            "min_height": null,
            "padding": null,
            "grid_auto_rows": null,
            "grid_gap": null,
            "max_width": null,
            "order": null,
            "_view_module_version": "1.2.0",
            "grid_template_areas": null,
            "object_position": null,
            "object_fit": null,
            "grid_auto_columns": null,
            "margin": null,
            "display": null,
            "left": null
          }
        },
        "2b7565d690154285870c23ad9913f764": {
          "model_module": "@jupyter-widgets/controls",
          "model_name": "HBoxModel",
          "model_module_version": "1.5.0",
          "state": {
            "_view_name": "HBoxView",
            "_dom_classes": [],
            "_model_name": "HBoxModel",
            "_view_module": "@jupyter-widgets/controls",
            "_model_module_version": "1.5.0",
            "_view_count": null,
            "_view_module_version": "1.5.0",
            "box_style": "",
            "layout": "IPY_MODEL_a50bbb4bd26e424dad9c565871d80de9",
            "_model_module": "@jupyter-widgets/controls",
            "children": [
              "IPY_MODEL_c44629f8aa03494f8a8836d1f2702151",
              "IPY_MODEL_1ea797b7a8f645e99b8091637e208376",
              "IPY_MODEL_9141ef21c79a44eba4257f7eb028e24f"
            ]
          }
        },
        "a50bbb4bd26e424dad9c565871d80de9": {
          "model_module": "@jupyter-widgets/base",
          "model_name": "LayoutModel",
          "model_module_version": "1.2.0",
          "state": {
            "_view_name": "LayoutView",
            "grid_template_rows": null,
            "right": null,
            "justify_content": null,
            "_view_module": "@jupyter-widgets/base",
            "overflow": null,
            "_model_module_version": "1.2.0",
            "_view_count": null,
            "flex_flow": null,
            "width": null,
            "min_width": null,
            "border": null,
            "align_items": null,
            "bottom": null,
            "_model_module": "@jupyter-widgets/base",
            "top": null,
            "grid_column": null,
            "overflow_y": null,
            "overflow_x": null,
            "grid_auto_flow": null,
            "grid_area": null,
            "grid_template_columns": null,
            "flex": null,
            "_model_name": "LayoutModel",
            "justify_items": null,
            "grid_row": null,
            "max_height": null,
            "align_content": null,
            "visibility": null,
            "align_self": null,
            "height": null,
            "min_height": null,
            "padding": null,
            "grid_auto_rows": null,
            "grid_gap": null,
            "max_width": null,
            "order": null,
            "_view_module_version": "1.2.0",
            "grid_template_areas": null,
            "object_position": null,
            "object_fit": null,
            "grid_auto_columns": null,
            "margin": null,
            "display": null,
            "left": null
          }
        },
        "c44629f8aa03494f8a8836d1f2702151": {
          "model_module": "@jupyter-widgets/controls",
          "model_name": "HTMLModel",
          "model_module_version": "1.5.0",
          "state": {
            "_view_name": "HTMLView",
            "style": "IPY_MODEL_c256a5b355ff483a829267aee32c9ce8",
            "_dom_classes": [],
            "description": "",
            "_model_name": "HTMLModel",
            "placeholder": "​",
            "_view_module": "@jupyter-widgets/controls",
            "_model_module_version": "1.5.0",
            "value": "100%",
            "_view_count": null,
            "_view_module_version": "1.5.0",
            "description_tooltip": null,
            "_model_module": "@jupyter-widgets/controls",
            "layout": "IPY_MODEL_2153b4a2223848668107854484337b87"
          }
        },
        "1ea797b7a8f645e99b8091637e208376": {
          "model_module": "@jupyter-widgets/controls",
          "model_name": "FloatProgressModel",
          "model_module_version": "1.5.0",
          "state": {
            "_view_name": "ProgressView",
            "style": "IPY_MODEL_101b939e9f3f436e8299d56597b2ae97",
            "_dom_classes": [],
            "description": "",
            "_model_name": "FloatProgressModel",
            "bar_style": "success",
            "max": 5,
            "_view_module": "@jupyter-widgets/controls",
            "_model_module_version": "1.5.0",
            "value": 5,
            "_view_count": null,
            "_view_module_version": "1.5.0",
            "orientation": "horizontal",
            "min": 0,
            "description_tooltip": null,
            "_model_module": "@jupyter-widgets/controls",
            "layout": "IPY_MODEL_cbe60b2413124d578100655d128c079b"
          }
        },
        "9141ef21c79a44eba4257f7eb028e24f": {
          "model_module": "@jupyter-widgets/controls",
          "model_name": "HTMLModel",
          "model_module_version": "1.5.0",
          "state": {
            "_view_name": "HTMLView",
            "style": "IPY_MODEL_17d603d34ce44228bcadc3c2c48d2907",
            "_dom_classes": [],
            "description": "",
            "_model_name": "HTMLModel",
            "placeholder": "​",
            "_view_module": "@jupyter-widgets/controls",
            "_model_module_version": "1.5.0",
            "value": " 5/5 [07:23&lt;00:00, 88.64s/it]",
            "_view_count": null,
            "_view_module_version": "1.5.0",
            "description_tooltip": null,
            "_model_module": "@jupyter-widgets/controls",
            "layout": "IPY_MODEL_ebdc81007ce540429c41eb61c47c9a30"
          }
        },
        "c256a5b355ff483a829267aee32c9ce8": {
          "model_module": "@jupyter-widgets/controls",
          "model_name": "DescriptionStyleModel",
          "model_module_version": "1.5.0",
          "state": {
            "_view_name": "StyleView",
            "_model_name": "DescriptionStyleModel",
            "description_width": "",
            "_view_module": "@jupyter-widgets/base",
            "_model_module_version": "1.5.0",
            "_view_count": null,
            "_view_module_version": "1.2.0",
            "_model_module": "@jupyter-widgets/controls"
          }
        },
        "2153b4a2223848668107854484337b87": {
          "model_module": "@jupyter-widgets/base",
          "model_name": "LayoutModel",
          "model_module_version": "1.2.0",
          "state": {
            "_view_name": "LayoutView",
            "grid_template_rows": null,
            "right": null,
            "justify_content": null,
            "_view_module": "@jupyter-widgets/base",
            "overflow": null,
            "_model_module_version": "1.2.0",
            "_view_count": null,
            "flex_flow": null,
            "width": null,
            "min_width": null,
            "border": null,
            "align_items": null,
            "bottom": null,
            "_model_module": "@jupyter-widgets/base",
            "top": null,
            "grid_column": null,
            "overflow_y": null,
            "overflow_x": null,
            "grid_auto_flow": null,
            "grid_area": null,
            "grid_template_columns": null,
            "flex": null,
            "_model_name": "LayoutModel",
            "justify_items": null,
            "grid_row": null,
            "max_height": null,
            "align_content": null,
            "visibility": null,
            "align_self": null,
            "height": null,
            "min_height": null,
            "padding": null,
            "grid_auto_rows": null,
            "grid_gap": null,
            "max_width": null,
            "order": null,
            "_view_module_version": "1.2.0",
            "grid_template_areas": null,
            "object_position": null,
            "object_fit": null,
            "grid_auto_columns": null,
            "margin": null,
            "display": null,
            "left": null
          }
        },
        "101b939e9f3f436e8299d56597b2ae97": {
          "model_module": "@jupyter-widgets/controls",
          "model_name": "ProgressStyleModel",
          "model_module_version": "1.5.0",
          "state": {
            "_view_name": "StyleView",
            "_model_name": "ProgressStyleModel",
            "description_width": "",
            "_view_module": "@jupyter-widgets/base",
            "_model_module_version": "1.5.0",
            "_view_count": null,
            "_view_module_version": "1.2.0",
            "bar_color": null,
            "_model_module": "@jupyter-widgets/controls"
          }
        },
        "cbe60b2413124d578100655d128c079b": {
          "model_module": "@jupyter-widgets/base",
          "model_name": "LayoutModel",
          "model_module_version": "1.2.0",
          "state": {
            "_view_name": "LayoutView",
            "grid_template_rows": null,
            "right": null,
            "justify_content": null,
            "_view_module": "@jupyter-widgets/base",
            "overflow": null,
            "_model_module_version": "1.2.0",
            "_view_count": null,
            "flex_flow": null,
            "width": null,
            "min_width": null,
            "border": null,
            "align_items": null,
            "bottom": null,
            "_model_module": "@jupyter-widgets/base",
            "top": null,
            "grid_column": null,
            "overflow_y": null,
            "overflow_x": null,
            "grid_auto_flow": null,
            "grid_area": null,
            "grid_template_columns": null,
            "flex": null,
            "_model_name": "LayoutModel",
            "justify_items": null,
            "grid_row": null,
            "max_height": null,
            "align_content": null,
            "visibility": null,
            "align_self": null,
            "height": null,
            "min_height": null,
            "padding": null,
            "grid_auto_rows": null,
            "grid_gap": null,
            "max_width": null,
            "order": null,
            "_view_module_version": "1.2.0",
            "grid_template_areas": null,
            "object_position": null,
            "object_fit": null,
            "grid_auto_columns": null,
            "margin": null,
            "display": null,
            "left": null
          }
        },
        "17d603d34ce44228bcadc3c2c48d2907": {
          "model_module": "@jupyter-widgets/controls",
          "model_name": "DescriptionStyleModel",
          "model_module_version": "1.5.0",
          "state": {
            "_view_name": "StyleView",
            "_model_name": "DescriptionStyleModel",
            "description_width": "",
            "_view_module": "@jupyter-widgets/base",
            "_model_module_version": "1.5.0",
            "_view_count": null,
            "_view_module_version": "1.2.0",
            "_model_module": "@jupyter-widgets/controls"
          }
        },
        "ebdc81007ce540429c41eb61c47c9a30": {
          "model_module": "@jupyter-widgets/base",
          "model_name": "LayoutModel",
          "model_module_version": "1.2.0",
          "state": {
            "_view_name": "LayoutView",
            "grid_template_rows": null,
            "right": null,
            "justify_content": null,
            "_view_module": "@jupyter-widgets/base",
            "overflow": null,
            "_model_module_version": "1.2.0",
            "_view_count": null,
            "flex_flow": null,
            "width": null,
            "min_width": null,
            "border": null,
            "align_items": null,
            "bottom": null,
            "_model_module": "@jupyter-widgets/base",
            "top": null,
            "grid_column": null,
            "overflow_y": null,
            "overflow_x": null,
            "grid_auto_flow": null,
            "grid_area": null,
            "grid_template_columns": null,
            "flex": null,
            "_model_name": "LayoutModel",
            "justify_items": null,
            "grid_row": null,
            "max_height": null,
            "align_content": null,
            "visibility": null,
            "align_self": null,
            "height": null,
            "min_height": null,
            "padding": null,
            "grid_auto_rows": null,
            "grid_gap": null,
            "max_width": null,
            "order": null,
            "_view_module_version": "1.2.0",
            "grid_template_areas": null,
            "object_position": null,
            "object_fit": null,
            "grid_auto_columns": null,
            "margin": null,
            "display": null,
            "left": null
          }
        },
        "61000ed1d01846a5bdd7de9e16398c2a": {
          "model_module": "@jupyter-widgets/controls",
          "model_name": "HBoxModel",
          "model_module_version": "1.5.0",
          "state": {
            "_view_name": "HBoxView",
            "_dom_classes": [],
            "_model_name": "HBoxModel",
            "_view_module": "@jupyter-widgets/controls",
            "_model_module_version": "1.5.0",
            "_view_count": null,
            "_view_module_version": "1.5.0",
            "box_style": "",
            "layout": "IPY_MODEL_9bda00df8e4a41b5866086cf3fd81b61",
            "_model_module": "@jupyter-widgets/controls",
            "children": [
              "IPY_MODEL_46c78abb869d43ffa883520d750a336b",
              "IPY_MODEL_5b4a8c0e94a3470b82e6b8f1878947e5",
              "IPY_MODEL_36a86218a4b64211b64a72fc9c973724"
            ]
          }
        },
        "9bda00df8e4a41b5866086cf3fd81b61": {
          "model_module": "@jupyter-widgets/base",
          "model_name": "LayoutModel",
          "model_module_version": "1.2.0",
          "state": {
            "_view_name": "LayoutView",
            "grid_template_rows": null,
            "right": null,
            "justify_content": null,
            "_view_module": "@jupyter-widgets/base",
            "overflow": null,
            "_model_module_version": "1.2.0",
            "_view_count": null,
            "flex_flow": null,
            "width": null,
            "min_width": null,
            "border": null,
            "align_items": null,
            "bottom": null,
            "_model_module": "@jupyter-widgets/base",
            "top": null,
            "grid_column": null,
            "overflow_y": null,
            "overflow_x": null,
            "grid_auto_flow": null,
            "grid_area": null,
            "grid_template_columns": null,
            "flex": null,
            "_model_name": "LayoutModel",
            "justify_items": null,
            "grid_row": null,
            "max_height": null,
            "align_content": null,
            "visibility": null,
            "align_self": null,
            "height": null,
            "min_height": null,
            "padding": null,
            "grid_auto_rows": null,
            "grid_gap": null,
            "max_width": null,
            "order": null,
            "_view_module_version": "1.2.0",
            "grid_template_areas": null,
            "object_position": null,
            "object_fit": null,
            "grid_auto_columns": null,
            "margin": null,
            "display": null,
            "left": null
          }
        },
        "46c78abb869d43ffa883520d750a336b": {
          "model_module": "@jupyter-widgets/controls",
          "model_name": "HTMLModel",
          "model_module_version": "1.5.0",
          "state": {
            "_view_name": "HTMLView",
            "style": "IPY_MODEL_f28e482937a3468ebd7945b92ad71719",
            "_dom_classes": [],
            "description": "",
            "_model_name": "HTMLModel",
            "placeholder": "​",
            "_view_module": "@jupyter-widgets/controls",
            "_model_module_version": "1.5.0",
            "value": "100%",
            "_view_count": null,
            "_view_module_version": "1.5.0",
            "description_tooltip": null,
            "_model_module": "@jupyter-widgets/controls",
            "layout": "IPY_MODEL_4bc7cf10034144f7ac44552126d48a0a"
          }
        },
        "5b4a8c0e94a3470b82e6b8f1878947e5": {
          "model_module": "@jupyter-widgets/controls",
          "model_name": "FloatProgressModel",
          "model_module_version": "1.5.0",
          "state": {
            "_view_name": "ProgressView",
            "style": "IPY_MODEL_8f1e2b0657f641fcb1cc96fbcbc10b24",
            "_dom_classes": [],
            "description": "",
            "_model_name": "FloatProgressModel",
            "bar_style": "success",
            "max": 10,
            "_view_module": "@jupyter-widgets/controls",
            "_model_module_version": "1.5.0",
            "value": 10,
            "_view_count": null,
            "_view_module_version": "1.5.0",
            "orientation": "horizontal",
            "min": 0,
            "description_tooltip": null,
            "_model_module": "@jupyter-widgets/controls",
            "layout": "IPY_MODEL_47998f7cdf964788beb3210b4b9f8aa0"
          }
        },
        "36a86218a4b64211b64a72fc9c973724": {
          "model_module": "@jupyter-widgets/controls",
          "model_name": "HTMLModel",
          "model_module_version": "1.5.0",
          "state": {
            "_view_name": "HTMLView",
            "style": "IPY_MODEL_2b01531a4ab5425d9da54eabff130d57",
            "_dom_classes": [],
            "description": "",
            "_model_name": "HTMLModel",
            "placeholder": "​",
            "_view_module": "@jupyter-widgets/controls",
            "_model_module_version": "1.5.0",
            "value": " 10/10 [14:45&lt;00:00, 88.42s/it]",
            "_view_count": null,
            "_view_module_version": "1.5.0",
            "description_tooltip": null,
            "_model_module": "@jupyter-widgets/controls",
            "layout": "IPY_MODEL_128c61a3e57746dc9650589995e8e5f2"
          }
        },
        "f28e482937a3468ebd7945b92ad71719": {
          "model_module": "@jupyter-widgets/controls",
          "model_name": "DescriptionStyleModel",
          "model_module_version": "1.5.0",
          "state": {
            "_view_name": "StyleView",
            "_model_name": "DescriptionStyleModel",
            "description_width": "",
            "_view_module": "@jupyter-widgets/base",
            "_model_module_version": "1.5.0",
            "_view_count": null,
            "_view_module_version": "1.2.0",
            "_model_module": "@jupyter-widgets/controls"
          }
        },
        "4bc7cf10034144f7ac44552126d48a0a": {
          "model_module": "@jupyter-widgets/base",
          "model_name": "LayoutModel",
          "model_module_version": "1.2.0",
          "state": {
            "_view_name": "LayoutView",
            "grid_template_rows": null,
            "right": null,
            "justify_content": null,
            "_view_module": "@jupyter-widgets/base",
            "overflow": null,
            "_model_module_version": "1.2.0",
            "_view_count": null,
            "flex_flow": null,
            "width": null,
            "min_width": null,
            "border": null,
            "align_items": null,
            "bottom": null,
            "_model_module": "@jupyter-widgets/base",
            "top": null,
            "grid_column": null,
            "overflow_y": null,
            "overflow_x": null,
            "grid_auto_flow": null,
            "grid_area": null,
            "grid_template_columns": null,
            "flex": null,
            "_model_name": "LayoutModel",
            "justify_items": null,
            "grid_row": null,
            "max_height": null,
            "align_content": null,
            "visibility": null,
            "align_self": null,
            "height": null,
            "min_height": null,
            "padding": null,
            "grid_auto_rows": null,
            "grid_gap": null,
            "max_width": null,
            "order": null,
            "_view_module_version": "1.2.0",
            "grid_template_areas": null,
            "object_position": null,
            "object_fit": null,
            "grid_auto_columns": null,
            "margin": null,
            "display": null,
            "left": null
          }
        },
        "8f1e2b0657f641fcb1cc96fbcbc10b24": {
          "model_module": "@jupyter-widgets/controls",
          "model_name": "ProgressStyleModel",
          "model_module_version": "1.5.0",
          "state": {
            "_view_name": "StyleView",
            "_model_name": "ProgressStyleModel",
            "description_width": "",
            "_view_module": "@jupyter-widgets/base",
            "_model_module_version": "1.5.0",
            "_view_count": null,
            "_view_module_version": "1.2.0",
            "bar_color": null,
            "_model_module": "@jupyter-widgets/controls"
          }
        },
        "47998f7cdf964788beb3210b4b9f8aa0": {
          "model_module": "@jupyter-widgets/base",
          "model_name": "LayoutModel",
          "model_module_version": "1.2.0",
          "state": {
            "_view_name": "LayoutView",
            "grid_template_rows": null,
            "right": null,
            "justify_content": null,
            "_view_module": "@jupyter-widgets/base",
            "overflow": null,
            "_model_module_version": "1.2.0",
            "_view_count": null,
            "flex_flow": null,
            "width": null,
            "min_width": null,
            "border": null,
            "align_items": null,
            "bottom": null,
            "_model_module": "@jupyter-widgets/base",
            "top": null,
            "grid_column": null,
            "overflow_y": null,
            "overflow_x": null,
            "grid_auto_flow": null,
            "grid_area": null,
            "grid_template_columns": null,
            "flex": null,
            "_model_name": "LayoutModel",
            "justify_items": null,
            "grid_row": null,
            "max_height": null,
            "align_content": null,
            "visibility": null,
            "align_self": null,
            "height": null,
            "min_height": null,
            "padding": null,
            "grid_auto_rows": null,
            "grid_gap": null,
            "max_width": null,
            "order": null,
            "_view_module_version": "1.2.0",
            "grid_template_areas": null,
            "object_position": null,
            "object_fit": null,
            "grid_auto_columns": null,
            "margin": null,
            "display": null,
            "left": null
          }
        },
        "2b01531a4ab5425d9da54eabff130d57": {
          "model_module": "@jupyter-widgets/controls",
          "model_name": "DescriptionStyleModel",
          "model_module_version": "1.5.0",
          "state": {
            "_view_name": "StyleView",
            "_model_name": "DescriptionStyleModel",
            "description_width": "",
            "_view_module": "@jupyter-widgets/base",
            "_model_module_version": "1.5.0",
            "_view_count": null,
            "_view_module_version": "1.2.0",
            "_model_module": "@jupyter-widgets/controls"
          }
        },
        "128c61a3e57746dc9650589995e8e5f2": {
          "model_module": "@jupyter-widgets/base",
          "model_name": "LayoutModel",
          "model_module_version": "1.2.0",
          "state": {
            "_view_name": "LayoutView",
            "grid_template_rows": null,
            "right": null,
            "justify_content": null,
            "_view_module": "@jupyter-widgets/base",
            "overflow": null,
            "_model_module_version": "1.2.0",
            "_view_count": null,
            "flex_flow": null,
            "width": null,
            "min_width": null,
            "border": null,
            "align_items": null,
            "bottom": null,
            "_model_module": "@jupyter-widgets/base",
            "top": null,
            "grid_column": null,
            "overflow_y": null,
            "overflow_x": null,
            "grid_auto_flow": null,
            "grid_area": null,
            "grid_template_columns": null,
            "flex": null,
            "_model_name": "LayoutModel",
            "justify_items": null,
            "grid_row": null,
            "max_height": null,
            "align_content": null,
            "visibility": null,
            "align_self": null,
            "height": null,
            "min_height": null,
            "padding": null,
            "grid_auto_rows": null,
            "grid_gap": null,
            "max_width": null,
            "order": null,
            "_view_module_version": "1.2.0",
            "grid_template_areas": null,
            "object_position": null,
            "object_fit": null,
            "grid_auto_columns": null,
            "margin": null,
            "display": null,
            "left": null
          }
        },
        "39234ba64c4c477495150d4a37d75827": {
          "model_module": "@jupyter-widgets/controls",
          "model_name": "HBoxModel",
          "model_module_version": "1.5.0",
          "state": {
            "_view_name": "HBoxView",
            "_dom_classes": [],
            "_model_name": "HBoxModel",
            "_view_module": "@jupyter-widgets/controls",
            "_model_module_version": "1.5.0",
            "_view_count": null,
            "_view_module_version": "1.5.0",
            "box_style": "",
            "layout": "IPY_MODEL_9625b31c910a462eb0d4a32646c80f92",
            "_model_module": "@jupyter-widgets/controls",
            "children": [
              "IPY_MODEL_197a239b212f41768b92d0403fd92f01",
              "IPY_MODEL_10c594bb5c9d4c249a0d92698242cc12",
              "IPY_MODEL_8cb46f62d4d34c45a3889aee10966b0f"
            ]
          }
        },
        "9625b31c910a462eb0d4a32646c80f92": {
          "model_module": "@jupyter-widgets/base",
          "model_name": "LayoutModel",
          "model_module_version": "1.2.0",
          "state": {
            "_view_name": "LayoutView",
            "grid_template_rows": null,
            "right": null,
            "justify_content": null,
            "_view_module": "@jupyter-widgets/base",
            "overflow": null,
            "_model_module_version": "1.2.0",
            "_view_count": null,
            "flex_flow": null,
            "width": null,
            "min_width": null,
            "border": null,
            "align_items": null,
            "bottom": null,
            "_model_module": "@jupyter-widgets/base",
            "top": null,
            "grid_column": null,
            "overflow_y": null,
            "overflow_x": null,
            "grid_auto_flow": null,
            "grid_area": null,
            "grid_template_columns": null,
            "flex": null,
            "_model_name": "LayoutModel",
            "justify_items": null,
            "grid_row": null,
            "max_height": null,
            "align_content": null,
            "visibility": null,
            "align_self": null,
            "height": null,
            "min_height": null,
            "padding": null,
            "grid_auto_rows": null,
            "grid_gap": null,
            "max_width": null,
            "order": null,
            "_view_module_version": "1.2.0",
            "grid_template_areas": null,
            "object_position": null,
            "object_fit": null,
            "grid_auto_columns": null,
            "margin": null,
            "display": null,
            "left": null
          }
        },
        "197a239b212f41768b92d0403fd92f01": {
          "model_module": "@jupyter-widgets/controls",
          "model_name": "HTMLModel",
          "model_module_version": "1.5.0",
          "state": {
            "_view_name": "HTMLView",
            "style": "IPY_MODEL_2676a9c9ae494006a2e14ca94d732913",
            "_dom_classes": [],
            "description": "",
            "_model_name": "HTMLModel",
            "placeholder": "​",
            "_view_module": "@jupyter-widgets/controls",
            "_model_module_version": "1.5.0",
            "value": "100%",
            "_view_count": null,
            "_view_module_version": "1.5.0",
            "description_tooltip": null,
            "_model_module": "@jupyter-widgets/controls",
            "layout": "IPY_MODEL_2b7061903ea44240ad4416cb76ab0097"
          }
        },
        "10c594bb5c9d4c249a0d92698242cc12": {
          "model_module": "@jupyter-widgets/controls",
          "model_name": "FloatProgressModel",
          "model_module_version": "1.5.0",
          "state": {
            "_view_name": "ProgressView",
            "style": "IPY_MODEL_eaf48848ed604da0a2cf8f8ef003f81a",
            "_dom_classes": [],
            "description": "",
            "_model_name": "FloatProgressModel",
            "bar_style": "success",
            "max": 10,
            "_view_module": "@jupyter-widgets/controls",
            "_model_module_version": "1.5.0",
            "value": 10,
            "_view_count": null,
            "_view_module_version": "1.5.0",
            "orientation": "horizontal",
            "min": 0,
            "description_tooltip": null,
            "_model_module": "@jupyter-widgets/controls",
            "layout": "IPY_MODEL_093ba4c7ba71475bb8f86409ae2993b0"
          }
        },
        "8cb46f62d4d34c45a3889aee10966b0f": {
          "model_module": "@jupyter-widgets/controls",
          "model_name": "HTMLModel",
          "model_module_version": "1.5.0",
          "state": {
            "_view_name": "HTMLView",
            "style": "IPY_MODEL_409e1a2669fc467eb29e7f9674548016",
            "_dom_classes": [],
            "description": "",
            "_model_name": "HTMLModel",
            "placeholder": "​",
            "_view_module": "@jupyter-widgets/controls",
            "_model_module_version": "1.5.0",
            "value": " 10/10 [10:28&lt;00:00, 62.52s/it]",
            "_view_count": null,
            "_view_module_version": "1.5.0",
            "description_tooltip": null,
            "_model_module": "@jupyter-widgets/controls",
            "layout": "IPY_MODEL_9031704efa3a40d3a47dc1017a03466d"
          }
        },
        "2676a9c9ae494006a2e14ca94d732913": {
          "model_module": "@jupyter-widgets/controls",
          "model_name": "DescriptionStyleModel",
          "model_module_version": "1.5.0",
          "state": {
            "_view_name": "StyleView",
            "_model_name": "DescriptionStyleModel",
            "description_width": "",
            "_view_module": "@jupyter-widgets/base",
            "_model_module_version": "1.5.0",
            "_view_count": null,
            "_view_module_version": "1.2.0",
            "_model_module": "@jupyter-widgets/controls"
          }
        },
        "2b7061903ea44240ad4416cb76ab0097": {
          "model_module": "@jupyter-widgets/base",
          "model_name": "LayoutModel",
          "model_module_version": "1.2.0",
          "state": {
            "_view_name": "LayoutView",
            "grid_template_rows": null,
            "right": null,
            "justify_content": null,
            "_view_module": "@jupyter-widgets/base",
            "overflow": null,
            "_model_module_version": "1.2.0",
            "_view_count": null,
            "flex_flow": null,
            "width": null,
            "min_width": null,
            "border": null,
            "align_items": null,
            "bottom": null,
            "_model_module": "@jupyter-widgets/base",
            "top": null,
            "grid_column": null,
            "overflow_y": null,
            "overflow_x": null,
            "grid_auto_flow": null,
            "grid_area": null,
            "grid_template_columns": null,
            "flex": null,
            "_model_name": "LayoutModel",
            "justify_items": null,
            "grid_row": null,
            "max_height": null,
            "align_content": null,
            "visibility": null,
            "align_self": null,
            "height": null,
            "min_height": null,
            "padding": null,
            "grid_auto_rows": null,
            "grid_gap": null,
            "max_width": null,
            "order": null,
            "_view_module_version": "1.2.0",
            "grid_template_areas": null,
            "object_position": null,
            "object_fit": null,
            "grid_auto_columns": null,
            "margin": null,
            "display": null,
            "left": null
          }
        },
        "eaf48848ed604da0a2cf8f8ef003f81a": {
          "model_module": "@jupyter-widgets/controls",
          "model_name": "ProgressStyleModel",
          "model_module_version": "1.5.0",
          "state": {
            "_view_name": "StyleView",
            "_model_name": "ProgressStyleModel",
            "description_width": "",
            "_view_module": "@jupyter-widgets/base",
            "_model_module_version": "1.5.0",
            "_view_count": null,
            "_view_module_version": "1.2.0",
            "bar_color": null,
            "_model_module": "@jupyter-widgets/controls"
          }
        },
        "093ba4c7ba71475bb8f86409ae2993b0": {
          "model_module": "@jupyter-widgets/base",
          "model_name": "LayoutModel",
          "model_module_version": "1.2.0",
          "state": {
            "_view_name": "LayoutView",
            "grid_template_rows": null,
            "right": null,
            "justify_content": null,
            "_view_module": "@jupyter-widgets/base",
            "overflow": null,
            "_model_module_version": "1.2.0",
            "_view_count": null,
            "flex_flow": null,
            "width": null,
            "min_width": null,
            "border": null,
            "align_items": null,
            "bottom": null,
            "_model_module": "@jupyter-widgets/base",
            "top": null,
            "grid_column": null,
            "overflow_y": null,
            "overflow_x": null,
            "grid_auto_flow": null,
            "grid_area": null,
            "grid_template_columns": null,
            "flex": null,
            "_model_name": "LayoutModel",
            "justify_items": null,
            "grid_row": null,
            "max_height": null,
            "align_content": null,
            "visibility": null,
            "align_self": null,
            "height": null,
            "min_height": null,
            "padding": null,
            "grid_auto_rows": null,
            "grid_gap": null,
            "max_width": null,
            "order": null,
            "_view_module_version": "1.2.0",
            "grid_template_areas": null,
            "object_position": null,
            "object_fit": null,
            "grid_auto_columns": null,
            "margin": null,
            "display": null,
            "left": null
          }
        },
        "409e1a2669fc467eb29e7f9674548016": {
          "model_module": "@jupyter-widgets/controls",
          "model_name": "DescriptionStyleModel",
          "model_module_version": "1.5.0",
          "state": {
            "_view_name": "StyleView",
            "_model_name": "DescriptionStyleModel",
            "description_width": "",
            "_view_module": "@jupyter-widgets/base",
            "_model_module_version": "1.5.0",
            "_view_count": null,
            "_view_module_version": "1.2.0",
            "_model_module": "@jupyter-widgets/controls"
          }
        },
        "9031704efa3a40d3a47dc1017a03466d": {
          "model_module": "@jupyter-widgets/base",
          "model_name": "LayoutModel",
          "model_module_version": "1.2.0",
          "state": {
            "_view_name": "LayoutView",
            "grid_template_rows": null,
            "right": null,
            "justify_content": null,
            "_view_module": "@jupyter-widgets/base",
            "overflow": null,
            "_model_module_version": "1.2.0",
            "_view_count": null,
            "flex_flow": null,
            "width": null,
            "min_width": null,
            "border": null,
            "align_items": null,
            "bottom": null,
            "_model_module": "@jupyter-widgets/base",
            "top": null,
            "grid_column": null,
            "overflow_y": null,
            "overflow_x": null,
            "grid_auto_flow": null,
            "grid_area": null,
            "grid_template_columns": null,
            "flex": null,
            "_model_name": "LayoutModel",
            "justify_items": null,
            "grid_row": null,
            "max_height": null,
            "align_content": null,
            "visibility": null,
            "align_self": null,
            "height": null,
            "min_height": null,
            "padding": null,
            "grid_auto_rows": null,
            "grid_gap": null,
            "max_width": null,
            "order": null,
            "_view_module_version": "1.2.0",
            "grid_template_areas": null,
            "object_position": null,
            "object_fit": null,
            "grid_auto_columns": null,
            "margin": null,
            "display": null,
            "left": null
          }
        }
      }
    },
    "accelerator": "GPU"
  },
  "cells": [
    {
      "cell_type": "markdown",
      "metadata": {
        "id": "view-in-github",
        "colab_type": "text"
      },
      "source": [
        "<a href=\"https://colab.research.google.com/github/ddrodionova/NNMethods_4th_year/blob/main/NNMethods_HW3.ipynb\" target=\"_parent\"><img src=\"https://colab.research.google.com/assets/colab-badge.svg\" alt=\"Open In Colab\"/></a>"
      ]
    },
    {
      "cell_type": "markdown",
      "source": [
        "# Neural Networks in NLP HW 3"
      ],
      "metadata": {
        "id": "liw6UZckHO5O"
      }
    },
    {
      "cell_type": "markdown",
      "source": [
        "## Дарья Родионова БКЛ182"
      ],
      "metadata": {
        "id": "EspOtETVHWFG"
      }
    },
    {
      "cell_type": "markdown",
      "source": [
        "Импортируем нужные модули."
      ],
      "metadata": {
        "id": "swu_fnBbHeIu"
      }
    },
    {
      "cell_type": "code",
      "source": [
        "!pip install --quiet torchmetrics"
      ],
      "metadata": {
        "colab": {
          "base_uri": "https://localhost:8080/"
        },
        "id": "eff5Ew7FdBTS",
        "outputId": "296efbe5-5530-46df-9cb6-adc63717642a"
      },
      "execution_count": 1,
      "outputs": [
        {
          "output_type": "stream",
          "name": "stdout",
          "text": [
            "\u001b[?25l\r\u001b[K     |█                               | 10 kB 16.3 MB/s eta 0:00:01\r\u001b[K     |██                              | 20 kB 18.1 MB/s eta 0:00:01\r\u001b[K     |███                             | 30 kB 20.5 MB/s eta 0:00:01\r\u001b[K     |████                            | 40 kB 21.5 MB/s eta 0:00:01\r\u001b[K     |█████                           | 51 kB 10.3 MB/s eta 0:00:01\r\u001b[K     |██████                          | 61 kB 9.3 MB/s eta 0:00:01\r\u001b[K     |███████                         | 71 kB 5.8 MB/s eta 0:00:01\r\u001b[K     |███████▉                        | 81 kB 6.4 MB/s eta 0:00:01\r\u001b[K     |████████▉                       | 92 kB 6.5 MB/s eta 0:00:01\r\u001b[K     |█████████▉                      | 102 kB 7.1 MB/s eta 0:00:01\r\u001b[K     |██████████▉                     | 112 kB 7.1 MB/s eta 0:00:01\r\u001b[K     |███████████▉                    | 122 kB 7.1 MB/s eta 0:00:01\r\u001b[K     |████████████▉                   | 133 kB 7.1 MB/s eta 0:00:01\r\u001b[K     |█████████████▉                  | 143 kB 7.1 MB/s eta 0:00:01\r\u001b[K     |██████████████▉                 | 153 kB 7.1 MB/s eta 0:00:01\r\u001b[K     |███████████████▊                | 163 kB 7.1 MB/s eta 0:00:01\r\u001b[K     |████████████████▊               | 174 kB 7.1 MB/s eta 0:00:01\r\u001b[K     |█████████████████▊              | 184 kB 7.1 MB/s eta 0:00:01\r\u001b[K     |██████████████████▊             | 194 kB 7.1 MB/s eta 0:00:01\r\u001b[K     |███████████████████▊            | 204 kB 7.1 MB/s eta 0:00:01\r\u001b[K     |████████████████████▊           | 215 kB 7.1 MB/s eta 0:00:01\r\u001b[K     |█████████████████████▊          | 225 kB 7.1 MB/s eta 0:00:01\r\u001b[K     |██████████████████████▋         | 235 kB 7.1 MB/s eta 0:00:01\r\u001b[K     |███████████████████████▋        | 245 kB 7.1 MB/s eta 0:00:01\r\u001b[K     |████████████████████████▋       | 256 kB 7.1 MB/s eta 0:00:01\r\u001b[K     |█████████████████████████▋      | 266 kB 7.1 MB/s eta 0:00:01\r\u001b[K     |██████████████████████████▋     | 276 kB 7.1 MB/s eta 0:00:01\r\u001b[K     |███████████████████████████▋    | 286 kB 7.1 MB/s eta 0:00:01\r\u001b[K     |████████████████████████████▋   | 296 kB 7.1 MB/s eta 0:00:01\r\u001b[K     |█████████████████████████████▋  | 307 kB 7.1 MB/s eta 0:00:01\r\u001b[K     |██████████████████████████████▌ | 317 kB 7.1 MB/s eta 0:00:01\r\u001b[K     |███████████████████████████████▌| 327 kB 7.1 MB/s eta 0:00:01\r\u001b[K     |████████████████████████████████| 332 kB 7.1 MB/s \n",
            "\u001b[?25h"
          ]
        }
      ]
    },
    {
      "cell_type": "code",
      "source": [
        "import pandas as pd\n",
        "import numpy as np\n",
        "from tqdm.auto import tqdm\n",
        "import nltk\n",
        "from nltk import word_tokenize\n",
        "\n",
        "\n",
        "nltk.download('punkt')\n",
        "\n",
        "\n",
        "from matplotlib import pyplot as plt\n",
        "%matplotlib inline\n",
        "%pylab inline\n",
        "import seaborn as sns\n",
        "\n",
        "\n",
        "from collections import Counter\n",
        "\n",
        "\n",
        "from sklearn.model_selection import train_test_split\n",
        "\n",
        "\n",
        "import torch\n",
        "import torch.nn as nn\n",
        "import torch.nn.functional as F\n",
        "from torchmetrics.functional import f1\n",
        "from torch.nn.utils.rnn import pad_sequence\n",
        "from torch.utils.data import Dataset, DataLoader, RandomSampler, SequentialSampler\n",
        "import torch.optim as optim\n",
        "from torch.autograd import Variable"
      ],
      "metadata": {
        "colab": {
          "base_uri": "https://localhost:8080/"
        },
        "id": "c2dh8FcUHaOV",
        "outputId": "468bcf1e-eb5f-4d41-eeb7-363a4d2e489b"
      },
      "execution_count": 53,
      "outputs": [
        {
          "output_type": "stream",
          "name": "stdout",
          "text": [
            "[nltk_data] Downloading package punkt to /root/nltk_data...\n",
            "[nltk_data]   Package punkt is already up-to-date!\n",
            "Populating the interactive namespace from numpy and matplotlib\n"
          ]
        },
        {
          "output_type": "stream",
          "name": "stderr",
          "text": [
            "/usr/local/lib/python3.7/dist-packages/IPython/core/magics/pylab.py:161: UserWarning: pylab import has clobbered these variables: ['text']\n",
            "`%matplotlib` prevents importing * from pylab and numpy\n",
            "  \"\\n`%matplotlib` prevents importing * from pylab and numpy\"\n"
          ]
        }
      ]
    },
    {
      "cell_type": "code",
      "source": [
        "data = pd.read_csv('Fake.csv')\n",
        "data"
      ],
      "metadata": {
        "colab": {
          "base_uri": "https://localhost:8080/",
          "height": 419
        },
        "id": "5Rj_lgp3Kq8s",
        "outputId": "2afa4ef3-dfd7-4681-9614-a2a543b626ec"
      },
      "execution_count": 4,
      "outputs": [
        {
          "output_type": "execute_result",
          "data": {
            "text/html": [
              "\n",
              "  <div id=\"df-49b7c3f0-5d04-46d0-a4b6-2d8d0a3374a0\">\n",
              "    <div class=\"colab-df-container\">\n",
              "      <div>\n",
              "<style scoped>\n",
              "    .dataframe tbody tr th:only-of-type {\n",
              "        vertical-align: middle;\n",
              "    }\n",
              "\n",
              "    .dataframe tbody tr th {\n",
              "        vertical-align: top;\n",
              "    }\n",
              "\n",
              "    .dataframe thead th {\n",
              "        text-align: right;\n",
              "    }\n",
              "</style>\n",
              "<table border=\"1\" class=\"dataframe\">\n",
              "  <thead>\n",
              "    <tr style=\"text-align: right;\">\n",
              "      <th></th>\n",
              "      <th>title</th>\n",
              "      <th>text</th>\n",
              "      <th>subject</th>\n",
              "      <th>date</th>\n",
              "    </tr>\n",
              "  </thead>\n",
              "  <tbody>\n",
              "    <tr>\n",
              "      <th>0</th>\n",
              "      <td>Donald Trump Sends Out Embarrassing New Year’...</td>\n",
              "      <td>Donald Trump just couldn t wish all Americans ...</td>\n",
              "      <td>News</td>\n",
              "      <td>December 31, 2017</td>\n",
              "    </tr>\n",
              "    <tr>\n",
              "      <th>1</th>\n",
              "      <td>Drunk Bragging Trump Staffer Started Russian ...</td>\n",
              "      <td>House Intelligence Committee Chairman Devin Nu...</td>\n",
              "      <td>News</td>\n",
              "      <td>December 31, 2017</td>\n",
              "    </tr>\n",
              "    <tr>\n",
              "      <th>2</th>\n",
              "      <td>Sheriff David Clarke Becomes An Internet Joke...</td>\n",
              "      <td>On Friday, it was revealed that former Milwauk...</td>\n",
              "      <td>News</td>\n",
              "      <td>December 30, 2017</td>\n",
              "    </tr>\n",
              "    <tr>\n",
              "      <th>3</th>\n",
              "      <td>Trump Is So Obsessed He Even Has Obama’s Name...</td>\n",
              "      <td>On Christmas day, Donald Trump announced that ...</td>\n",
              "      <td>News</td>\n",
              "      <td>December 29, 2017</td>\n",
              "    </tr>\n",
              "    <tr>\n",
              "      <th>4</th>\n",
              "      <td>Pope Francis Just Called Out Donald Trump Dur...</td>\n",
              "      <td>Pope Francis used his annual Christmas Day mes...</td>\n",
              "      <td>News</td>\n",
              "      <td>December 25, 2017</td>\n",
              "    </tr>\n",
              "    <tr>\n",
              "      <th>...</th>\n",
              "      <td>...</td>\n",
              "      <td>...</td>\n",
              "      <td>...</td>\n",
              "      <td>...</td>\n",
              "    </tr>\n",
              "    <tr>\n",
              "      <th>23476</th>\n",
              "      <td>McPain: John McCain Furious That Iran Treated ...</td>\n",
              "      <td>21st Century Wire says As 21WIRE reported earl...</td>\n",
              "      <td>Middle-east</td>\n",
              "      <td>January 16, 2016</td>\n",
              "    </tr>\n",
              "    <tr>\n",
              "      <th>23477</th>\n",
              "      <td>JUSTICE? Yahoo Settles E-mail Privacy Class-ac...</td>\n",
              "      <td>21st Century Wire says It s a familiar theme. ...</td>\n",
              "      <td>Middle-east</td>\n",
              "      <td>January 16, 2016</td>\n",
              "    </tr>\n",
              "    <tr>\n",
              "      <th>23478</th>\n",
              "      <td>Sunnistan: US and Allied ‘Safe Zone’ Plan to T...</td>\n",
              "      <td>Patrick Henningsen  21st Century WireRemember ...</td>\n",
              "      <td>Middle-east</td>\n",
              "      <td>January 15, 2016</td>\n",
              "    </tr>\n",
              "    <tr>\n",
              "      <th>23479</th>\n",
              "      <td>How to Blow $700 Million: Al Jazeera America F...</td>\n",
              "      <td>21st Century Wire says Al Jazeera America will...</td>\n",
              "      <td>Middle-east</td>\n",
              "      <td>January 14, 2016</td>\n",
              "    </tr>\n",
              "    <tr>\n",
              "      <th>23480</th>\n",
              "      <td>10 U.S. Navy Sailors Held by Iranian Military ...</td>\n",
              "      <td>21st Century Wire says As 21WIRE predicted in ...</td>\n",
              "      <td>Middle-east</td>\n",
              "      <td>January 12, 2016</td>\n",
              "    </tr>\n",
              "  </tbody>\n",
              "</table>\n",
              "<p>23481 rows × 4 columns</p>\n",
              "</div>\n",
              "      <button class=\"colab-df-convert\" onclick=\"convertToInteractive('df-49b7c3f0-5d04-46d0-a4b6-2d8d0a3374a0')\"\n",
              "              title=\"Convert this dataframe to an interactive table.\"\n",
              "              style=\"display:none;\">\n",
              "        \n",
              "  <svg xmlns=\"http://www.w3.org/2000/svg\" height=\"24px\"viewBox=\"0 0 24 24\"\n",
              "       width=\"24px\">\n",
              "    <path d=\"M0 0h24v24H0V0z\" fill=\"none\"/>\n",
              "    <path d=\"M18.56 5.44l.94 2.06.94-2.06 2.06-.94-2.06-.94-.94-2.06-.94 2.06-2.06.94zm-11 1L8.5 8.5l.94-2.06 2.06-.94-2.06-.94L8.5 2.5l-.94 2.06-2.06.94zm10 10l.94 2.06.94-2.06 2.06-.94-2.06-.94-.94-2.06-.94 2.06-2.06.94z\"/><path d=\"M17.41 7.96l-1.37-1.37c-.4-.4-.92-.59-1.43-.59-.52 0-1.04.2-1.43.59L10.3 9.45l-7.72 7.72c-.78.78-.78 2.05 0 2.83L4 21.41c.39.39.9.59 1.41.59.51 0 1.02-.2 1.41-.59l7.78-7.78 2.81-2.81c.8-.78.8-2.07 0-2.86zM5.41 20L4 18.59l7.72-7.72 1.47 1.35L5.41 20z\"/>\n",
              "  </svg>\n",
              "      </button>\n",
              "      \n",
              "  <style>\n",
              "    .colab-df-container {\n",
              "      display:flex;\n",
              "      flex-wrap:wrap;\n",
              "      gap: 12px;\n",
              "    }\n",
              "\n",
              "    .colab-df-convert {\n",
              "      background-color: #E8F0FE;\n",
              "      border: none;\n",
              "      border-radius: 50%;\n",
              "      cursor: pointer;\n",
              "      display: none;\n",
              "      fill: #1967D2;\n",
              "      height: 32px;\n",
              "      padding: 0 0 0 0;\n",
              "      width: 32px;\n",
              "    }\n",
              "\n",
              "    .colab-df-convert:hover {\n",
              "      background-color: #E2EBFA;\n",
              "      box-shadow: 0px 1px 2px rgba(60, 64, 67, 0.3), 0px 1px 3px 1px rgba(60, 64, 67, 0.15);\n",
              "      fill: #174EA6;\n",
              "    }\n",
              "\n",
              "    [theme=dark] .colab-df-convert {\n",
              "      background-color: #3B4455;\n",
              "      fill: #D2E3FC;\n",
              "    }\n",
              "\n",
              "    [theme=dark] .colab-df-convert:hover {\n",
              "      background-color: #434B5C;\n",
              "      box-shadow: 0px 1px 3px 1px rgba(0, 0, 0, 0.15);\n",
              "      filter: drop-shadow(0px 1px 2px rgba(0, 0, 0, 0.3));\n",
              "      fill: #FFFFFF;\n",
              "    }\n",
              "  </style>\n",
              "\n",
              "      <script>\n",
              "        const buttonEl =\n",
              "          document.querySelector('#df-49b7c3f0-5d04-46d0-a4b6-2d8d0a3374a0 button.colab-df-convert');\n",
              "        buttonEl.style.display =\n",
              "          google.colab.kernel.accessAllowed ? 'block' : 'none';\n",
              "\n",
              "        async function convertToInteractive(key) {\n",
              "          const element = document.querySelector('#df-49b7c3f0-5d04-46d0-a4b6-2d8d0a3374a0');\n",
              "          const dataTable =\n",
              "            await google.colab.kernel.invokeFunction('convertToInteractive',\n",
              "                                                     [key], {});\n",
              "          if (!dataTable) return;\n",
              "\n",
              "          const docLinkHtml = 'Like what you see? Visit the ' +\n",
              "            '<a target=\"_blank\" href=https://colab.research.google.com/notebooks/data_table.ipynb>data table notebook</a>'\n",
              "            + ' to learn more about interactive tables.';\n",
              "          element.innerHTML = '';\n",
              "          dataTable['output_type'] = 'display_data';\n",
              "          await google.colab.output.renderOutput(dataTable, element);\n",
              "          const docLink = document.createElement('div');\n",
              "          docLink.innerHTML = docLinkHtml;\n",
              "          element.appendChild(docLink);\n",
              "        }\n",
              "      </script>\n",
              "    </div>\n",
              "  </div>\n",
              "  "
            ],
            "text/plain": [
              "                                                   title  ...               date\n",
              "0       Donald Trump Sends Out Embarrassing New Year’...  ...  December 31, 2017\n",
              "1       Drunk Bragging Trump Staffer Started Russian ...  ...  December 31, 2017\n",
              "2       Sheriff David Clarke Becomes An Internet Joke...  ...  December 30, 2017\n",
              "3       Trump Is So Obsessed He Even Has Obama’s Name...  ...  December 29, 2017\n",
              "4       Pope Francis Just Called Out Donald Trump Dur...  ...  December 25, 2017\n",
              "...                                                  ...  ...                ...\n",
              "23476  McPain: John McCain Furious That Iran Treated ...  ...   January 16, 2016\n",
              "23477  JUSTICE? Yahoo Settles E-mail Privacy Class-ac...  ...   January 16, 2016\n",
              "23478  Sunnistan: US and Allied ‘Safe Zone’ Plan to T...  ...   January 15, 2016\n",
              "23479  How to Blow $700 Million: Al Jazeera America F...  ...   January 14, 2016\n",
              "23480  10 U.S. Navy Sailors Held by Iranian Military ...  ...   January 12, 2016\n",
              "\n",
              "[23481 rows x 4 columns]"
            ]
          },
          "metadata": {},
          "execution_count": 4
        }
      ]
    },
    {
      "cell_type": "code",
      "source": [
        "data.drop(columns=['date'], inplace=True)"
      ],
      "metadata": {
        "id": "5prKioI1TKa3"
      },
      "execution_count": 5,
      "outputs": []
    },
    {
      "cell_type": "markdown",
      "source": [
        "### Preprocessing"
      ],
      "metadata": {
        "id": "NlXp-RfDnM1_"
      }
    },
    {
      "cell_type": "markdown",
      "source": [
        "Чистим данные перед обучением модели."
      ],
      "metadata": {
        "id": "fXx6ukz6nPTI"
      }
    },
    {
      "cell_type": "code",
      "source": [
        "def preprocess(text):\n",
        "    return ' '.join(word_tokenize(text.lower()))"
      ],
      "metadata": {
        "id": "KvuOzcDuNrcD"
      },
      "execution_count": 6,
      "outputs": []
    },
    {
      "cell_type": "code",
      "source": [
        "data['clean_data'] = data['text'].apply(lambda x: preprocess(x))"
      ],
      "metadata": {
        "id": "TikrSxP0N2UE"
      },
      "execution_count": 7,
      "outputs": []
    },
    {
      "cell_type": "code",
      "source": [
        "data['target'] = data.subject.astype('category').cat.codes\n",
        "data.head()"
      ],
      "metadata": {
        "colab": {
          "base_uri": "https://localhost:8080/",
          "height": 204
        },
        "id": "_PajMwikOH46",
        "outputId": "51c5aa5a-965f-4367-81b1-939f49186f4b"
      },
      "execution_count": 8,
      "outputs": [
        {
          "output_type": "execute_result",
          "data": {
            "text/html": [
              "\n",
              "  <div id=\"df-b013d687-2700-4da8-9c74-09ad559d5b76\">\n",
              "    <div class=\"colab-df-container\">\n",
              "      <div>\n",
              "<style scoped>\n",
              "    .dataframe tbody tr th:only-of-type {\n",
              "        vertical-align: middle;\n",
              "    }\n",
              "\n",
              "    .dataframe tbody tr th {\n",
              "        vertical-align: top;\n",
              "    }\n",
              "\n",
              "    .dataframe thead th {\n",
              "        text-align: right;\n",
              "    }\n",
              "</style>\n",
              "<table border=\"1\" class=\"dataframe\">\n",
              "  <thead>\n",
              "    <tr style=\"text-align: right;\">\n",
              "      <th></th>\n",
              "      <th>title</th>\n",
              "      <th>text</th>\n",
              "      <th>subject</th>\n",
              "      <th>clean_data</th>\n",
              "      <th>target</th>\n",
              "    </tr>\n",
              "  </thead>\n",
              "  <tbody>\n",
              "    <tr>\n",
              "      <th>0</th>\n",
              "      <td>Donald Trump Sends Out Embarrassing New Year’...</td>\n",
              "      <td>Donald Trump just couldn t wish all Americans ...</td>\n",
              "      <td>News</td>\n",
              "      <td>donald trump just couldn t wish all americans ...</td>\n",
              "      <td>2</td>\n",
              "    </tr>\n",
              "    <tr>\n",
              "      <th>1</th>\n",
              "      <td>Drunk Bragging Trump Staffer Started Russian ...</td>\n",
              "      <td>House Intelligence Committee Chairman Devin Nu...</td>\n",
              "      <td>News</td>\n",
              "      <td>house intelligence committee chairman devin nu...</td>\n",
              "      <td>2</td>\n",
              "    </tr>\n",
              "    <tr>\n",
              "      <th>2</th>\n",
              "      <td>Sheriff David Clarke Becomes An Internet Joke...</td>\n",
              "      <td>On Friday, it was revealed that former Milwauk...</td>\n",
              "      <td>News</td>\n",
              "      <td>on friday , it was revealed that former milwau...</td>\n",
              "      <td>2</td>\n",
              "    </tr>\n",
              "    <tr>\n",
              "      <th>3</th>\n",
              "      <td>Trump Is So Obsessed He Even Has Obama’s Name...</td>\n",
              "      <td>On Christmas day, Donald Trump announced that ...</td>\n",
              "      <td>News</td>\n",
              "      <td>on christmas day , donald trump announced that...</td>\n",
              "      <td>2</td>\n",
              "    </tr>\n",
              "    <tr>\n",
              "      <th>4</th>\n",
              "      <td>Pope Francis Just Called Out Donald Trump Dur...</td>\n",
              "      <td>Pope Francis used his annual Christmas Day mes...</td>\n",
              "      <td>News</td>\n",
              "      <td>pope francis used his annual christmas day mes...</td>\n",
              "      <td>2</td>\n",
              "    </tr>\n",
              "  </tbody>\n",
              "</table>\n",
              "</div>\n",
              "      <button class=\"colab-df-convert\" onclick=\"convertToInteractive('df-b013d687-2700-4da8-9c74-09ad559d5b76')\"\n",
              "              title=\"Convert this dataframe to an interactive table.\"\n",
              "              style=\"display:none;\">\n",
              "        \n",
              "  <svg xmlns=\"http://www.w3.org/2000/svg\" height=\"24px\"viewBox=\"0 0 24 24\"\n",
              "       width=\"24px\">\n",
              "    <path d=\"M0 0h24v24H0V0z\" fill=\"none\"/>\n",
              "    <path d=\"M18.56 5.44l.94 2.06.94-2.06 2.06-.94-2.06-.94-.94-2.06-.94 2.06-2.06.94zm-11 1L8.5 8.5l.94-2.06 2.06-.94-2.06-.94L8.5 2.5l-.94 2.06-2.06.94zm10 10l.94 2.06.94-2.06 2.06-.94-2.06-.94-.94-2.06-.94 2.06-2.06.94z\"/><path d=\"M17.41 7.96l-1.37-1.37c-.4-.4-.92-.59-1.43-.59-.52 0-1.04.2-1.43.59L10.3 9.45l-7.72 7.72c-.78.78-.78 2.05 0 2.83L4 21.41c.39.39.9.59 1.41.59.51 0 1.02-.2 1.41-.59l7.78-7.78 2.81-2.81c.8-.78.8-2.07 0-2.86zM5.41 20L4 18.59l7.72-7.72 1.47 1.35L5.41 20z\"/>\n",
              "  </svg>\n",
              "      </button>\n",
              "      \n",
              "  <style>\n",
              "    .colab-df-container {\n",
              "      display:flex;\n",
              "      flex-wrap:wrap;\n",
              "      gap: 12px;\n",
              "    }\n",
              "\n",
              "    .colab-df-convert {\n",
              "      background-color: #E8F0FE;\n",
              "      border: none;\n",
              "      border-radius: 50%;\n",
              "      cursor: pointer;\n",
              "      display: none;\n",
              "      fill: #1967D2;\n",
              "      height: 32px;\n",
              "      padding: 0 0 0 0;\n",
              "      width: 32px;\n",
              "    }\n",
              "\n",
              "    .colab-df-convert:hover {\n",
              "      background-color: #E2EBFA;\n",
              "      box-shadow: 0px 1px 2px rgba(60, 64, 67, 0.3), 0px 1px 3px 1px rgba(60, 64, 67, 0.15);\n",
              "      fill: #174EA6;\n",
              "    }\n",
              "\n",
              "    [theme=dark] .colab-df-convert {\n",
              "      background-color: #3B4455;\n",
              "      fill: #D2E3FC;\n",
              "    }\n",
              "\n",
              "    [theme=dark] .colab-df-convert:hover {\n",
              "      background-color: #434B5C;\n",
              "      box-shadow: 0px 1px 3px 1px rgba(0, 0, 0, 0.15);\n",
              "      filter: drop-shadow(0px 1px 2px rgba(0, 0, 0, 0.3));\n",
              "      fill: #FFFFFF;\n",
              "    }\n",
              "  </style>\n",
              "\n",
              "      <script>\n",
              "        const buttonEl =\n",
              "          document.querySelector('#df-b013d687-2700-4da8-9c74-09ad559d5b76 button.colab-df-convert');\n",
              "        buttonEl.style.display =\n",
              "          google.colab.kernel.accessAllowed ? 'block' : 'none';\n",
              "\n",
              "        async function convertToInteractive(key) {\n",
              "          const element = document.querySelector('#df-b013d687-2700-4da8-9c74-09ad559d5b76');\n",
              "          const dataTable =\n",
              "            await google.colab.kernel.invokeFunction('convertToInteractive',\n",
              "                                                     [key], {});\n",
              "          if (!dataTable) return;\n",
              "\n",
              "          const docLinkHtml = 'Like what you see? Visit the ' +\n",
              "            '<a target=\"_blank\" href=https://colab.research.google.com/notebooks/data_table.ipynb>data table notebook</a>'\n",
              "            + ' to learn more about interactive tables.';\n",
              "          element.innerHTML = '';\n",
              "          dataTable['output_type'] = 'display_data';\n",
              "          await google.colab.output.renderOutput(dataTable, element);\n",
              "          const docLink = document.createElement('div');\n",
              "          docLink.innerHTML = docLinkHtml;\n",
              "          element.appendChild(docLink);\n",
              "        }\n",
              "      </script>\n",
              "    </div>\n",
              "  </div>\n",
              "  "
            ],
            "text/plain": [
              "                                               title  ... target\n",
              "0   Donald Trump Sends Out Embarrassing New Year’...  ...      2\n",
              "1   Drunk Bragging Trump Staffer Started Russian ...  ...      2\n",
              "2   Sheriff David Clarke Becomes An Internet Joke...  ...      2\n",
              "3   Trump Is So Obsessed He Even Has Obama’s Name...  ...      2\n",
              "4   Pope Francis Just Called Out Donald Trump Dur...  ...      2\n",
              "\n",
              "[5 rows x 5 columns]"
            ]
          },
          "metadata": {},
          "execution_count": 8
        }
      ]
    },
    {
      "cell_type": "code",
      "source": [
        "data['target'].unique()"
      ],
      "metadata": {
        "colab": {
          "base_uri": "https://localhost:8080/"
        },
        "id": "25F61UZ-O7zX",
        "outputId": "7fab8726-1b9c-44a0-f973-724a0373bcac"
      },
      "execution_count": 9,
      "outputs": [
        {
          "output_type": "execute_result",
          "data": {
            "text/plain": [
              "array([2, 5, 0, 4, 3, 1], dtype=int8)"
            ]
          },
          "metadata": {},
          "execution_count": 9
        }
      ]
    },
    {
      "cell_type": "markdown",
      "source": [
        "Посмотрим на дистрибуцию классов. "
      ],
      "metadata": {
        "id": "F5KlaDrWnsCs"
      }
    },
    {
      "cell_type": "code",
      "source": [
        "sns.set_theme(style='whitegrid')\n",
        "\n",
        "\n",
        "plt.figure(figsize=(10, 9))\n",
        "plt.title('Distribution of classes')\n",
        "sns.countplot(x='target', data=data, color='r')\n",
        "plt.show()"
      ],
      "metadata": {
        "colab": {
          "base_uri": "https://localhost:8080/",
          "height": 573
        },
        "id": "e8suhHp5OeJe",
        "outputId": "da209e33-7ee6-4ee6-8ac0-06c602c6d3a5"
      },
      "execution_count": 10,
      "outputs": [
        {
          "output_type": "display_data",
          "data": {
            "image/png": "[encoded data removed]",
            "text/plain": [
              "<Figure size 720x648 with 1 Axes>"
            ]
          },
          "metadata": {}
        }
      ]
    },
    {
      "cell_type": "code",
      "source": [
        "vocab = Counter()\n",
        "\n",
        "\n",
        "for text in tqdm(data.clean_data):\n",
        "    vocab.update(text.split())\n",
        "print('Всего уникальных токенов: ', len(vocab))"
      ],
      "metadata": {
        "colab": {
          "base_uri": "https://localhost:8080/",
          "height": 66,
          "referenced_widgets": [
            "dc04325c21ce42c3befb2e1d9494667a",
            "984e2e02f02a4711a81bc7b1bc782d42",
            "43e3beaa6e39420d94e395e27978c2b2",
            "a2e76c3622b746748988667633fe3821",
            "2f710c54493c4b75a0b5119fd2705f13",
            "1be072da9ffb4f1d8674b8cbeec139d9",
            "cff34d80e800497a9caec1106135ed30",
            "fe10367ecf9f4e96ae32c73e68c6b424",
            "8d0cc8577fcb483d8e8f2ed4478c27af",
            "427a283b217f4ff68d3b8dc87714cacc",
            "1ff6c073ad3a461daa49bbc8de9a0539"
          ]
        },
        "id": "rbkzHWdOPaSy",
        "outputId": "8d233f99-4fc6-4085-92e1-88f2a3d26486"
      },
      "execution_count": 11,
      "outputs": [
        {
          "output_type": "display_data",
          "data": {
            "application/vnd.jupyter.widget-view+json": {
              "model_id": "dc04325c21ce42c3befb2e1d9494667a",
              "version_minor": 0,
              "version_major": 2
            },
            "text/plain": [
              "  0%|          | 0/23481 [00:00<?, ?it/s]"
            ]
          },
          "metadata": {}
        },
        {
          "output_type": "stream",
          "name": "stdout",
          "text": [
            "Всего уникальных токенов:  181384\n"
          ]
        }
      ]
    },
    {
      "cell_type": "code",
      "source": [
        "filtered_vocab = set()\n",
        "\n",
        "\n",
        "for word in vocab:\n",
        "    if vocab[word] > 3:\n",
        "        filtered_vocab.add(word)\n",
        "print('Уникальных символов, втретившихся больше 3 раз: ', len(filtered_vocab))"
      ],
      "metadata": {
        "colab": {
          "base_uri": "https://localhost:8080/"
        },
        "id": "Rn05Nq5dQDMR",
        "outputId": "d1e4c9de-7ebd-4319-e62e-8e7b1d6b66f5"
      },
      "execution_count": 12,
      "outputs": [
        {
          "output_type": "stream",
          "name": "stdout",
          "text": [
            "Уникальных символов, втретившихся больше 3 раз:  48324\n"
          ]
        }
      ]
    },
    {
      "cell_type": "code",
      "source": [
        "word2id = {'UNK':0}\n",
        "\n",
        "\n",
        "for word in filtered_vocab:\n",
        "    word2id[word] = len(word2id)"
      ],
      "metadata": {
        "id": "o-nHbL-nQ1Cb"
      },
      "execution_count": 13,
      "outputs": []
    },
    {
      "cell_type": "markdown",
      "source": [
        "Сплитим данные."
      ],
      "metadata": {
        "id": "GO4KjPiznuaC"
      }
    },
    {
      "cell_type": "code",
      "source": [
        "train_data, test_data = train_test_split(data, test_size=0.2, shuffle=True, \n",
        "                                         random_state=42)"
      ],
      "metadata": {
        "id": "Ah8tmU5MUKsT"
      },
      "execution_count": 14,
      "outputs": []
    },
    {
      "cell_type": "code",
      "source": [
        "DEVICE = torch.device('cuda') if torch.cuda.is_available() else torch.device('cpu')\n",
        "DEVICE"
      ],
      "metadata": {
        "colab": {
          "base_uri": "https://localhost:8080/"
        },
        "id": "jV2t7j7aW0ly",
        "outputId": "d4a83419-28d3-4322-f857-e0ccb330d065"
      },
      "execution_count": 15,
      "outputs": [
        {
          "output_type": "execute_result",
          "data": {
            "text/plain": [
              "device(type='cuda')"
            ]
          },
          "metadata": {},
          "execution_count": 15
        }
      ]
    },
    {
      "cell_type": "markdown",
      "source": [
        "### Dataset"
      ],
      "metadata": {
        "id": "699qKvzen8s6"
      }
    },
    {
      "cell_type": "code",
      "source": [
        "class MyDataSet(Dataset):\n",
        "\n",
        "    def __init__(self, dataset, word2id, DEVICE, max_len):\n",
        "        self.dataset = dataset['clean_data'].values\n",
        "        self.word2id = word2id\n",
        "        self.length = dataset.shape[0]\n",
        "        self.device = DEVICE\n",
        "        self.max_len = MAX_LEN\n",
        "        self.target = torch.Tensor(dataset['target'].values)\n",
        "    \n",
        "    def __len__(self):\n",
        "        return self.length\n",
        "\n",
        "    def __getitem__(self, index): \n",
        "        words = self.dataset[index].split()\n",
        "        ids = torch.LongTensor([self.word2id[word] if word in self.word2id \n",
        "                                else self.word2id['UNK'] for \n",
        "                                word in words][:self.max_len])\n",
        "        y = [self.target[index]]\n",
        "        return ids, y\n",
        "\n",
        "    def collate_fn(self, batch):\n",
        "      ids, y = list(zip(*batch))\n",
        "      padded_ids = torch.vstack([F.pad(\n",
        "          seq, pad=(0, self.max_len - seq.shape[0]), mode='constant', \n",
        "          value=0) for seq in ids])\n",
        "      padded_ids = pad_sequence(ids, batch_first=True).to(self.device)\n",
        "      y = torch.LongTensor(y).to(self.device)\n",
        "      return padded_ids, y.T[0]"
      ],
      "metadata": {
        "id": "hMSmq4zSUljL"
      },
      "execution_count": 16,
      "outputs": []
    },
    {
      "cell_type": "code",
      "source": [
        "MAX_LEN = max(train_data['clean_data'].str.split().apply(len))\n",
        "MAX_LEN"
      ],
      "metadata": {
        "colab": {
          "base_uri": "https://localhost:8080/"
        },
        "id": "MNvRasmKXwoT",
        "outputId": "4de706bf-fc37-405a-b019-1a4802a49131"
      },
      "execution_count": 17,
      "outputs": [
        {
          "output_type": "execute_result",
          "data": {
            "text/plain": [
              "9938"
            ]
          },
          "metadata": {},
          "execution_count": 17
        }
      ]
    },
    {
      "cell_type": "markdown",
      "source": [
        "Увы, экспрерименты показали, что это очень много для Google Colab, поэтому установим длину вручную."
      ],
      "metadata": {
        "id": "1EHl-dVBoLky"
      }
    },
    {
      "cell_type": "code",
      "source": [
        "MAX_LEN = 500"
      ],
      "metadata": {
        "id": "bqJO72VeX4sb"
      },
      "execution_count": 18,
      "outputs": []
    },
    {
      "cell_type": "code",
      "source": [
        "train_dataset = MyDataSet(train_data, word2id, DEVICE, MAX_LEN)\n",
        "train_sampler = RandomSampler(train_dataset)\n",
        "train_iterator = DataLoader(train_dataset, collate_fn = train_dataset.collate_fn, sampler=train_sampler, batch_size=128)"
      ],
      "metadata": {
        "id": "Fz7hLEseXbvF"
      },
      "execution_count": 19,
      "outputs": []
    },
    {
      "cell_type": "code",
      "source": [
        "test_dataset = MyDataSet(test_data, word2id, DEVICE, MAX_LEN)\n",
        "test_sampler = SequentialSampler(test_dataset)\n",
        "test_iterator = DataLoader(test_dataset, collate_fn = test_dataset.collate_fn, sampler=test_sampler, batch_size=128)"
      ],
      "metadata": {
        "id": "48Q6C6LFYV6Z"
      },
      "execution_count": 20,
      "outputs": []
    },
    {
      "cell_type": "markdown",
      "source": [
        "Как и в статье, используем эмбеддинги Google."
      ],
      "metadata": {
        "id": "bJTk5KByogI-"
      }
    },
    {
      "cell_type": "code",
      "source": [
        "! wget -c 'https://s3.amazonaws.com/dl4j-distribution/GoogleNews-vectors-negative300.bin.gz'"
      ],
      "metadata": {
        "colab": {
          "base_uri": "https://localhost:8080/"
        },
        "id": "IIrCRIegYpML",
        "outputId": "daa22558-640e-4187-fcd0-ac44badc0bb9"
      },
      "execution_count": 21,
      "outputs": [
        {
          "output_type": "stream",
          "name": "stdout",
          "text": [
            "--2021-12-28 12:58:50--  https://s3.amazonaws.com/dl4j-distribution/GoogleNews-vectors-negative300.bin.gz\n",
            "Resolving s3.amazonaws.com (s3.amazonaws.com)... 52.216.169.125\n",
            "Connecting to s3.amazonaws.com (s3.amazonaws.com)|52.216.169.125|:443... connected.\n",
            "HTTP request sent, awaiting response... 200 OK\n",
            "Length: 1647046227 (1.5G) [application/x-gzip]\n",
            "Saving to: ‘GoogleNews-vectors-negative300.bin.gz’\n",
            "\n",
            "GoogleNews-vectors- 100%[===================>]   1.53G  24.2MB/s    in 51s     \n",
            "\n",
            "2021-12-28 12:59:41 (31.0 MB/s) - ‘GoogleNews-vectors-negative300.bin.gz’ saved [1647046227/1647046227]\n",
            "\n"
          ]
        }
      ]
    },
    {
      "cell_type": "code",
      "source": [
        "from gensim.models import KeyedVectors\n",
        "\n",
        "\n",
        "news_path = 'GoogleNews-vectors-negative300.bin.gz'\n",
        "w2v = KeyedVectors.load_word2vec_format(news_path, binary=True)"
      ],
      "metadata": {
        "id": "Sr3WIA_NXoU6"
      },
      "execution_count": 22,
      "outputs": []
    },
    {
      "cell_type": "code",
      "source": [
        "weights = np.zeros((len(word2id), 300))\n",
        "for word, i in word2id.items():\n",
        "    try:\n",
        "        weights[i] = w2v.wv[word]    \n",
        "    except KeyError:\n",
        "      weights[i] = np.random.uniform(-0.25, 0.25, 300)"
      ],
      "metadata": {
        "colab": {
          "base_uri": "https://localhost:8080/"
        },
        "id": "B4h1pTiGWQ6m",
        "outputId": "acaa0c75-f10c-4ac9-ef8d-5795a3833cc5"
      },
      "execution_count": 23,
      "outputs": [
        {
          "output_type": "stream",
          "name": "stderr",
          "text": [
            "/usr/local/lib/python3.7/dist-packages/ipykernel_launcher.py:4: DeprecationWarning: Call to deprecated `wv` (Attribute will be removed in 4.0.0, use self instead).\n",
            "  after removing the cwd from sys.path.\n"
          ]
        }
      ]
    },
    {
      "cell_type": "markdown",
      "source": [
        "### Model"
      ],
      "metadata": {
        "id": "yx1s1oN2pZRI"
      }
    },
    {
      "cell_type": "markdown",
      "source": [
        "Собственно сама модель, которая описана в статье."
      ],
      "metadata": {
        "id": "qst--aWGpakv"
      }
    },
    {
      "cell_type": "code",
      "source": [
        "class CNN_LSTM(nn.Module):\n",
        "\n",
        "    def __init__(self, vocab_size, embedding_dim, filter_number,\n",
        "                 filter_size, hidden_size, num_layers,\n",
        "                 dropout=None, dropout_per=0, weights=None):\n",
        "        super().__init__()\n",
        "        self.vocab_size = vocab_size\n",
        "        self.embedding_dim = embedding_dim\n",
        "        self.filter_number = filter_number\n",
        "        self.filter_size = filter_size\n",
        "        self.hidden_size = hidden_size\n",
        "        self.num_layers = num_layers\n",
        "        self.conv_layers = len(filter_size)\n",
        "        self.dropout_param = dropout\n",
        "\n",
        "        self.embedding = nn.Embedding(self.vocab_size, self.embedding_dim)\n",
        "        if type(weights) == np.ndarray:\n",
        "            self.embedding.from_pretrained(torch.tensor(weights))\n",
        "        self.conv = []\n",
        "        self.conv2 = nn.Conv1d(in_channels=self.embedding_dim, \n",
        "                              out_channels=self.filter_number, \n",
        "                              kernel_size=2,\n",
        "                              padding='valid')\n",
        "        self.conv3 = nn.Conv1d(in_channels=self.embedding_dim, \n",
        "                              out_channels=self.filter_number, \n",
        "                              kernel_size=3,\n",
        "                              padding='valid')\n",
        "        self.conv3 = nn.Conv1d(in_channels=self.embedding_dim, \n",
        "                              out_channels=self.filter_number, \n",
        "                              kernel_size=4,\n",
        "                              padding='valid')\n",
        "        self.relu = nn.ReLU()\n",
        "        self.lstm = nn.LSTM(\n",
        "            input_size=(self.filter_number*self.conv_layers),\n",
        "            hidden_size=self.hidden_size,\n",
        "            num_layers=self.num_layers,\n",
        "            batch_first=True\n",
        "        )\n",
        "        self.linear = nn.Linear(self.hidden_size, 6)\n",
        "        self.dropout = nn.Dropout(p=dropout_per)\n",
        "\n",
        "    def forward(self, word):\n",
        "        embedded = self.embedding(word)\n",
        "        embedded = embedded.transpose(1,2)\n",
        "        \n",
        "        if self.dropout_param == 'before':\n",
        "            embedded = self.dropout(embedded)\n",
        "        conv_layers = []\n",
        "        \n",
        "        if 2 in self.filter_size:\n",
        "            conv_layers.append(self.relu(self.conv2(embedded)).transpose(1,2))\n",
        "        \n",
        "        if 3 in self.filter_size:\n",
        "            conv_layers.append(self.relu(self.conv2(embedded)).transpose(1,2))\n",
        "        \n",
        "        if 4 in self.filter_size:\n",
        "            conv_layers.append(self.relu(self.conv2(embedded)).transpose(1,2))\n",
        "        \n",
        "        for i, layer in enumerate(conv_layers):\n",
        "            if i == 0:\n",
        "              length = layer.shape[1]\n",
        "              conv_layer = layer\n",
        "            else:\n",
        "              conv_layer = torch.cat((conv_layer, layer[:,:length,:]), 2)\n",
        "        \n",
        "        lstm_out, (ht, ct) = self.lstm(conv_layer)\n",
        "        lstm_layer = ht[-1]\n",
        "\n",
        "        if self.dropout_param == 'after':\n",
        "            logits = self.dropout(lstm_layer) \n",
        "        logits = self.linear(lstm_layer)\n",
        "        \n",
        "        return logits"
      ],
      "metadata": {
        "id": "ON_S2Ap6a77Y"
      },
      "execution_count": 24,
      "outputs": []
    },
    {
      "cell_type": "code",
      "source": [
        "def train(model, iterator, optimizer, criterion, metric, device):\n",
        "    \n",
        "    epoch_loss = 0\n",
        "    epoch_metric = 0\n",
        "    model.train()\n",
        "\n",
        "    for i, (texts, ys) in enumerate(iterator):\n",
        "        optimizer.zero_grad()\n",
        "        texts = texts.to(device)\n",
        "        ys = ys.to(device)\n",
        "        preds = model(texts.squeeze())\n",
        "        loss = criterion(preds, ys.long())  \n",
        "\n",
        "        loss.backward()\n",
        "        optimizer.step()\n",
        "\n",
        "        epoch_loss += loss.item()\n",
        "\n",
        "        batch_metric = metric(preds, ys.long(), ignore_index=0)\n",
        "        epoch_metric += batch_metric\n",
        "    print(f'F-score: {epoch_metric / len(iterator)}, loss: {epoch_loss / len(iterator)}') \n",
        "    return epoch_metric / len(iterator), epoch_loss / len(iterator)"
      ],
      "metadata": {
        "id": "lEkZsjyVboJP"
      },
      "execution_count": 25,
      "outputs": []
    },
    {
      "cell_type": "code",
      "source": [
        "def evaluate(model, iterator, criterion, metric, device):\n",
        "    \n",
        "    epoch_loss = 0\n",
        "    epoch_metric = 0\n",
        "    model.eval() \n",
        "\n",
        "    with torch.no_grad():\n",
        "        for i, (texts, ys) in enumerate(iterator):\n",
        "            texts = texts.to(device)\n",
        "            ys = ys.to(device) \n",
        "            preds = model(texts.squeeze())\n",
        "\n",
        "            loss = criterion(preds, ys.long())\n",
        "            \n",
        "            epoch_loss += loss.item()\n",
        "            batch_metric = metric(preds, ys.long(), ignore_index=0)\n",
        "            epoch_metric += batch_metric\n",
        "\n",
        "    print(f'F-score: {epoch_metric / len(iterator)}, loss: {epoch_loss / len(iterator)}')   \n",
        "    return epoch_metric / len(iterator), epoch_loss / len(iterator)"
      ],
      "metadata": {
        "id": "RabUVj9Zbz3W"
      },
      "execution_count": 26,
      "outputs": []
    },
    {
      "cell_type": "code",
      "source": [
        "def model_perfomance(model, criterion, optimizer, DEVICE, epochs,\n",
        "                  train_iterator, val_iterator):\n",
        "    model = model.to(DEVICE)\n",
        "    criterion = criterion.to(DEVICE)\n",
        "    losses = []\n",
        "    val_losses= []\n",
        "    f1s = []\n",
        "    val_f1s = []\n",
        "\n",
        "    for epoch in tqdm(range(epochs)):\n",
        "        print('\\n======== Epoch {:} / {:} ========'.format(epoch + 1, epochs))\n",
        "        print('Evaluating on train...')\n",
        "        f1_on_train, epoch_loss = train(model, train_iterator, optimizer, \n",
        "                                     criterion, metric=f1, device=DEVICE)\n",
        "        losses.append(epoch_loss)\n",
        "        f1s.append(f1_on_train)\n",
        "\n",
        "        print('Evaluating on test...')\n",
        "        f1_on_test, epoch_loss_on_test = evaluate(model, val_iterator, \n",
        "                                                  criterion, metric=f1, \n",
        "                                                  device=DEVICE)\n",
        "        val_losses.append(epoch_loss_on_test)\n",
        "        val_f1s.append(f1_on_test)\n",
        "    return losses, val_losses, f1s, val_f1s"
      ],
      "metadata": {
        "id": "QlK3mxaAmva1"
      },
      "execution_count": 29,
      "outputs": []
    },
    {
      "cell_type": "markdown",
      "source": [
        "Посмотрим на работу модели: сначала прогоним на дефолтных параметрах, с одним слоём свёртки и размерностями 150."
      ],
      "metadata": {
        "id": "iaGzs53Hpnhm"
      }
    },
    {
      "cell_type": "code",
      "source": [
        "model = CNN_LSTM(len(train_dataset.word2id), embedding_dim=300, \n",
        "                 filter_number=150, filter_size=[2], hidden_size=150, \n",
        "                 num_layers=1)\n",
        "criterion = nn.CrossEntropyLoss()\n",
        "optimizer = optim.RMSprop(model.parameters())\n",
        "losses, val_losses, f1s, val_f1s = model_perfomance(model, criterion, optimizer,\n",
        "                                                   DEVICE, 5, train_iterator,\n",
        "                                                   test_iterator)"
      ],
      "metadata": {
        "colab": {
          "base_uri": "https://localhost:8080/",
          "height": 559,
          "referenced_widgets": [
            "074496d589f940e5bf57aa6e6fa2eaeb",
            "a0f9cfe0b096426492bcca2b792563f2",
            "148728c5ced943f48c3004a3748a3b43",
            "180ff9b7ae824e37aa73d877b7e12de8",
            "60782acdd92c4b20b6fdcaf5e761346e",
            "262433d8f4f24d428520fee81cbe50e0",
            "ec7b54d2ee7145d78c35db7e644f780e",
            "8f69af1847d142ea9c406337feead1ce",
            "5583272c57ae4e6493315a421d208c0b",
            "6ebe50b5e96b468ba03ec924bca0249f",
            "9666c9f39fab40a0a1a1703247f91d3d"
          ]
        },
        "id": "NwHMmyKXpVJn",
        "outputId": "5c8e63e5-34a2-4f77-e770-9c1cb17abeec"
      },
      "execution_count": 30,
      "outputs": [
        {
          "output_type": "display_data",
          "data": {
            "application/vnd.jupyter.widget-view+json": {
              "model_id": "074496d589f940e5bf57aa6e6fa2eaeb",
              "version_minor": 0,
              "version_major": 2
            },
            "text/plain": [
              "  0%|          | 0/5 [00:00<?, ?it/s]"
            ]
          },
          "metadata": {}
        },
        {
          "output_type": "stream",
          "name": "stdout",
          "text": [
            "\n",
            "======== Epoch 1 / 5 ========\n",
            "Evaluating on train...\n",
            "F-score: 0.3515632152557373, loss: 1.601293582494567\n",
            "Evaluating on test...\n",
            "F-score: 0.2963302433490753, loss: 1.5726507483301937\n",
            "\n",
            "======== Epoch 2 / 5 ========\n",
            "Evaluating on train...\n",
            "F-score: 0.37742677330970764, loss: 1.4786983379701368\n",
            "Evaluating on test...\n",
            "F-score: 0.40031731128692627, loss: 1.4694278981234576\n",
            "\n",
            "======== Epoch 3 / 5 ========\n",
            "Evaluating on train...\n",
            "F-score: 0.3945677876472473, loss: 1.4660689173912516\n",
            "Evaluating on test...\n",
            "F-score: 0.39759695529937744, loss: 1.5538829822798033\n",
            "\n",
            "======== Epoch 4 / 5 ========\n",
            "Evaluating on train...\n",
            "F-score: 0.5148259997367859, loss: 1.3312795064887222\n",
            "Evaluating on test...\n",
            "F-score: 0.3991243541240692, loss: 1.323366361695367\n",
            "\n",
            "======== Epoch 5 / 5 ========\n",
            "Evaluating on train...\n",
            "F-score: 0.5961200594902039, loss: 1.1799951698504338\n",
            "Evaluating on test...\n",
            "F-score: 0.5232746005058289, loss: 1.3562797984561406\n"
          ]
        }
      ]
    },
    {
      "cell_type": "code",
      "source": [
        "def plot_losses(losses, val_losses, f1s, val_f1s):\n",
        "    fig, ax = plt.subplots(1, 2, figsize=(20, 5))\n",
        "    ax[0].plot(losses)\n",
        "    ax[0].plot(val_losses)\n",
        "    ax[0].set_title('CE loss value')\n",
        "    ax[0].set_ylabel('CE loss')\n",
        "    ax[0].set_xlabel('epochs')\n",
        "    ax[0].legend(['train', 'val'], loc='upper right')\n",
        " \n",
        "    ax[1].plot(f1s)\n",
        "    ax[1].plot(val_f1s)\n",
        "    ax[1].set_title('F1 value')\n",
        "    ax[1].set_ylabel('F1 value')\n",
        "    ax[1].set_xlabel('epochs')\n",
        "    \n",
        "    plt.show()"
      ],
      "metadata": {
        "id": "2XWGVBwbI7Dm"
      },
      "execution_count": 31,
      "outputs": []
    },
    {
      "cell_type": "code",
      "source": [
        "plot_losses(losses, val_losses, f1s, val_f1s)"
      ],
      "metadata": {
        "id": "YX6pjsWlvtoX",
        "colab": {
          "base_uri": "https://localhost:8080/",
          "height": 355
        },
        "outputId": "d395f0e8-794c-44f1-c6b0-5dd8634ae6eb"
      },
      "execution_count": 32,
      "outputs": [
        {
          "output_type": "display_data",
          "data": {
            "image/png": "[encoded data removed]",
            "text/plain": [
              "<Figure size 1440x360 with 2 Axes>"
            ]
          },
          "metadata": {}
        }
      ]
    },
    {
      "cell_type": "markdown",
      "source": [
        "Попробуем добавить L2-регуляризацию."
      ],
      "metadata": {
        "id": "Pcf6X4Orp48h"
      }
    },
    {
      "cell_type": "code",
      "source": [
        "model = CNN_LSTM(len(train_dataset.word2id), embedding_dim=300, \n",
        "                 filter_number=150, filter_size=[2], hidden_size=150, \n",
        "                 num_layers=1)\n",
        "criterion = nn.CrossEntropyLoss()\n",
        "optimizer = optim.RMSprop(model.parameters(), weight_decay=0.001)\n",
        "losses, val_losses, f1s, val_f1s = model_perfomance(model, criterion, optimizer,\n",
        "                                                   DEVICE, 5, train_iterator,\n",
        "                                                   test_iterator)"
      ],
      "metadata": {
        "colab": {
          "base_uri": "https://localhost:8080/",
          "height": 559,
          "referenced_widgets": [
            "16e74dad3e5e4424863eb738f21ad403",
            "8557274453c3443fa78036609f40db5f",
            "43e49b3a462d474e94b8e7ffa1ac7089",
            "dff7bb7838f54d5ab8107db7f852d3b4",
            "257c3d950e5144a49684cacc7a9c379b",
            "bd8c1d223ea64258a5793a60c786616c",
            "c7d0fb3846144de5a787f0550c5fc386",
            "fab086252d634022aad99d016d4602d7",
            "10c1ab92ab444d61a36d0654896fd0d6",
            "f163a20ae65949f59a9052b2de3fde87",
            "37f07c611f23455db67b31bf8c635d6b"
          ]
        },
        "id": "RaTMRAz-JMO4",
        "outputId": "d9aa3548-38b3-44ec-d491-e004f7c7cb03"
      },
      "execution_count": 33,
      "outputs": [
        {
          "output_type": "display_data",
          "data": {
            "application/vnd.jupyter.widget-view+json": {
              "model_id": "16e74dad3e5e4424863eb738f21ad403",
              "version_minor": 0,
              "version_major": 2
            },
            "text/plain": [
              "  0%|          | 0/5 [00:00<?, ?it/s]"
            ]
          },
          "metadata": {}
        },
        {
          "output_type": "stream",
          "name": "stdout",
          "text": [
            "\n",
            "======== Epoch 1 / 5 ========\n",
            "Evaluating on train...\n",
            "F-score: 0.49185433983802795, loss: 1.361227776323046\n",
            "Evaluating on test...\n",
            "F-score: 0.40909498929977417, loss: 2.559871770240165\n",
            "\n",
            "======== Epoch 2 / 5 ========\n",
            "Evaluating on train...\n",
            "F-score: 0.592286229133606, loss: 1.0995542285393696\n",
            "Evaluating on test...\n",
            "F-score: 0.6189482808113098, loss: 1.0525336491095054\n",
            "\n",
            "======== Epoch 3 / 5 ========\n",
            "Evaluating on train...\n",
            "F-score: 0.6110881567001343, loss: 1.0490851527979586\n",
            "Evaluating on test...\n",
            "F-score: 0.6156714558601379, loss: 1.1145734980299666\n",
            "\n",
            "======== Epoch 4 / 5 ========\n",
            "Evaluating on train...\n",
            "F-score: 0.6060976982116699, loss: 1.0736787092118036\n",
            "Evaluating on test...\n",
            "F-score: 0.6025059819221497, loss: 1.0798675691759265\n",
            "\n",
            "======== Epoch 5 / 5 ========\n",
            "Evaluating on train...\n",
            "F-score: 0.6002103686332703, loss: 1.0427937941486334\n",
            "Evaluating on test...\n",
            "F-score: 0.6339870095252991, loss: 0.9594103629524643\n"
          ]
        }
      ]
    },
    {
      "cell_type": "code",
      "source": [
        "plot_losses(losses, val_losses, f1s, val_f1s)"
      ],
      "metadata": {
        "colab": {
          "base_uri": "https://localhost:8080/",
          "height": 355
        },
        "id": "jf7elspHJ6ic",
        "outputId": "df2f5a7b-0b27-4168-9a72-b00e0ea608b3"
      },
      "execution_count": 34,
      "outputs": [
        {
          "output_type": "display_data",
          "data": {
            "image/png": "[encoded data removed]",
            "text/plain": [
              "<Figure size 1440x360 with 2 Axes>"
            ]
          },
          "metadata": {}
        }
      ]
    },
    {
      "cell_type": "markdown",
      "source": [
        "Стало чуть получше, попробуем обучить на предобученных весах."
      ],
      "metadata": {
        "id": "MmiiFRnpqP7V"
      }
    },
    {
      "cell_type": "code",
      "source": [
        "model = CNN_LSTM(len(train_dataset.word2id), embedding_dim=300, \n",
        "                 filter_number=150, filter_size=[2], hidden_size=150, \n",
        "                 num_layers=1, weights=weights)\n",
        "criterion = nn.CrossEntropyLoss()\n",
        "optimizer = optim.RMSprop(model.parameters(), weight_decay=0.001)\n",
        "losses, val_losses, f1s, val_f1s = model_perfomance(model, criterion, optimizer,\n",
        "                                                   DEVICE, 5, train_iterator,\n",
        "                                                   test_iterator)"
      ],
      "metadata": {
        "colab": {
          "base_uri": "https://localhost:8080/",
          "height": 559,
          "referenced_widgets": [
            "f024a40f8dc3431680dca00fa3239ca5",
            "cc196cb5ef11479096d74d49751ae0f7",
            "a46bcb0ac8a24f48aba076490494a75b",
            "2402d9d603e8481081244642464ec801",
            "4b54805ef0754a22aba6943b5f5f31e9",
            "a5bdf2615c964630926834cb6c76fb78",
            "98d788a5946b4cbdaf96f3e41bab8b34",
            "a30d00f844444da7b077c11def108f56",
            "6aa39e01eef94d47990f903f95996501",
            "ef942bc6eb4c4fe392eeee265cb197a2",
            "b81873b75554432598fe0d50ffffb20e"
          ]
        },
        "id": "QrFmmxAyJm9o",
        "outputId": "d133a05e-7be3-40b3-a548-ae48d6cff375"
      },
      "execution_count": 35,
      "outputs": [
        {
          "output_type": "display_data",
          "data": {
            "application/vnd.jupyter.widget-view+json": {
              "model_id": "f024a40f8dc3431680dca00fa3239ca5",
              "version_minor": 0,
              "version_major": 2
            },
            "text/plain": [
              "  0%|          | 0/5 [00:00<?, ?it/s]"
            ]
          },
          "metadata": {}
        },
        {
          "output_type": "stream",
          "name": "stdout",
          "text": [
            "\n",
            "======== Epoch 1 / 5 ========\n",
            "Evaluating on train...\n",
            "F-score: 0.4896122217178345, loss: 1.3821450820585497\n",
            "Evaluating on test...\n",
            "F-score: 0.6186617612838745, loss: 1.0547569490767814\n",
            "\n",
            "======== Epoch 2 / 5 ========\n",
            "Evaluating on train...\n",
            "F-score: 0.6028640270233154, loss: 1.0413990787097387\n",
            "Evaluating on test...\n",
            "F-score: 0.5889332890510559, loss: 1.053843322637919\n",
            "\n",
            "======== Epoch 3 / 5 ========\n",
            "Evaluating on train...\n",
            "F-score: 0.6029893755912781, loss: 1.0320639845465316\n",
            "Evaluating on test...\n",
            "F-score: 0.6381993889808655, loss: 0.9311130352922388\n",
            "\n",
            "======== Epoch 4 / 5 ========\n",
            "Evaluating on train...\n",
            "F-score: 0.6258842945098877, loss: 0.9557333641311749\n",
            "Evaluating on test...\n",
            "F-score: 0.6377713680267334, loss: 0.9392011149509533\n",
            "\n",
            "======== Epoch 5 / 5 ========\n",
            "Evaluating on train...\n",
            "F-score: 0.6220066547393799, loss: 0.9470503723540273\n",
            "Evaluating on test...\n",
            "F-score: 0.6319287419319153, loss: 0.9469477131560042\n"
          ]
        }
      ]
    },
    {
      "cell_type": "code",
      "source": [
        "plot_losses(losses, val_losses, f1s, val_f1s)"
      ],
      "metadata": {
        "colab": {
          "base_uri": "https://localhost:8080/",
          "height": 355
        },
        "id": "eDrhLNRWJ7kl",
        "outputId": "a66fd482-bc41-4b18-a3bd-bb43fecb1a63"
      },
      "execution_count": 36,
      "outputs": [
        {
          "output_type": "display_data",
          "data": {
            "image/png": "[encoded data removed]",
            "text/plain": [
              "<Figure size 1440x360 with 2 Axes>"
            ]
          },
          "metadata": {}
        }
      ]
    },
    {
      "cell_type": "markdown",
      "source": [
        "Добавим learning rate."
      ],
      "metadata": {
        "id": "6q8DXLGPqfZh"
      }
    },
    {
      "cell_type": "code",
      "source": [
        "model = CNN_LSTM(len(train_dataset.word2id), embedding_dim=300, \n",
        "                 filter_number=150, filter_size=[2], hidden_size=150, \n",
        "                 num_layers=1, weights=weights)\n",
        "criterion = nn.CrossEntropyLoss()\n",
        "optimizer = optim.RMSprop(model.parameters(), lr=0.00001, weight_decay=0.001)\n",
        "losses, val_losses, f1s, val_f1s = model_perfomance(model, criterion, optimizer,\n",
        "                                                   DEVICE, 5, train_iterator,\n",
        "                                                   test_iterator)"
      ],
      "metadata": {
        "colab": {
          "base_uri": "https://localhost:8080/",
          "height": 559,
          "referenced_widgets": [
            "dd4236b1507f476a8fe42ab48815ec90",
            "29c465437926476bae99f8fa541e5b50",
            "914a203b9e7b42a682fcf0fb97020437",
            "8ec2a45989224ffa85a850c523dfbdc0",
            "208bb8bb843845ddb6b93d137cffc76e",
            "d466d4c62bc94d3d8d32543ad26848a6",
            "be9c526741d245e6bdd097ee934bb222",
            "5e536361110f4619a3d24f11c6a8a077",
            "ec9b36d3e5cb418e9f18cdd44f43e0ff",
            "61eb49b5b76c4b3eb2979a05bc617335",
            "00c0aaaac0ed451096fd099760a0b353"
          ]
        },
        "id": "g-Z7ooeUM0eE",
        "outputId": "399d6fb1-88fc-4b86-b908-571ddb228534"
      },
      "execution_count": 37,
      "outputs": [
        {
          "output_type": "display_data",
          "data": {
            "application/vnd.jupyter.widget-view+json": {
              "model_id": "dd4236b1507f476a8fe42ab48815ec90",
              "version_minor": 0,
              "version_major": 2
            },
            "text/plain": [
              "  0%|          | 0/5 [00:00<?, ?it/s]"
            ]
          },
          "metadata": {}
        },
        {
          "output_type": "stream",
          "name": "stdout",
          "text": [
            "\n",
            "======== Epoch 1 / 5 ========\n",
            "Evaluating on train...\n",
            "F-score: 0.30883723497390747, loss: 1.650576638526657\n",
            "Evaluating on test...\n",
            "F-score: 0.37357261776924133, loss: 1.566469930313729\n",
            "\n",
            "======== Epoch 2 / 5 ========\n",
            "Evaluating on train...\n",
            "F-score: 0.392808735370636, loss: 1.525096801673474\n",
            "Evaluating on test...\n",
            "F-score: 0.400948166847229, loss: 1.5047485667306024\n",
            "\n",
            "======== Epoch 3 / 5 ========\n",
            "Evaluating on train...\n",
            "F-score: 0.3979950249195099, loss: 1.4828728064387835\n",
            "Evaluating on test...\n",
            "F-score: 0.4011715352535248, loss: 1.4755934670164779\n",
            "\n",
            "======== Epoch 4 / 5 ========\n",
            "Evaluating on train...\n",
            "F-score: 0.3980575203895569, loss: 1.4589251247393031\n",
            "Evaluating on test...\n",
            "F-score: 0.4011715352535248, loss: 1.4574265447822776\n",
            "\n",
            "======== Epoch 5 / 5 ========\n",
            "Evaluating on train...\n",
            "F-score: 0.3980666697025299, loss: 1.4460486092535005\n",
            "Evaluating on test...\n",
            "F-score: 0.4011715352535248, loss: 1.4491488901344505\n"
          ]
        }
      ]
    },
    {
      "cell_type": "code",
      "source": [
        "plot_losses(losses, val_losses, f1s, val_f1s)"
      ],
      "metadata": {
        "colab": {
          "base_uri": "https://localhost:8080/",
          "height": 355
        },
        "id": "eOzLnc_wNIIK",
        "outputId": "4dfeeaf3-75c0-40dd-ad7a-3c34fd25b63e"
      },
      "execution_count": 38,
      "outputs": [
        {
          "output_type": "display_data",
          "data": {
            "image/png": "[encoded data removed]",
            "text/plain": [
              "<Figure size 1440x360 with 2 Axes>"
            ]
          },
          "metadata": {}
        }
      ]
    },
    {
      "cell_type": "markdown",
      "source": [
        "Стало хуже, попробуем немного изменить learning rate."
      ],
      "metadata": {
        "id": "H0GiWRhMrHwm"
      }
    },
    {
      "cell_type": "code",
      "source": [
        "model = CNN_LSTM(len(train_dataset.word2id), embedding_dim=300, \n",
        "                 filter_number=150, filter_size=[2], hidden_size=150, \n",
        "                 num_layers=1, weights=weights)\n",
        "criterion = nn.CrossEntropyLoss()\n",
        "optimizer = optim.RMSprop(model.parameters(), lr=0.001, weight_decay=0.001)\n",
        "losses, val_losses, f1s, val_f1s = model_perfomance(model, criterion, optimizer,\n",
        "                                                   DEVICE, 5, train_iterator,\n",
        "                                                   test_iterator)"
      ],
      "metadata": {
        "colab": {
          "base_uri": "https://localhost:8080/",
          "height": 559,
          "referenced_widgets": [
            "b318089e44bc44f89a181d742244f65b",
            "1d5887166bdc49d88ca06d4395718e6b",
            "a649df94e5444f79a30a840fdb5de76d",
            "51157c00d9b1461d82b01fac07548e11",
            "b98a60e0e02d4a2a99090edd3a129638",
            "6a2e5382a5bd473cb786d36c9ab60b21",
            "88a23df3da174a21bcb3070bacf08425",
            "b028625d304a4322900c0e4c178e6680",
            "b5783c0a8acf46edb219a958ed5db6e1",
            "4a9184780fe248bc9f380e1acb0c166d",
            "fcbb684623ba4540bc960c4044ac53dc"
          ]
        },
        "id": "cgrCnz3INJyf",
        "outputId": "64a1183e-e09f-4c94-e94e-278cf4b291bc"
      },
      "execution_count": 39,
      "outputs": [
        {
          "output_type": "display_data",
          "data": {
            "application/vnd.jupyter.widget-view+json": {
              "model_id": "b318089e44bc44f89a181d742244f65b",
              "version_minor": 0,
              "version_major": 2
            },
            "text/plain": [
              "  0%|          | 0/5 [00:00<?, ?it/s]"
            ]
          },
          "metadata": {}
        },
        {
          "output_type": "stream",
          "name": "stdout",
          "text": [
            "\n",
            "======== Epoch 1 / 5 ========\n",
            "Evaluating on train...\n",
            "F-score: 0.5060797333717346, loss: 1.2869026628481288\n",
            "Evaluating on test...\n",
            "F-score: 0.6121301054954529, loss: 1.0269115599426064\n",
            "\n",
            "======== Epoch 2 / 5 ========\n",
            "Evaluating on train...\n",
            "F-score: 0.627801775932312, loss: 0.9616103776458169\n",
            "Evaluating on test...\n",
            "F-score: 0.6337472796440125, loss: 1.0301941359365308\n",
            "\n",
            "======== Epoch 3 / 5 ========\n",
            "Evaluating on train...\n",
            "F-score: 0.651785671710968, loss: 0.8841608847890582\n",
            "Evaluating on test...\n",
            "F-score: 0.6511180996894836, loss: 0.8872218083690953\n",
            "\n",
            "======== Epoch 4 / 5 ========\n",
            "Evaluating on train...\n",
            "F-score: 0.6550073027610779, loss: 0.8730525938021082\n",
            "Evaluating on test...\n",
            "F-score: 0.6472254991531372, loss: 0.8827947200955572\n",
            "\n",
            "======== Epoch 5 / 5 ========\n",
            "Evaluating on train...\n",
            "F-score: 0.6675544381141663, loss: 0.8181390413621656\n",
            "Evaluating on test...\n",
            "F-score: 0.6497679948806763, loss: 0.8825353206814947\n"
          ]
        }
      ]
    },
    {
      "cell_type": "code",
      "source": [
        "plot_losses(losses, val_losses, f1s, val_f1s)"
      ],
      "metadata": {
        "colab": {
          "base_uri": "https://localhost:8080/",
          "height": 355
        },
        "id": "RA8qAiN6ObY5",
        "outputId": "43c7c284-40a0-40f9-dd96-28af36b1c3da"
      },
      "execution_count": 40,
      "outputs": [
        {
          "output_type": "display_data",
          "data": {
            "image/png": "[encoded data removed]",
            "text/plain": [
              "<Figure size 1440x360 with 2 Axes>"
            ]
          },
          "metadata": {}
        }
      ]
    },
    {
      "cell_type": "markdown",
      "source": [
        "Оставим этот learning rate и теперь попробуем с двумя фильтрами."
      ],
      "metadata": {
        "id": "Utdawuw8rd3x"
      }
    },
    {
      "cell_type": "code",
      "source": [
        "model = CNN_LSTM(len(train_dataset.word2id), embedding_dim=300, \n",
        "                 filter_number=150, filter_size=[2, 3], hidden_size=150, \n",
        "                 num_layers=1, weights=weights)\n",
        "criterion = nn.CrossEntropyLoss()\n",
        "optimizer = optim.RMSprop(model.parameters(), lr=0.001, weight_decay=0.001)\n",
        "losses, val_losses, f1s, val_f1s = model_perfomance(model, criterion, optimizer,\n",
        "                                                   DEVICE, 5, train_iterator,\n",
        "                                                   test_iterator)"
      ],
      "metadata": {
        "colab": {
          "base_uri": "https://localhost:8080/",
          "height": 559,
          "referenced_widgets": [
            "428142243bb74dafb327430403db76a4",
            "6948182249ae4ab2a98b6ef413b43480",
            "91bdc282185040d4ab9e0019d316891f",
            "59b95bfe15584df58d71b0c45c249fd2",
            "431631dac4cb4062851b70debcd99d98",
            "3cf3a44d995a46bb816e6d80b349d96c",
            "6c6aeaa1867d4186a7d55eb4bacf4adf",
            "556a387421ae4f2eb2bfd98e4dc70eec",
            "dac61b805f7342018d9e05e9c43e7492",
            "c7ee182aa5394810829add1965202641",
            "104c90fd1be94a4d99434ee3891e44e6"
          ]
        },
        "id": "iata7xTiPS0U",
        "outputId": "cd30e1d2-259e-45f6-8d78-b24ec21afee3"
      },
      "execution_count": 41,
      "outputs": [
        {
          "output_type": "display_data",
          "data": {
            "application/vnd.jupyter.widget-view+json": {
              "model_id": "428142243bb74dafb327430403db76a4",
              "version_minor": 0,
              "version_major": 2
            },
            "text/plain": [
              "  0%|          | 0/5 [00:00<?, ?it/s]"
            ]
          },
          "metadata": {}
        },
        {
          "output_type": "stream",
          "name": "stdout",
          "text": [
            "\n",
            "======== Epoch 1 / 5 ========\n",
            "Evaluating on train...\n",
            "F-score: 0.4563251733779907, loss: 1.380763315830101\n",
            "Evaluating on test...\n",
            "F-score: 0.6198149919509888, loss: 1.1017863025536407\n",
            "\n",
            "======== Epoch 2 / 5 ========\n",
            "Evaluating on train...\n",
            "F-score: 0.6205573081970215, loss: 1.009255119732448\n",
            "Evaluating on test...\n",
            "F-score: 0.6312924027442932, loss: 0.9455093693088841\n",
            "\n",
            "======== Epoch 3 / 5 ========\n",
            "Evaluating on train...\n",
            "F-score: 0.6583895683288574, loss: 0.8588872783038081\n",
            "Evaluating on test...\n",
            "F-score: 0.6536006927490234, loss: 0.8728514297588451\n",
            "\n",
            "======== Epoch 4 / 5 ========\n",
            "Evaluating on train...\n",
            "F-score: 0.6790995001792908, loss: 0.7852467099825541\n",
            "Evaluating on test...\n",
            "F-score: 0.6690872311592102, loss: 0.8128563278430218\n",
            "\n",
            "======== Epoch 5 / 5 ========\n",
            "Evaluating on train...\n",
            "F-score: 0.6923869252204895, loss: 0.7362977696113846\n",
            "Evaluating on test...\n",
            "F-score: 0.6739945411682129, loss: 0.8030987865216023\n"
          ]
        }
      ]
    },
    {
      "cell_type": "code",
      "source": [
        "plot_losses(losses, val_losses, f1s, val_f1s)"
      ],
      "metadata": {
        "colab": {
          "base_uri": "https://localhost:8080/",
          "height": 355
        },
        "id": "TAj6TCWHPWdA",
        "outputId": "37b1cf8a-e884-496d-a440-7823bd2bf599"
      },
      "execution_count": 42,
      "outputs": [
        {
          "output_type": "display_data",
          "data": {
            "image/png": "[encoded data removed]",
            "text/plain": [
              "<Figure size 1440x360 with 2 Axes>"
            ]
          },
          "metadata": {}
        }
      ]
    },
    {
      "cell_type": "markdown",
      "source": [
        "Эта модель обучилась лучше, попробуем с двумя LSTM слоями."
      ],
      "metadata": {
        "id": "7BZm4-2wrsq5"
      }
    },
    {
      "cell_type": "code",
      "source": [
        "model = CNN_LSTM(len(train_dataset.word2id), embedding_dim=300, \n",
        "                 filter_number=150, filter_size=[2, 3], hidden_size=150, \n",
        "                 num_layers=2, weights=weights)\n",
        "criterion = nn.CrossEntropyLoss()\n",
        "optimizer = optim.RMSprop(model.parameters(), lr=0.001, weight_decay=0.001)\n",
        "losses, val_losses, f1s, val_f1s = model_perfomance(model, criterion, optimizer,\n",
        "                                                   DEVICE, 5, train_iterator,\n",
        "                                                   test_iterator)"
      ],
      "metadata": {
        "colab": {
          "base_uri": "https://localhost:8080/",
          "height": 559,
          "referenced_widgets": [
            "1bd1b55e77fc4c0cb5bcccf29e1eb105",
            "f6ae5a3cbed74557932436a98b486ecd",
            "ae096dbc60af4ff18e78bbbcce243c1f",
            "4c65e8acbc594d778d228de0587e158b",
            "52d798db54ce42b5afaa4800874a3aaa",
            "c30c5f52df0844688a3863d6ace1e407",
            "aeb413564cbe4618be0bc33776b9c8f2",
            "750856047c184b218ec2581bebc78814",
            "6a963051e3fd412aa5d0f7a64ecaa873",
            "a3c9edb8e0374d308b6676d28711bc6e",
            "f8b3bfbeb2c84953a59c950286348cb3"
          ]
        },
        "id": "kEWG7X9HPpOJ",
        "outputId": "009376d1-9823-4c78-9f8c-23e341a4b720"
      },
      "execution_count": 43,
      "outputs": [
        {
          "output_type": "display_data",
          "data": {
            "application/vnd.jupyter.widget-view+json": {
              "model_id": "1bd1b55e77fc4c0cb5bcccf29e1eb105",
              "version_minor": 0,
              "version_major": 2
            },
            "text/plain": [
              "  0%|          | 0/5 [00:00<?, ?it/s]"
            ]
          },
          "metadata": {}
        },
        {
          "output_type": "stream",
          "name": "stdout",
          "text": [
            "\n",
            "======== Epoch 1 / 5 ========\n",
            "Evaluating on train...\n",
            "F-score: 0.5117222666740417, loss: 1.276359541886518\n",
            "Evaluating on test...\n",
            "F-score: 0.614641010761261, loss: 1.007586060343562\n",
            "\n",
            "======== Epoch 2 / 5 ========\n",
            "Evaluating on train...\n",
            "F-score: 0.6318597197532654, loss: 0.9581816042361616\n",
            "Evaluating on test...\n",
            "F-score: 0.6407840251922607, loss: 0.9180627851872831\n",
            "\n",
            "======== Epoch 3 / 5 ========\n",
            "Evaluating on train...\n",
            "F-score: 0.6493926048278809, loss: 0.8822304322606042\n",
            "Evaluating on test...\n",
            "F-score: 0.6526702642440796, loss: 0.8693372091731509\n",
            "\n",
            "======== Epoch 4 / 5 ========\n",
            "Evaluating on train...\n",
            "F-score: 0.6551944017410278, loss: 0.8768812312560827\n",
            "Evaluating on test...\n",
            "F-score: 0.6523103713989258, loss: 0.8537868744618183\n",
            "\n",
            "======== Epoch 5 / 5 ========\n",
            "Evaluating on train...\n",
            "F-score: 0.668889045715332, loss: 0.8249304018864015\n",
            "Evaluating on test...\n",
            "F-score: 0.6564968228340149, loss: 0.8477132223747872\n"
          ]
        }
      ]
    },
    {
      "cell_type": "code",
      "source": [
        "plot_losses(losses, val_losses, f1s, val_f1s)"
      ],
      "metadata": {
        "colab": {
          "base_uri": "https://localhost:8080/",
          "height": 355
        },
        "id": "B85gO3apRdcr",
        "outputId": "7c487374-035b-4a02-98e3-79e02533912f"
      },
      "execution_count": 44,
      "outputs": [
        {
          "output_type": "display_data",
          "data": {
            "image/png": "[encoded data removed]",
            "text/plain": [
              "<Figure size 1440x360 with 2 Axes>"
            ]
          },
          "metadata": {}
        }
      ]
    },
    {
      "cell_type": "markdown",
      "source": [
        "Чуть-чуть ухудшилось. Добавим фильтров. "
      ],
      "metadata": {
        "id": "s6-vLkk3sqg7"
      }
    },
    {
      "cell_type": "code",
      "source": [
        "model = CNN_LSTM(len(train_dataset.word2id), embedding_dim=300, \n",
        "                 filter_number=150, filter_size=[2, 3, 4], hidden_size=150, \n",
        "                 num_layers=1, weights=weights)\n",
        "criterion = nn.CrossEntropyLoss()\n",
        "optimizer = optim.RMSprop(model.parameters(), lr=0.001, weight_decay=0.001)\n",
        "losses, val_losses, f1s, val_f1s = model_perfomance(model, criterion, optimizer,\n",
        "                                                   DEVICE, 5, train_iterator,\n",
        "                                                   test_iterator)"
      ],
      "metadata": {
        "colab": {
          "base_uri": "https://localhost:8080/",
          "height": 559,
          "referenced_widgets": [
            "bdf1af09c2874be9a5e95b7c5ec78ca6",
            "9a6ac31a95854a84bd5e229511b854f4",
            "cd438e8aecd6458487bb64643444cd4b",
            "39a9b7e07cab4b8a9030774f64a8c584",
            "9c0d5cd967c74b048dca4436404344b2",
            "8b8bcc22f17349008b9c5e57daaa45f3",
            "79c0856d1ffc4468bf673e1fb4d40b57",
            "05e65c379cda46c096b45b8261338394",
            "e46b8bc3f769451eaca51733120733af",
            "c364977d680246c6af1bb6fbf0b34575",
            "f02d440b35e345f28f278de49f2d0bb9"
          ]
        },
        "id": "NcpnEDKARiw7",
        "outputId": "7a62f68f-a20f-4cec-c8f7-63ded388e5be"
      },
      "execution_count": 45,
      "outputs": [
        {
          "output_type": "display_data",
          "data": {
            "application/vnd.jupyter.widget-view+json": {
              "model_id": "bdf1af09c2874be9a5e95b7c5ec78ca6",
              "version_minor": 0,
              "version_major": 2
            },
            "text/plain": [
              "  0%|          | 0/5 [00:00<?, ?it/s]"
            ]
          },
          "metadata": {}
        },
        {
          "output_type": "stream",
          "name": "stdout",
          "text": [
            "\n",
            "======== Epoch 1 / 5 ========\n",
            "Evaluating on train...\n",
            "F-score: 0.5054563283920288, loss: 1.313142548207523\n",
            "Evaluating on test...\n",
            "F-score: 0.6069343686103821, loss: 1.0616336513209987\n",
            "\n",
            "======== Epoch 2 / 5 ========\n",
            "Evaluating on train...\n",
            "F-score: 0.6238175630569458, loss: 0.9761900695002809\n",
            "Evaluating on test...\n",
            "F-score: 0.6147062182426453, loss: 1.0452333511532963\n",
            "\n",
            "======== Epoch 3 / 5 ========\n",
            "Evaluating on train...\n",
            "F-score: 0.66367107629776, loss: 0.8493342894275172\n",
            "Evaluating on test...\n",
            "F-score: 0.6537981629371643, loss: 0.8394862059000376\n",
            "\n",
            "======== Epoch 4 / 5 ========\n",
            "Evaluating on train...\n",
            "F-score: 0.6783707141876221, loss: 0.7894549657698391\n",
            "Evaluating on test...\n",
            "F-score: 0.5855494737625122, loss: 1.1022193286869977\n",
            "\n",
            "======== Epoch 5 / 5 ========\n",
            "Evaluating on train...\n",
            "F-score: 0.6959050297737122, loss: 0.7349816682387371\n",
            "Evaluating on test...\n",
            "F-score: 0.6714484691619873, loss: 0.7852398737056835\n"
          ]
        }
      ]
    },
    {
      "cell_type": "code",
      "source": [
        "plot_losses(losses, val_losses, f1s, val_f1s)"
      ],
      "metadata": {
        "colab": {
          "base_uri": "https://localhost:8080/",
          "height": 355
        },
        "id": "Owoc_x0lRlTe",
        "outputId": "bbecb22d-b5f6-4ac2-d001-ecb9cebb9064"
      },
      "execution_count": 46,
      "outputs": [
        {
          "output_type": "display_data",
          "data": {
            "image/png": "[encoded data removed]",
            "text/plain": [
              "<Figure size 1440x360 with 2 Axes>"
            ]
          },
          "metadata": {}
        }
      ]
    },
    {
      "cell_type": "markdown",
      "source": [
        "Попробуем увеличить размерности выходов свёрток."
      ],
      "metadata": {
        "id": "kSBWAIjrtdNI"
      }
    },
    {
      "cell_type": "code",
      "source": [
        "model = CNN_LSTM(len(train_dataset.word2id), embedding_dim=300, \n",
        "                 filter_number=300, filter_size=[2, 3, 4], hidden_size=150, \n",
        "                 num_layers=1, weights=weights)\n",
        "criterion = nn.CrossEntropyLoss()\n",
        "optimizer = optim.RMSprop(model.parameters(), lr=0.001, weight_decay=0.001)\n",
        "losses, val_losses, f1s, val_f1s = model_perfomance(model, criterion, optimizer,\n",
        "                                                   DEVICE, 5, train_iterator,\n",
        "                                                   test_iterator)"
      ],
      "metadata": {
        "colab": {
          "base_uri": "https://localhost:8080/",
          "height": 559,
          "referenced_widgets": [
            "2b7565d690154285870c23ad9913f764",
            "a50bbb4bd26e424dad9c565871d80de9",
            "c44629f8aa03494f8a8836d1f2702151",
            "1ea797b7a8f645e99b8091637e208376",
            "9141ef21c79a44eba4257f7eb028e24f",
            "c256a5b355ff483a829267aee32c9ce8",
            "2153b4a2223848668107854484337b87",
            "101b939e9f3f436e8299d56597b2ae97",
            "cbe60b2413124d578100655d128c079b",
            "17d603d34ce44228bcadc3c2c48d2907",
            "ebdc81007ce540429c41eb61c47c9a30"
          ]
        },
        "id": "Tnwt1Mx7ShNE",
        "outputId": "e15aa2b9-fcfc-4b59-f7d2-c2468db60ad6"
      },
      "execution_count": 47,
      "outputs": [
        {
          "output_type": "display_data",
          "data": {
            "application/vnd.jupyter.widget-view+json": {
              "model_id": "2b7565d690154285870c23ad9913f764",
              "version_minor": 0,
              "version_major": 2
            },
            "text/plain": [
              "  0%|          | 0/5 [00:00<?, ?it/s]"
            ]
          },
          "metadata": {}
        },
        {
          "output_type": "stream",
          "name": "stdout",
          "text": [
            "\n",
            "======== Epoch 1 / 5 ========\n",
            "Evaluating on train...\n",
            "F-score: 0.5312398076057434, loss: 1.2978318402556335\n",
            "Evaluating on test...\n",
            "F-score: 0.593296229839325, loss: 1.0873100741489514\n",
            "\n",
            "======== Epoch 2 / 5 ========\n",
            "Evaluating on train...\n",
            "F-score: 0.6117541193962097, loss: 0.9997445969354539\n",
            "Evaluating on test...\n",
            "F-score: 0.615890622138977, loss: 0.9626075786513251\n",
            "\n",
            "======== Epoch 3 / 5 ========\n",
            "Evaluating on train...\n",
            "F-score: 0.6528855562210083, loss: 0.8737967663070783\n",
            "Evaluating on test...\n",
            "F-score: 0.6180605292320251, loss: 0.9468086490759978\n",
            "\n",
            "======== Epoch 4 / 5 ========\n",
            "Evaluating on train...\n",
            "F-score: 0.6794242858886719, loss: 0.7771623803644764\n",
            "Evaluating on test...\n",
            "F-score: 0.6619322299957275, loss: 0.8408762313224174\n",
            "\n",
            "======== Epoch 5 / 5 ========\n",
            "Evaluating on train...\n",
            "F-score: 0.6954629421234131, loss: 0.725027469956145\n",
            "Evaluating on test...\n",
            "F-score: 0.6769790053367615, loss: 0.7757801912926339\n"
          ]
        }
      ]
    },
    {
      "cell_type": "code",
      "source": [
        "plot_losses(losses, val_losses, f1s, val_f1s)"
      ],
      "metadata": {
        "colab": {
          "base_uri": "https://localhost:8080/",
          "height": 355
        },
        "id": "lhOxL18LVLkf",
        "outputId": "97c29f95-2c98-4b4f-f40f-086ed494096a"
      },
      "execution_count": 48,
      "outputs": [
        {
          "output_type": "display_data",
          "data": {
            "image/png": "[encoded data removed]",
            "text/plain": [
              "<Figure size 1440x360 with 2 Axes>"
            ]
          },
          "metadata": {}
        }
      ]
    },
    {
      "cell_type": "markdown",
      "source": [
        "Ура, эта модель неплохо обучилась. Теперь добавим эпох."
      ],
      "metadata": {
        "id": "jWFM7U0Wt01H"
      }
    },
    {
      "cell_type": "code",
      "source": [
        "model = CNN_LSTM(len(train_dataset.word2id), embedding_dim=300, \n",
        "                 filter_number=300, filter_size=[2, 3, 4], hidden_size=150, \n",
        "                 num_layers=1, weights=weights)\n",
        "criterion = nn.CrossEntropyLoss()\n",
        "optimizer = optim.RMSprop(model.parameters(), lr=0.001, weight_decay=0.001)\n",
        "losses, val_losses, f1s, val_f1s = model_perfomance(model, criterion, optimizer,\n",
        "                                                   DEVICE, 10, train_iterator,\n",
        "                                                   test_iterator)"
      ],
      "metadata": {
        "colab": {
          "base_uri": "https://localhost:8080/",
          "height": 1000,
          "referenced_widgets": [
            "61000ed1d01846a5bdd7de9e16398c2a",
            "9bda00df8e4a41b5866086cf3fd81b61",
            "46c78abb869d43ffa883520d750a336b",
            "5b4a8c0e94a3470b82e6b8f1878947e5",
            "36a86218a4b64211b64a72fc9c973724",
            "f28e482937a3468ebd7945b92ad71719",
            "4bc7cf10034144f7ac44552126d48a0a",
            "8f1e2b0657f641fcb1cc96fbcbc10b24",
            "47998f7cdf964788beb3210b4b9f8aa0",
            "2b01531a4ab5425d9da54eabff130d57",
            "128c61a3e57746dc9650589995e8e5f2"
          ]
        },
        "id": "YQNOxT_DVPsW",
        "outputId": "b4a276da-b1e8-4509-8a66-57b8f7462f8f"
      },
      "execution_count": 49,
      "outputs": [
        {
          "output_type": "display_data",
          "data": {
            "application/vnd.jupyter.widget-view+json": {
              "model_id": "61000ed1d01846a5bdd7de9e16398c2a",
              "version_minor": 0,
              "version_major": 2
            },
            "text/plain": [
              "  0%|          | 0/10 [00:00<?, ?it/s]"
            ]
          },
          "metadata": {}
        },
        {
          "output_type": "stream",
          "name": "stdout",
          "text": [
            "\n",
            "======== Epoch 1 / 10 ========\n",
            "Evaluating on train...\n",
            "F-score: 0.550204336643219, loss: 1.183578335914482\n",
            "Evaluating on test...\n",
            "F-score: 0.6020760536193848, loss: 0.9947751631607881\n",
            "\n",
            "======== Epoch 2 / 10 ========\n",
            "Evaluating on train...\n",
            "F-score: 0.6316091418266296, loss: 0.9276738620939708\n",
            "Evaluating on test...\n",
            "F-score: 0.6418267488479614, loss: 0.9054288300308021\n",
            "\n",
            "======== Epoch 3 / 10 ========\n",
            "Evaluating on train...\n",
            "F-score: 0.6671923398971558, loss: 0.8231295047163152\n",
            "Evaluating on test...\n",
            "F-score: 0.5887573957443237, loss: 0.8804256658296328\n",
            "\n",
            "======== Epoch 4 / 10 ========\n",
            "Evaluating on train...\n",
            "F-score: 0.6822077035903931, loss: 0.7481734359345469\n",
            "Evaluating on test...\n",
            "F-score: 0.6727668046951294, loss: 0.7930433879027495\n",
            "\n",
            "======== Epoch 5 / 10 ========\n",
            "Evaluating on train...\n",
            "F-score: 0.69842529296875, loss: 0.6907120716004145\n",
            "Evaluating on test...\n",
            "F-score: 0.673210859298706, loss: 0.7673801070935017\n",
            "\n",
            "======== Epoch 6 / 10 ========\n",
            "Evaluating on train...\n",
            "F-score: 0.7077276706695557, loss: 0.6594857755972414\n",
            "Evaluating on test...\n",
            "F-score: 0.6829473972320557, loss: 0.746903970434859\n",
            "\n",
            "======== Epoch 7 / 10 ========\n",
            "Evaluating on train...\n",
            "F-score: 0.7071744799613953, loss: 0.6459232787696683\n",
            "Evaluating on test...\n",
            "F-score: 0.6870051026344299, loss: 0.7373299083194217\n",
            "\n",
            "======== Epoch 8 / 10 ========\n",
            "Evaluating on train...\n",
            "F-score: 0.7144976258277893, loss: 0.6212996937790696\n",
            "Evaluating on test...\n",
            "F-score: 0.6863017678260803, loss: 0.7400452994011544\n",
            "\n",
            "======== Epoch 9 / 10 ========\n",
            "Evaluating on train...\n",
            "F-score: 0.7163308262825012, loss: 0.608052891533391\n",
            "Evaluating on test...\n",
            "F-score: 0.6684298515319824, loss: 0.7191847917195913\n",
            "\n",
            "======== Epoch 10 / 10 ========\n",
            "Evaluating on train...\n",
            "F-score: 0.7149275541305542, loss: 0.6015252452723834\n",
            "Evaluating on test...\n",
            "F-score: 0.6705750823020935, loss: 0.7064729751767339\n"
          ]
        }
      ]
    },
    {
      "cell_type": "code",
      "source": [
        "plot_losses(losses, val_losses, f1s, val_f1s)"
      ],
      "metadata": {
        "colab": {
          "base_uri": "https://localhost:8080/",
          "height": 355
        },
        "id": "reDEr-I7YwsM",
        "outputId": "eed6fe4f-44c1-4c57-dcbb-4a2c934e5db6"
      },
      "execution_count": 50,
      "outputs": [
        {
          "output_type": "display_data",
          "data": {
            "image/png": "[encoded data removed]",
            "text/plain": [
              "<Figure size 1440x360 with 2 Axes>"
            ]
          },
          "metadata": {}
        }
      ]
    },
    {
      "cell_type": "markdown",
      "source": [
        "Что-то как-то не очень помогли эпохи, но на всякий случай попробуем то же количество эпох на первоначальной размерности выходов свёрток. "
      ],
      "metadata": {
        "id": "x-qtuJbmt9hI"
      }
    },
    {
      "cell_type": "code",
      "source": [
        "model = CNN_LSTM(len(train_dataset.word2id), embedding_dim=300, \n",
        "                 filter_number=150, filter_size=[2, 3, 4], hidden_size=150, \n",
        "                 num_layers=1, weights=weights)\n",
        "criterion = nn.CrossEntropyLoss()\n",
        "optimizer = optim.RMSprop(model.parameters(), lr=0.001, weight_decay=0.001)\n",
        "losses, val_losses, f1s, val_f1s = model_perfomance(model, criterion, optimizer,\n",
        "                                                   DEVICE, 10, train_iterator,\n",
        "                                                   test_iterator)"
      ],
      "metadata": {
        "colab": {
          "base_uri": "https://localhost:8080/",
          "height": 1000,
          "referenced_widgets": [
            "39234ba64c4c477495150d4a37d75827",
            "9625b31c910a462eb0d4a32646c80f92",
            "197a239b212f41768b92d0403fd92f01",
            "10c594bb5c9d4c249a0d92698242cc12",
            "8cb46f62d4d34c45a3889aee10966b0f",
            "2676a9c9ae494006a2e14ca94d732913",
            "2b7061903ea44240ad4416cb76ab0097",
            "eaf48848ed604da0a2cf8f8ef003f81a",
            "093ba4c7ba71475bb8f86409ae2993b0",
            "409e1a2669fc467eb29e7f9674548016",
            "9031704efa3a40d3a47dc1017a03466d"
          ]
        },
        "id": "qleM53BGY37S",
        "outputId": "744c19d1-4e35-4511-be6c-21b9e22f6b82"
      },
      "execution_count": 51,
      "outputs": [
        {
          "output_type": "display_data",
          "data": {
            "application/vnd.jupyter.widget-view+json": {
              "model_id": "39234ba64c4c477495150d4a37d75827",
              "version_minor": 0,
              "version_major": 2
            },
            "text/plain": [
              "  0%|          | 0/10 [00:00<?, ?it/s]"
            ]
          },
          "metadata": {}
        },
        {
          "output_type": "stream",
          "name": "stdout",
          "text": [
            "\n",
            "======== Epoch 1 / 10 ========\n",
            "Evaluating on train...\n",
            "F-score: 0.5564852356910706, loss: 1.2898322810121134\n",
            "Evaluating on test...\n",
            "F-score: 0.6143814921379089, loss: 1.0557143784858085\n",
            "\n",
            "======== Epoch 2 / 10 ========\n",
            "Evaluating on train...\n",
            "F-score: 0.6133955717086792, loss: 1.0341198440311716\n",
            "Evaluating on test...\n",
            "F-score: 0.5938712358474731, loss: 1.03139489405864\n",
            "\n",
            "======== Epoch 3 / 10 ========\n",
            "Evaluating on train...\n",
            "F-score: 0.638859212398529, loss: 0.9529742541767302\n",
            "Evaluating on test...\n",
            "F-score: 0.6293073892593384, loss: 0.9466143057153031\n",
            "\n",
            "======== Epoch 4 / 10 ========\n",
            "Evaluating on train...\n",
            "F-score: 0.6586885452270508, loss: 0.8740624213705257\n",
            "Evaluating on test...\n",
            "F-score: 0.6622573733329773, loss: 0.8717595338821411\n",
            "\n",
            "======== Epoch 5 / 10 ========\n",
            "Evaluating on train...\n",
            "F-score: 0.679766058921814, loss: 0.801422808040567\n",
            "Evaluating on test...\n",
            "F-score: 0.6604125499725342, loss: 0.88620988420538\n",
            "\n",
            "======== Epoch 6 / 10 ========\n",
            "Evaluating on train...\n",
            "F-score: 0.6935400366783142, loss: 0.7457146178297445\n",
            "Evaluating on test...\n",
            "F-score: 0.6772506237030029, loss: 0.7934126853942871\n",
            "\n",
            "======== Epoch 7 / 10 ========\n",
            "Evaluating on train...\n",
            "F-score: 0.703416645526886, loss: 0.7040238733194313\n",
            "Evaluating on test...\n",
            "F-score: 0.6772141456604004, loss: 0.7690443686536841\n",
            "\n",
            "======== Epoch 8 / 10 ========\n",
            "Evaluating on train...\n",
            "F-score: 0.7085137367248535, loss: 0.6789727531322817\n",
            "Evaluating on test...\n",
            "F-score: 0.6845871806144714, loss: 0.7638201665233921\n",
            "\n",
            "======== Epoch 9 / 10 ========\n",
            "Evaluating on train...\n",
            "F-score: 0.7029517889022827, loss: 0.704308616060789\n",
            "Evaluating on test...\n",
            "F-score: 0.6895747780799866, loss: 0.7472035723763544\n",
            "\n",
            "======== Epoch 10 / 10 ========\n",
            "Evaluating on train...\n",
            "F-score: 0.7124045491218567, loss: 0.649691291406852\n",
            "Evaluating on test...\n",
            "F-score: 0.6920725107192993, loss: 0.7232299189309817\n"
          ]
        }
      ]
    },
    {
      "cell_type": "code",
      "source": [
        "plot_losses(losses, val_losses, f1s, val_f1s)"
      ],
      "metadata": {
        "colab": {
          "base_uri": "https://localhost:8080/",
          "height": 355
        },
        "id": "9N5Ro1taY6ZX",
        "outputId": "267b45db-a30d-4e7f-821f-85d7bb8ce929"
      },
      "execution_count": 52,
      "outputs": [
        {
          "output_type": "display_data",
          "data": {
            "image/png": "[encoded data removed]",
            "text/plain": [
              "<Figure size 1440x360 with 2 Axes>"
            ]
          },
          "metadata": {}
        }
      ]
    },
    {
      "cell_type": "markdown",
      "source": [
        "А вот здесь количество эпох неплохо улучшила результаты."
      ],
      "metadata": {
        "id": "qxFwteOtuR4S"
      }
    },
    {
      "cell_type": "markdown",
      "source": [
        "### Выводы"
      ],
      "metadata": {
        "id": "dXC6xG-uuY82"
      }
    },
    {
      "cell_type": "markdown",
      "source": [
        "* Лучшие результаты давала архитектура с 150 выходами у свёрток и LSTM на 10 эпохах, однако на 5 эпохах увеличение выходов LSTM всё-таки показывало результаты чуть выше. Возможно, в данном случае можно ещё добавить эпох, и результаты улучшаться.\n",
        "* Один LSTM слой оказался оптимальный для модели. \n",
        "* В отличие от статьи, несколько фильтров оказалось лучше, чем один. \n",
        "* В целом результаты не очень, но это частично объясняется данными: они очень несбалансированы и, кажется, само распределение на классы довольно странное."
      ],
      "metadata": {
        "id": "yhqDNw1VuaDp"
      }
    },
    {
      "cell_type": "markdown",
      "source": [
        "### RNN Cell"
      ],
      "metadata": {
        "id": "WOzb3LJc1RCE"
      }
    },
    {
      "cell_type": "code",
      "source": [
        "class RNNCell(nn.Module):\n",
        "\n",
        "    def __init__(self, input_dimensions, hidden_size, bias=True):\n",
        "        super().__init__()\n",
        "        self.input_dimensions = input_dimensions\n",
        "        self.hidden_size = hidden_size\n",
        "        self.bias = bias\n",
        "\n",
        "        self.x2h = nn.Linear(input_dimensions, hidden_size, bias=bias)\n",
        "        self.h2h = nn.Linear(hidden_size, hidden_size, bias=bias)\n",
        "\n",
        "        self.reset_parameters()\n",
        "\n",
        "    def reset_parameters(self):\n",
        "        std = 1.0 / np.sqrt(self.hidden_size)\n",
        "        for w in self.parameters():\n",
        "            w.data.uniform_(-std, std)\n",
        "\n",
        "    def forward(self, input, hx=None):\n",
        "        if hx is None:\n",
        "            hx = Variable(input.new_zeros(input.size(0), self.hidden_size))\n",
        "\n",
        "        hy = (self.x2h(input) + self.h2h(hx))\n",
        "        \n",
        "        return hy"
      ],
      "metadata": {
        "id": "n7fqaz1kgdVo"
      },
      "execution_count": 57,
      "outputs": []
    },
    {
      "cell_type": "markdown",
      "source": [
        "### LSTM Cell"
      ],
      "metadata": {
        "id": "Hj3B_ove1WNl"
      }
    },
    {
      "cell_type": "code",
      "source": [
        "class LSTMCell(nn.Module):\n",
        "    def __init__(self, input_dimensions, hidden_size, bias=True):\n",
        "        super().__init__()\n",
        "        self.input_dimensions = input_dimensions\n",
        "        self.hidden_size = hidden_size\n",
        "        self.bias = bias\n",
        "\n",
        "        self.xh = nn.Linear(input_dimensions, hidden_size * 4, bias=bias)\n",
        "        self.hh = nn.Linear(hidden_size, hidden_size * 4, bias=bias)\n",
        "        self.reset_parameters()\n",
        "\n",
        "    def reset_parameters(self):\n",
        "        std = 1.0 / np.sqrt(self.hidden_size)\n",
        "        for w in self.parameters():\n",
        "            w.data.uniform_(-std, std)\n",
        "\n",
        "    def forward(self, input, hx=None):\n",
        "        if hx is None:\n",
        "            hx = Variable(input.new_zeros(input.size(0), self.hidden_size))\n",
        "            hx = (hx, hx)\n",
        "\n",
        "        hx, cx = hx\n",
        "\n",
        "        gates = self.xh(input) + self.hh(hx)\n",
        "\n",
        "        input_gate, forget_gate, cell_gate, output_gate = gates.chunk(4, 1)\n",
        "\n",
        "        i_t = torch.sigmoid(input_gate)\n",
        "        f_t = torch.sigmoid(forget_gate)\n",
        "        g_t = torch.tanh(cell_gate)\n",
        "        o_t = torch.sigmoid(output_gate)\n",
        "\n",
        "        cy = cx * f_t + i_t * g_t\n",
        "        hy = o_t * torch.tanh(cy)\n",
        "\n",
        "        return (hy, cy)"
      ],
      "metadata": {
        "id": "sI2iBJCqhK7f"
      },
      "execution_count": 58,
      "outputs": []
    },
    {
      "cell_type": "markdown",
      "source": [
        "### GRU Cell"
      ],
      "metadata": {
        "id": "M9GuyeC01YeC"
      }
    },
    {
      "cell_type": "code",
      "source": [
        "class GRUCell(nn.Module):\n",
        "\n",
        "    def __init__(self, input_dimensions, hidden_size, bias=True):\n",
        "        super().__init__()\n",
        "        self.input_dimensions = input_dimensions\n",
        "        self.hidden_size = hidden_size\n",
        "        self.bias = bias\n",
        "\n",
        "        self.x2h = nn.Linear(input_dimensions, 3 * hidden_size, bias=bias)\n",
        "        self.h2h = nn.Linear(hidden_size, 3 * hidden_size, bias=bias)\n",
        "\n",
        "        self.reset_parameters()\n",
        "\n",
        "    def reset_parameters(self):\n",
        "        std = 1.0 / np.sqrt(self.hidden_size)\n",
        "        for w in self.parameters():\n",
        "            w.data.uniform_(-std, std)\n",
        "\n",
        "    def forward(self, input, hx=None):\n",
        "        if hx is None:\n",
        "            hx = Variable(input.new_zeros(input.size(0), self.hidden_size))\n",
        "\n",
        "        x_t = self.x2h(input)\n",
        "        h_t = self.h2h(hx)\n",
        "\n",
        "        x_reset, x_upd, x_new = x_t.chunk(3, 1)\n",
        "        h_reset, h_upd, h_new = h_t.chunk(3, 1)\n",
        "\n",
        "        reset_gate = torch.sigmoid(x_reset + h_reset)\n",
        "        update_gate = torch.sigmoid(x_upd + h_upd)\n",
        "        new_gate = torch.tanh(x_new + (reset_gate * h_new))\n",
        "\n",
        "        hy = update_gate * hx + (1 - update_gate) * new_gate\n",
        "\n",
        "        return hy"
      ],
      "metadata": {
        "id": "kX-WmCZVe6lX"
      },
      "execution_count": 55,
      "outputs": []
    },
    {
      "cell_type": "markdown",
      "source": [
        "### RNN Layer"
      ],
      "metadata": {
        "id": "EfVX3bzy1am6"
      }
    },
    {
      "cell_type": "code",
      "source": [
        "class RNNLayer(nn.Module):\n",
        "\n",
        "    def __init__(self, input_dimensions, hidden_size, batch_size, layer):\n",
        "        super().__init__()\n",
        "        self.input_dimensions = input_dimensions\n",
        "        self.hidden_size = hidden_size\n",
        "        self.batch_size = batch_size\n",
        "        self.layer = layer\n",
        "\n",
        "        self.rnncell = RNNCell(self.input_dimensions, self.hidden_size)\n",
        "        self.lstmcell = LSTMCell(self.input_dimensions, self.hidden_size)\n",
        "        self.grucell = GRUCell(self.input_dimensions, self.hidden_size)\n",
        "        \n",
        "        self.h = torch.randn(self.batch_size, self.hidden_size)\n",
        "        self.c = torch.randn(self.batch_size, self.hidden_size)\n",
        "\n",
        "    def forward(self, X):\n",
        "        out = []\n",
        "\n",
        "        for i in range(len(X)):\n",
        "          if self.layer == 'RNN':\n",
        "              self.h = self.rnncell(X[i], self.h)\n",
        "              h = self.h\n",
        "          elif self.layer == 'LSTM':\n",
        "              self.h, self.c = self.lstmcell(X[i], self.h, self.c)\n",
        "              h = (self.h, self.c)\n",
        "          elif self.layer == 'GRU':\n",
        "              self.h = self.grucell(X[i], self.h)\n",
        "              h = self.h\n",
        "          out.append(self.h)  \n",
        "        \n",
        "        return out, h"
      ],
      "metadata": {
        "id": "vgPnJOeki1Q_"
      },
      "execution_count": 61,
      "outputs": []
    }
  ]
}